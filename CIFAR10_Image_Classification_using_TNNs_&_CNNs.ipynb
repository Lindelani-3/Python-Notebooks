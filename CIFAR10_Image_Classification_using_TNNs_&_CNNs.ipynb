{
  "cells": [
    {
      "cell_type": "markdown",
      "metadata": {
        "id": "view-in-github",
        "colab_type": "text"
      },
      "source": [
        "<a href=\"https://colab.research.google.com/github/Lindelani-3/Python-Notebooks/blob/mainBranch/CIFAR10_Image_Classification_using_TNNs_%26_CNNs.ipynb\" target=\"_parent\"><img src=\"https://colab.research.google.com/assets/colab-badge.svg\" alt=\"Open In Colab\"/></a>"
      ]
    },
    {
      "cell_type": "markdown",
      "metadata": {
        "id": "sCVU5B67-XK5"
      },
      "source": [
        "# Setup"
      ]
    },
    {
      "cell_type": "code",
      "execution_count": null,
      "metadata": {
        "id": "ljVm3VMO-HUA"
      },
      "outputs": [],
      "source": [
        "import matplotlib.pyplot as plt\n",
        "import numpy as np\n",
        "import PIL\n",
        "import tensorflow as tf\n",
        "import tensorflow_datasets as tfds\n",
        "from IPython.display import display\n",
        "\n",
        "# for time\n",
        "import time as t"
      ]
    },
    {
      "cell_type": "markdown",
      "metadata": {
        "id": "kLRxY_c8GR-7"
      },
      "source": [
        "# Load dataset"
      ]
    },
    {
      "cell_type": "code",
      "execution_count": null,
      "metadata": {
        "colab": {
          "base_uri": "https://localhost:8080/",
          "referenced_widgets": [
            "7c2e44d70ae34ab8a6157c7a231173a2",
            "c2c16e8599084bf0b5d1cd6088be689b",
            "e229b36f11b943fe997cab4030e615fd",
            "af474de27dc746c8a9891b6046263cc3",
            "2c7059b412864054b161050a93ee634e",
            "b10cae5c9b4b40b69a5db2392822fc31",
            "fe57f5c947ee4cafbde9a9a7327f2fb7",
            "3e05d58d9c52429fa7ac1333d5acdf40",
            "0c4218be972e4dbb8870e9b44fb76245",
            "d12ea58420e5419585801db66347db78",
            "bb22257e1000498b94f909f4069f6779",
            "6c4cb883e7f54006bc31b7379ade5c39",
            "99cb8bef07c7497e815907540d393f48",
            "ac79e270f2ab4595bc383c6d3e026e17",
            "c3b675a44f154026abaf8477fc327294",
            "c02a1d33ccff422a8762167795e4177f",
            "d77174193dfc4f4cb0fb95b4b1a4894e",
            "498f7435589547c182eff8993019bb87",
            "6ddb191cc9204b74b9ae204ddc7adf0f",
            "110e7953bcc544a8a51f0f8ab646280d",
            "1a431a7ad3dd42f3bd4768cd46929a18",
            "c06d64cc80b24012a3a2154ddd1c94fa",
            "4ac4ac2f30384032851a4e7de99a243a",
            "ddd3fe7d090043cbbfcbf6b9f6bc4477",
            "e07f8601283c4a0bab162f53ac804b6d",
            "4e6ed5a87d364eebbdc46dbcffe405ab",
            "c639cdb2ff9642d09d424dee4826b3d4",
            "91e29f77dae147f78f3cad89e69c8e37",
            "3b6e723dfe04467c8eaaeb2bcff0760f",
            "4cd2759bd6a249b5b69f9d86093b77d1",
            "00194f94f74943969d63e89750f9e090",
            "bd814028eb6146669a8b3e2e15d3d082",
            "2be0ceaefd184c35a758edf0c676f3cf",
            "fe83d0c220494d9694b5a6d13b39d1da",
            "1f83955e54194f19805ce9c7d9f7ad6a",
            "e58c906015d749eab035a739569d0801",
            "658d9fdec84442ba811397af30ea7482",
            "3f0bc6cc355647a9bc13c36ebc383607",
            "99016dfb3c98425188d649aa56353196",
            "7a224b4862f34beaa14bcafe4b5b0e71",
            "830547d982934b9983c34a99d2dad762",
            "5372f13baf344184bb501f88733e7da6",
            "1ac29fc300a5469ba11a0ecb4a709c2a",
            "f8d313aae41844dfadc681afa13ed7bf",
            "3c95ca757de14cddb395e87ced7c866d",
            "1e8544e9d73c46608cee257d8018f801",
            "707f89d79c9e49199b29fca03cedf567",
            "5ae9c1f05f974950a45853c99aa495a7",
            "a390cf1b47524444b82b45237af9c246",
            "e67e80246d344c10974e9a13aae04e14",
            "186cd89d49bd4c6a916ba750f3ebf8bb",
            "d919059905b244c795d0b85ac70d43a3",
            "a247bf4ef071420a9287f324abcdb01a",
            "a8e92f65c9524583bdfd2ca9bc16ffe2",
            "92ceb368ab824863967f2473396ca771",
            "dc3bba270d4e4363ac444d4ecd509787",
            "1d981c4dac35483e993c52873698a90b",
            "693ff52e28ae4a93ba78289c2cd72474",
            "42716349bc964d199bfd7148c716a00e",
            "c4c8e973d2824829991900d6508e2d7c",
            "519a6390da4d43b08b4e8d6c40b1bf10",
            "9cb99cbf1b514784bcf1a553a5777147",
            "22c724072bea4a6bb3e0d095e664d4cd",
            "b44e88088afe4cca9f9f979974e2dc08",
            "265d743132484f6fbb5663b9b6f1d47e",
            "405b12577f65461ba3845f0b4d9b25a9",
            "11495a314a7f468bb0cc50a348f1aedb",
            "cc8400c9ed384284a6e51442eed55ea0",
            "91db43391ed0480aab47460c06857664",
            "96be1714a0b94a53945e3efabda4a12c",
            "341783243879465781b4f655e2ba1547",
            "4490ce545e1e4a2e957ab72d6a9ec40a",
            "9a54b59468fc4dbdb9d1f4a516fdaef5",
            "12a8a748ad794207a33d7500d271fcdf",
            "b91c155dd80a427b8088d6e0d4af3ef2",
            "2848e17e7a484d13b49845a270ba06f2",
            "9fb8385f5b594195a47dfafc032a50c3",
            "3dafca0112d7425398237290464ec6f6",
            "68df0fa693294f8283948d32ce2aa9d7",
            "770bc652c7f04e5ab9940a466ccdec19",
            "5039cd6646c94b8782232a44d47d6f17",
            "3a29f7a1c2a744678b8aca26b7c0830c",
            "460ca345877542b2ba7017e78fdbf83e",
            "8ac52faaed824bd9b750740799ff4c55",
            "1c7ab684148b45a89b44e3cf49547439",
            "ebe71f53b5514840b556603dec47b7e0",
            "9a1cd59a3bf24e1dacf2ed0f231f424d",
            "bb40d23b10a64c44b64b626f73182543"
          ]
        },
        "id": "ylbOUj44-r_n",
        "outputId": "9e2ff10e-a39c-4f7e-f235-0a6e9d604afc"
      },
      "outputs": [
        {
          "output_type": "stream",
          "name": "stdout",
          "text": [
            "Downloading and preparing dataset 162.17 MiB (download: 162.17 MiB, generated: 132.40 MiB, total: 294.58 MiB) to /root/tensorflow_datasets/cifar10/3.0.2...\n"
          ]
        },
        {
          "output_type": "display_data",
          "data": {
            "text/plain": [
              "Dl Completed...: 0 url [00:00, ? url/s]"
            ],
            "application/vnd.jupyter.widget-view+json": {
              "version_major": 2,
              "version_minor": 0,
              "model_id": "7c2e44d70ae34ab8a6157c7a231173a2"
            }
          },
          "metadata": {}
        },
        {
          "output_type": "display_data",
          "data": {
            "text/plain": [
              "Dl Size...: 0 MiB [00:00, ? MiB/s]"
            ],
            "application/vnd.jupyter.widget-view+json": {
              "version_major": 2,
              "version_minor": 0,
              "model_id": "6c4cb883e7f54006bc31b7379ade5c39"
            }
          },
          "metadata": {}
        },
        {
          "output_type": "display_data",
          "data": {
            "text/plain": [
              "Extraction completed...: 0 file [00:00, ? file/s]"
            ],
            "application/vnd.jupyter.widget-view+json": {
              "version_major": 2,
              "version_minor": 0,
              "model_id": "4ac4ac2f30384032851a4e7de99a243a"
            }
          },
          "metadata": {}
        },
        {
          "output_type": "display_data",
          "data": {
            "text/plain": [
              "Generating splits...:   0%|          | 0/2 [00:00<?, ? splits/s]"
            ],
            "application/vnd.jupyter.widget-view+json": {
              "version_major": 2,
              "version_minor": 0,
              "model_id": "fe83d0c220494d9694b5a6d13b39d1da"
            }
          },
          "metadata": {}
        },
        {
          "output_type": "display_data",
          "data": {
            "text/plain": [
              "Generating train examples...:   0%|          | 0/50000 [00:00<?, ? examples/s]"
            ],
            "application/vnd.jupyter.widget-view+json": {
              "version_major": 2,
              "version_minor": 0,
              "model_id": "3c95ca757de14cddb395e87ced7c866d"
            }
          },
          "metadata": {}
        },
        {
          "output_type": "display_data",
          "data": {
            "text/plain": [
              "Shuffling /root/tensorflow_datasets/cifar10/3.0.2.incomplete86RIGV/cifar10-train.tfrecord*...:   0%|          …"
            ],
            "application/vnd.jupyter.widget-view+json": {
              "version_major": 2,
              "version_minor": 0,
              "model_id": "dc3bba270d4e4363ac444d4ecd509787"
            }
          },
          "metadata": {}
        },
        {
          "output_type": "display_data",
          "data": {
            "text/plain": [
              "Generating test examples...:   0%|          | 0/10000 [00:00<?, ? examples/s]"
            ],
            "application/vnd.jupyter.widget-view+json": {
              "version_major": 2,
              "version_minor": 0,
              "model_id": "11495a314a7f468bb0cc50a348f1aedb"
            }
          },
          "metadata": {}
        },
        {
          "output_type": "display_data",
          "data": {
            "text/plain": [
              "Shuffling /root/tensorflow_datasets/cifar10/3.0.2.incomplete86RIGV/cifar10-test.tfrecord*...:   0%|          |…"
            ],
            "application/vnd.jupyter.widget-view+json": {
              "version_major": 2,
              "version_minor": 0,
              "model_id": "3dafca0112d7425398237290464ec6f6"
            }
          },
          "metadata": {}
        },
        {
          "output_type": "stream",
          "name": "stdout",
          "text": [
            "Dataset cifar10 downloaded and prepared to /root/tensorflow_datasets/cifar10/3.0.2. Subsequent calls will reuse this data.\n"
          ]
        }
      ],
      "source": [
        "CIFAR10, CIFAR10_info = tfds.load('cifar10', split=['train', 'test'], as_supervised=True, with_info=True)"
      ]
    },
    {
      "cell_type": "markdown",
      "metadata": {
        "id": "VftLWbiFDf52"
      },
      "source": [
        "Dataset info"
      ]
    },
    {
      "cell_type": "code",
      "execution_count": null,
      "metadata": {
        "id": "UlWh7GNp9MxR",
        "colab": {
          "base_uri": "https://localhost:8080/"
        },
        "outputId": "58c4ac81-8200-4bf1-c67d-c46ba886c57c"
      },
      "outputs": [
        {
          "output_type": "display_data",
          "data": {
            "text/plain": [
              "tfds.core.DatasetInfo(\n",
              "    name='cifar10',\n",
              "    full_name='cifar10/3.0.2',\n",
              "    description=\"\"\"\n",
              "    The CIFAR-10 dataset consists of 60000 32x32 colour images in 10 classes, with 6000 images per class. There are 50000 training images and 10000 test images.\n",
              "    \"\"\",\n",
              "    homepage='https://www.cs.toronto.edu/~kriz/cifar.html',\n",
              "    data_path=PosixGPath('/tmp/tmpav8cp41vtfds'),\n",
              "    file_format=tfrecord,\n",
              "    download_size=162.17 MiB,\n",
              "    dataset_size=132.40 MiB,\n",
              "    features=FeaturesDict({\n",
              "        'id': Text(shape=(), dtype=string),\n",
              "        'image': Image(shape=(32, 32, 3), dtype=uint8),\n",
              "        'label': ClassLabel(shape=(), dtype=int64, num_classes=10),\n",
              "    }),\n",
              "    supervised_keys=('image', 'label'),\n",
              "    disable_shuffling=False,\n",
              "    splits={\n",
              "        'test': <SplitInfo num_examples=10000, num_shards=1>,\n",
              "        'train': <SplitInfo num_examples=50000, num_shards=1>,\n",
              "    },\n",
              "    citation=\"\"\"@TECHREPORT{Krizhevsky09learningmultiple,\n",
              "        author = {Alex Krizhevsky},\n",
              "        title = {Learning multiple layers of features from tiny images},\n",
              "        institution = {},\n",
              "        year = {2009}\n",
              "    }\"\"\",\n",
              ")"
            ]
          },
          "metadata": {}
        }
      ],
      "source": [
        "display(CIFAR10_info)"
      ]
    },
    {
      "cell_type": "code",
      "execution_count": null,
      "metadata": {
        "colab": {
          "base_uri": "https://localhost:8080/"
        },
        "id": "aSITBncpDlkD",
        "outputId": "f85264a8-e9b1-441f-9cce-fa90aee2aba0"
      },
      "outputs": [
        {
          "output_type": "stream",
          "name": "stdout",
          "text": [
            "10\n",
            "['airplane', 'automobile', 'bird', 'cat', 'deer', 'dog', 'frog', 'horse', 'ship', 'truck']\n"
          ]
        }
      ],
      "source": [
        "print(CIFAR10_info.features[\"label\"].num_classes)\n",
        "print(CIFAR10_info.features[\"label\"].names)"
      ]
    },
    {
      "cell_type": "markdown",
      "metadata": {
        "id": "GIVqfVMJIxTH"
      },
      "source": [
        "Set number of classes for later"
      ]
    },
    {
      "cell_type": "code",
      "execution_count": null,
      "metadata": {
        "id": "B6mj5rY1I1pq"
      },
      "outputs": [],
      "source": [
        "k = CIFAR10_info.features[\"label\"].num_classes"
      ]
    },
    {
      "cell_type": "markdown",
      "metadata": {
        "id": "z8B-HjuzKUxO"
      },
      "source": [
        "Get image dimensions"
      ]
    },
    {
      "cell_type": "code",
      "execution_count": null,
      "metadata": {
        "colab": {
          "base_uri": "https://localhost:8080/"
        },
        "id": "OrHsW5eiKXuO",
        "outputId": "e3d675b5-99e6-4f1a-8344-427573f3daea"
      },
      "outputs": [
        {
          "output_type": "display_data",
          "data": {
            "text/plain": [
              "FeaturesDict({\n",
              "    'id': Text(shape=(), dtype=string),\n",
              "    'image': Image(shape=(32, 32, 3), dtype=uint8),\n",
              "    'label': ClassLabel(shape=(), dtype=int64, num_classes=10),\n",
              "})"
            ]
          },
          "metadata": {}
        }
      ],
      "source": [
        "features = CIFAR10_info.features\n",
        "display(features)"
      ]
    },
    {
      "cell_type": "code",
      "execution_count": null,
      "metadata": {
        "colab": {
          "base_uri": "https://localhost:8080/"
        },
        "id": "1nEeJF2CLymi",
        "outputId": "8446e20d-e9dc-42e9-c3cf-796105f273f1"
      },
      "outputs": [
        {
          "output_type": "execute_result",
          "data": {
            "text/plain": [
              "(32, 32, 3)"
            ]
          },
          "metadata": {},
          "execution_count": 7
        }
      ],
      "source": [
        "h, w, f = features['image'].shape\n",
        "h, w, f"
      ]
    },
    {
      "cell_type": "markdown",
      "metadata": {
        "id": "L9cE55Mi_e4A"
      },
      "source": [
        "### Unpack into training and testing"
      ]
    },
    {
      "cell_type": "code",
      "execution_count": null,
      "metadata": {
        "colab": {
          "base_uri": "https://localhost:8080/"
        },
        "id": "UfFlChgq8vUC",
        "outputId": "b08a8524-6aa7-4619-9a45-56e894f7595e"
      },
      "outputs": [
        {
          "output_type": "stream",
          "name": "stdout",
          "text": [
            "<class 'tensorflow.python.data.ops.prefetch_op._PrefetchDataset'>\n",
            "50000\n",
            "\n",
            "<class 'tensorflow.python.data.ops.prefetch_op._PrefetchDataset'>\n",
            "10000\n",
            "\n"
          ]
        }
      ],
      "source": [
        "for dataset in CIFAR10:\n",
        "  print(type(dataset))\n",
        "  print(len(dataset))\n",
        "  print()\n",
        "\n",
        "D_train, D_test = CIFAR10"
      ]
    },
    {
      "cell_type": "markdown",
      "metadata": {
        "id": "09fwR4rmIdxw"
      },
      "source": [
        "Create validation dataset\n",
        "\n"
      ]
    },
    {
      "cell_type": "code",
      "execution_count": null,
      "metadata": {
        "colab": {
          "base_uri": "https://localhost:8080/"
        },
        "id": "htCeDrLOIrkC",
        "outputId": "fc32dd4c-f167-455d-9e44-fd2974ded6fd"
      },
      "outputs": [
        {
          "output_type": "stream",
          "name": "stdout",
          "text": [
            "5000\n",
            "45000\n"
          ]
        }
      ],
      "source": [
        "D_val = D_train.take(int(0.1*len(D_train)))\n",
        "D_train = D_train.skip(int(0.1*len(D_train)))\n",
        "\n",
        "print(len(D_val))\n",
        "print(len(D_train))"
      ]
    },
    {
      "cell_type": "markdown",
      "metadata": {
        "id": "I3KHVSGv_3vl"
      },
      "source": [
        "### View some samples"
      ]
    },
    {
      "cell_type": "markdown",
      "metadata": {
        "id": "j1QkdNFQNPJh"
      },
      "source": [
        "Get a sense of what labels look like"
      ]
    },
    {
      "cell_type": "code",
      "execution_count": null,
      "metadata": {
        "id": "gr917LHYN-5W"
      },
      "outputs": [],
      "source": [
        "it = D_train.as_numpy_iterator()\n",
        "sample = it.next()"
      ]
    },
    {
      "cell_type": "code",
      "execution_count": null,
      "metadata": {
        "colab": {
          "base_uri": "https://localhost:8080/"
        },
        "id": "hSfNU4guNUZI",
        "outputId": "df44c30d-8bf6-4ea8-903a-ed7eb56b9d1d"
      },
      "outputs": [
        {
          "output_type": "stream",
          "name": "stdout",
          "text": [
            "2\n",
            "(32, 32, 3)\n",
            "7\n"
          ]
        }
      ],
      "source": [
        "print(len(sample)) # should be 2, the image and label\n",
        "print(sample[0].shape) # the image\n",
        "print(sample[1]) # the label"
      ]
    },
    {
      "cell_type": "markdown",
      "metadata": {
        "id": "-ZbQPfkEPrMO"
      },
      "source": [
        "Visualise data"
      ]
    },
    {
      "cell_type": "code",
      "execution_count": null,
      "metadata": {
        "colab": {
          "base_uri": "https://localhost:8080/"
        },
        "id": "VOktTVWtBUpP",
        "outputId": "c37784a7-b0e3-4583-c289-c4babb6f6bc5"
      },
      "outputs": [
        {
          "output_type": "execute_result",
          "data": {
            "text/plain": [
              "                                               image  label\n",
              "0  [[[97, 140, 189], [100, 144, 191], [106, 146, ...      7\n",
              "1  [[[114, 132, 130], [105, 126, 122], [112, 136,...      9\n",
              "2  [[[175, 177, 190], [174, 176, 189], [176, 177,...      8\n",
              "3  [[[126, 144, 136], [102, 115, 112], [89, 100, ...      7\n",
              "4  [[[74, 62, 45], [60, 51, 33], [60, 55, 35], [5...      3\n",
              "5  [[[83, 104, 128], [71, 89, 106], [68, 86, 88],...      4\n",
              "6  [[[186, 189, 194], [185, 188, 193], [186, 189,...      5\n",
              "7  [[[110, 143, 126], [78, 116, 99], [30, 61, 58]...      7\n",
              "8  [[[41, 66, 88], [29, 35, 34], [35, 44, 47], [3...      9\n",
              "9  [[[57, 65, 21], [60, 68, 20], [63, 71, 25], [5...      9"
            ],
            "text/html": [
              "\n",
              "  <div id=\"df-be80d36f-dd99-4397-bed1-9473df1dad81\">\n",
              "    <div class=\"colab-df-container\">\n",
              "      <style type=\"text/css\">\n",
              "</style>\n",
              "<table id=\"T_5167d\">\n",
              "  <thead>\n",
              "    <tr>\n",
              "      <th class=\"blank level0\" >&nbsp;</th>\n",
              "      <th id=\"T_5167d_level0_col0\" class=\"col_heading level0 col0\" >image</th>\n",
              "      <th id=\"T_5167d_level0_col1\" class=\"col_heading level0 col1\" >label</th>\n",
              "    </tr>\n",
              "  </thead>\n",
              "  <tbody>\n",
              "    <tr>\n",
              "      <th id=\"T_5167d_level0_row0\" class=\"row_heading level0 row0\" >0</th>\n",
              "      <td id=\"T_5167d_row0_col0\" class=\"data row0 col0\" ><img src=\"data:image/png;base64,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\" alt=\"Img\" /></td>\n",
              "      <td id=\"T_5167d_row0_col1\" class=\"data row0 col1\" >7 (horse)</td>\n",
              "    </tr>\n",
              "    <tr>\n",
              "      <th id=\"T_5167d_level0_row1\" class=\"row_heading level0 row1\" >1</th>\n",
              "      <td id=\"T_5167d_row1_col0\" class=\"data row1 col0\" ><img src=\"data:image/png;base64,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\" alt=\"Img\" /></td>\n",
              "      <td id=\"T_5167d_row1_col1\" class=\"data row1 col1\" >9 (truck)</td>\n",
              "    </tr>\n",
              "    <tr>\n",
              "      <th id=\"T_5167d_level0_row2\" class=\"row_heading level0 row2\" >2</th>\n",
              "      <td id=\"T_5167d_row2_col0\" class=\"data row2 col0\" ><img src=\"data:image/png;base64,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\" alt=\"Img\" /></td>\n",
              "      <td id=\"T_5167d_row2_col1\" class=\"data row2 col1\" >8 (ship)</td>\n",
              "    </tr>\n",
              "    <tr>\n",
              "      <th id=\"T_5167d_level0_row3\" class=\"row_heading level0 row3\" >3</th>\n",
              "      <td id=\"T_5167d_row3_col0\" class=\"data row3 col0\" ><img src=\"data:image/png;base64,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\" alt=\"Img\" /></td>\n",
              "      <td id=\"T_5167d_row3_col1\" class=\"data row3 col1\" >7 (horse)</td>\n",
              "    </tr>\n",
              "    <tr>\n",
              "      <th id=\"T_5167d_level0_row4\" class=\"row_heading level0 row4\" >4</th>\n",
              "      <td id=\"T_5167d_row4_col0\" class=\"data row4 col0\" ><img src=\"data:image/png;base64,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\" alt=\"Img\" /></td>\n",
              "      <td id=\"T_5167d_row4_col1\" class=\"data row4 col1\" >3 (cat)</td>\n",
              "    </tr>\n",
              "    <tr>\n",
              "      <th id=\"T_5167d_level0_row5\" class=\"row_heading level0 row5\" >5</th>\n",
              "      <td id=\"T_5167d_row5_col0\" class=\"data row5 col0\" ><img src=\"data:image/png;base64,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\" alt=\"Img\" /></td>\n",
              "      <td id=\"T_5167d_row5_col1\" class=\"data row5 col1\" >4 (deer)</td>\n",
              "    </tr>\n",
              "    <tr>\n",
              "      <th id=\"T_5167d_level0_row6\" class=\"row_heading level0 row6\" >6</th>\n",
              "      <td id=\"T_5167d_row6_col0\" class=\"data row6 col0\" ><img src=\"data:image/png;base64,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\" alt=\"Img\" /></td>\n",
              "      <td id=\"T_5167d_row6_col1\" class=\"data row6 col1\" >5 (dog)</td>\n",
              "    </tr>\n",
              "    <tr>\n",
              "      <th id=\"T_5167d_level0_row7\" class=\"row_heading level0 row7\" >7</th>\n",
              "      <td id=\"T_5167d_row7_col0\" class=\"data row7 col0\" ><img src=\"data:image/png;base64,iVBORw0KGgoAAAANSUhEUgAAACAAAAAgCAIAAAD8GO2jAAAJ10lEQVR4nCWVy29c53mH3/f7vnOZmXPmPhxyyCEpiSIt+YLKsazWhqTaARJEbjcBgrbZNMgfEATILosAXXTTRdNk0V27aBHkhgRpCtgwmqayldaSIskWKcuSKIpDccjh3Mi5n/Od7/J2oWf1rJ7l74ff+eEPGgcHn936opBZe+Xia/OvFlJB6v5/f9x7uF2rLYSelxsnF86/tLyx4iqVTnORzmgWxvncrY+u2+bhqY2zufnFe1uPDlqH+Wym3eu//1/XU9nSP/7Tj5q7u//w93/HgrOnc6++FK6tSp2cnBy3R4PeeNwfDpdWVmqLi8QoXwq5HH/6/n9GjZ2lQklHRkr7+MH27tO9C2/+WTpf7k3iyqkz1/76m5e+8lVgOBv2rY6iaJTO+eXFiiil8m0/mju10u4/H3SPcj2PkbOQyi/72RS5jf3Wam0ee7H7rEFSHaXD+pUvU7Zyb+dDOZNhuWwdb9g9WVvfqCzVvni4lcqkvv6X1wqLK9PpcHPr/sqpZfF2/dx8ddEex0f4JNFmMpkVKyVifKe5r+P48FnzNGPGwfJw4mNn79ad+beuFiul9TNnVhcqw3h246MbzzuDP7VYnU6v37jxdHv7S+fOvXzhT7YeP7lz8+bKcl2MjjqBx5fdTLS2vLS0MmbwcOvhweYDmMT9TrsW5Kdad0961eO+4exgMt7Z/Cy/sbFar41H3m8+/O3Pf/nbwvwypjPxdVnIZ9bPbjT2D6z30AI7v3burUtvCL+QXinNrVXn1ZXL86WFncbh9z743cHdh9VsnibxUMjGST+YDVJEPaNSc/OJjI2KRoPuf/zmVx9/evPb3/7WlXe/9mhn78Hm5te+8q5LyeNHj6q1Uwjs5o0bn9/7TGQspC2lMpkkESk0cwG+d/nN108tdQ5a24293NICN5OuEK+89RcKEAtzTZspbn6e9VMvnVlrt5o0GN/8/Uet4fjg+bN//uGtw+Z+kMuXSnOT8URw9nDrPn5+9xMueDbMWmsTqxQpzkXKD+788e6t23dA0+hgd3v72auX3um2u180DnyfX1zJr62tCS/961/8rDuYtGe6vnEuDD0z6+7vN9NBnoAYY6+99uqTx4/E9hf3uBBn184SkUXIFosqUSaeGjk72HkqW731WrESeE8aTx/tN/uD0Vq1PIv5cb9bW6jXyqXDXj8I05VisLRU9bBcyGXjhIIgCMOgvrxcDAMxPG4HQWY27htjHC/FbW4aTcfRSX1+/vzG+v/tNmYTcCixchamMo7rra8vr69WBbqe69YXa4eTaWGx/vqlS+ViNvSZvKC8VBgEGc/zMpkMAom9RiOdTh/3j5VWQbbwZjoLwJDx2kL16jvvzCaj1ue3+t1Wfrny3jf+yi/kVurFWuhpw13kvW7L329duXL12nvXPA6ewxARGCNLRKSUMjoR2vDy3FKhUHAcJ18s54sVx3ERHUc4G2Epnyt88G/j/uGBmg6uvn2xvv4SUeyBIicYnQyeNFu3720WqotffffLbjbkgGSNtZoIEJEjAoD47ve+zwUXQjDOueNoaxlyhoII0sKXJ5OUxWLG39rfubt5e3njjMccMGYymz148vgPf7zbORl+/PEn+988WL389nQ4ArSCIedIgJosMhR+mDfGWgBLoDUxxg2gsRaAGIOjVnN6uL0+n33cmb7/k399pZharC0fPt9utTufPnk26ByBwztT+bv/+WSlXC1V5kAgWsUYGGutQWNRmEQiICAgMkaIZIEAEYlIcJjFU9fBxfnqZZYd9tp/+Pm/5ML8aNCr1OsBOMwSN1ZK/e8//en929f/5lt/++fvXA2EY60Ca8kAWCMEAoAFAARixNAyAEAEIgKCmUxmBkqF3LXV9fb+7qjVxKmcy6XCjL9zOCqVSgM9GGlluLm9eaf5464fuJdfvwDJmJIoiqVKpDCARIiIQMCRM2IExIABABD2et1Wf4AwX3YNDx3dNam0X6yWelo2D4/KtVobnePOaPlM3RuLQa/94S9+UtZD184onkRxFEVSABEQESFjDMmQVZYIObfG8Mj2Wvu9k0Gn02HxmCwL8sV0kOF+atyddYezZ51Zce20W4dcIfXm2fN+NHvWaGze+GAudG0ys9ZIRYIGh5astYQIsZJJNJFSOo6DiACQhqm11Op0AyyAWzjRbmJ40h9v7bQeNY72h4ljsFhbKherq7WUPxVpZ9HEkylwo6QmTDSI7VsfyjimF9gErXyhnDMCXvCShWpZqvioNzqaRLu942zOyeULe51R63hMLDXcbw0PO0VzvOavVrhyMx5YL9bKYEoSKjBi7/GmMRYQGGOcAZH2PJcIGENADsbhxEcRlKr5MOu9XK8FKcgXi1E4+v3jnp2pMM2mRj7vDf732cnFEj+d94gxw5k2lrQhpcR0OiECzhkA+L5vrCXQjuNYTdomU6m63dFSJbNwagVdTxvPoQQEJEYrsmlfvPHyUm8w2B1EJ0MbB6kkUohkgCttldJJkogk0YhojEWGXGkiC6Q541prJkS3fzKN4mJlFZCZRBuNaBMFqtvtRjKaL5Uunl4AqP76xtaj+w8qciV3Op92LONWWSuNVkSMCIiAMe4KjywQAQDT2hpDjPH+8cggemFGKq0TbRNjlLbauA4XgmkVqWm/XvLeOL/q++7mXrPRn0WKx1LLREqVKGuY0aSVNZq0ti+6idQqMS/EcV3u+sz1pTaJVFKqWCXG6DDtpwT3BLq+sGqyXA1feflMxGBz76g/M4l9MXpGKSOkVIwxra0QRgjOGDDGrNUAZCw5rutnUpHWUpEjQVltQCKolCtC11kslfO5IsSDtNJpHc/lMs12f7eUe/1MBaLYRWYBhUoSZMiQKZVwLoTgwnE4J2stWhpNpo7vtLud+dKiQzCdKmkV2iQbFhbnKh6ytMh40biArOZxyKX3rW0PJ9KUUGmGHA0IxhljnIAYIheuZWIqNRdMaYuOaHamwhXE4P7Dp45BwR3uoEbu5Z18Lkyi2cng2LcWGC6V0kEKfBd3m93uYJzzXEqUsSR6EwWopUwQkJiMpI1kZAgMUKLNfndcqWRVVzJjBIGHkM2mSXizk0HGw3KYm87GigHnVimVcVk540f5tCu4NkDGEpHoTSQCSqkQ0ZAeTaJEJ3GSAEdtreM4CIDIPN+Pp1EsZ4TAHYVRHApyUFltFALnnAthrRVgKtmMh8wmklkiQDFfCAGRc84ZQyaUsYasVEpZAwhIoLVMey4SKBcIUowLssZ1BBnrOpwhIQDnPEkSBAh81+XCAbKIFlBpIwKuARFBIzCOmnscGCL3UTCtNQNDxnGEyxgQeZocA45WiWAI1liyhgAAZRxbohenIhhZqw1ZY62y9v8B2Vzoo/IvtCUAAAAASUVORK5CYII=\" alt=\"Img\" /></td>\n",
              "      <td id=\"T_5167d_row7_col1\" class=\"data row7 col1\" >7 (horse)</td>\n",
              "    </tr>\n",
              "    <tr>\n",
              "      <th id=\"T_5167d_level0_row8\" class=\"row_heading level0 row8\" >8</th>\n",
              "      <td id=\"T_5167d_row8_col0\" class=\"data row8 col0\" ><img src=\"data:image/png;base64,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\" alt=\"Img\" /></td>\n",
              "      <td id=\"T_5167d_row8_col1\" class=\"data row8 col1\" >9 (truck)</td>\n",
              "    </tr>\n",
              "    <tr>\n",
              "      <th id=\"T_5167d_level0_row9\" class=\"row_heading level0 row9\" >9</th>\n",
              "      <td id=\"T_5167d_row9_col0\" class=\"data row9 col0\" ><img src=\"data:image/png;base64,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\" alt=\"Img\" /></td>\n",
              "      <td id=\"T_5167d_row9_col1\" class=\"data row9 col1\" >9 (truck)</td>\n",
              "    </tr>\n",
              "  </tbody>\n",
              "</table>\n",
              "\n",
              "      <button class=\"colab-df-convert\" onclick=\"convertToInteractive('df-be80d36f-dd99-4397-bed1-9473df1dad81')\"\n",
              "              title=\"Convert this dataframe to an interactive table.\"\n",
              "              style=\"display:none;\">\n",
              "        \n",
              "  <svg xmlns=\"http://www.w3.org/2000/svg\" height=\"24px\"viewBox=\"0 0 24 24\"\n",
              "       width=\"24px\">\n",
              "    <path d=\"M0 0h24v24H0V0z\" fill=\"none\"/>\n",
              "    <path d=\"M18.56 5.44l.94 2.06.94-2.06 2.06-.94-2.06-.94-.94-2.06-.94 2.06-2.06.94zm-11 1L8.5 8.5l.94-2.06 2.06-.94-2.06-.94L8.5 2.5l-.94 2.06-2.06.94zm10 10l.94 2.06.94-2.06 2.06-.94-2.06-.94-.94-2.06-.94 2.06-2.06.94z\"/><path d=\"M17.41 7.96l-1.37-1.37c-.4-.4-.92-.59-1.43-.59-.52 0-1.04.2-1.43.59L10.3 9.45l-7.72 7.72c-.78.78-.78 2.05 0 2.83L4 21.41c.39.39.9.59 1.41.59.51 0 1.02-.2 1.41-.59l7.78-7.78 2.81-2.81c.8-.78.8-2.07 0-2.86zM5.41 20L4 18.59l7.72-7.72 1.47 1.35L5.41 20z\"/>\n",
              "  </svg>\n",
              "      </button>\n",
              "      \n",
              "  <style>\n",
              "    .colab-df-container {\n",
              "      display:flex;\n",
              "      flex-wrap:wrap;\n",
              "      gap: 12px;\n",
              "    }\n",
              "\n",
              "    .colab-df-convert {\n",
              "      background-color: #E8F0FE;\n",
              "      border: none;\n",
              "      border-radius: 50%;\n",
              "      cursor: pointer;\n",
              "      display: none;\n",
              "      fill: #1967D2;\n",
              "      height: 32px;\n",
              "      padding: 0 0 0 0;\n",
              "      width: 32px;\n",
              "    }\n",
              "\n",
              "    .colab-df-convert:hover {\n",
              "      background-color: #E2EBFA;\n",
              "      box-shadow: 0px 1px 2px rgba(60, 64, 67, 0.3), 0px 1px 3px 1px rgba(60, 64, 67, 0.15);\n",
              "      fill: #174EA6;\n",
              "    }\n",
              "\n",
              "    [theme=dark] .colab-df-convert {\n",
              "      background-color: #3B4455;\n",
              "      fill: #D2E3FC;\n",
              "    }\n",
              "\n",
              "    [theme=dark] .colab-df-convert:hover {\n",
              "      background-color: #434B5C;\n",
              "      box-shadow: 0px 1px 3px 1px rgba(0, 0, 0, 0.15);\n",
              "      filter: drop-shadow(0px 1px 2px rgba(0, 0, 0, 0.3));\n",
              "      fill: #FFFFFF;\n",
              "    }\n",
              "  </style>\n",
              "\n",
              "      <script>\n",
              "        const buttonEl =\n",
              "          document.querySelector('#df-be80d36f-dd99-4397-bed1-9473df1dad81 button.colab-df-convert');\n",
              "        buttonEl.style.display =\n",
              "          google.colab.kernel.accessAllowed ? 'block' : 'none';\n",
              "\n",
              "        async function convertToInteractive(key) {\n",
              "          const element = document.querySelector('#df-be80d36f-dd99-4397-bed1-9473df1dad81');\n",
              "          const dataTable =\n",
              "            await google.colab.kernel.invokeFunction('convertToInteractive',\n",
              "                                                     [key], {});\n",
              "          if (!dataTable) return;\n",
              "\n",
              "          const docLinkHtml = 'Like what you see? Visit the ' +\n",
              "            '<a target=\"_blank\" href=https://colab.research.google.com/notebooks/data_table.ipynb>data table notebook</a>'\n",
              "            + ' to learn more about interactive tables.';\n",
              "          element.innerHTML = '';\n",
              "          dataTable['output_type'] = 'display_data';\n",
              "          await google.colab.output.renderOutput(dataTable, element);\n",
              "          const docLink = document.createElement('div');\n",
              "          docLink.innerHTML = docLinkHtml;\n",
              "          element.appendChild(docLink);\n",
              "        }\n",
              "      </script>\n",
              "    </div>\n",
              "  </div>\n",
              "  "
            ]
          },
          "metadata": {},
          "execution_count": 12
        }
      ],
      "source": [
        "tfds.as_dataframe(D_train.take(10), CIFAR10_info)"
      ]
    },
    {
      "cell_type": "markdown",
      "metadata": {
        "id": "WDVotZXlG7xM"
      },
      "source": [
        "### Build a training pipeline"
      ]
    },
    {
      "cell_type": "markdown",
      "metadata": {
        "id": "z2-yewVqHq56"
      },
      "source": [
        "The RGB channel values are in the [0, 255] range. This is not ideal for a neural network; and we should opt to make our input values smaller. We will thus standardize values to be in the [0, 1] range."
      ]
    },
    {
      "cell_type": "code",
      "execution_count": null,
      "metadata": {
        "id": "km7GtSPkFrH7"
      },
      "outputs": [],
      "source": [
        "def normalize_img(image, label):\n",
        "  \"\"\"Normalizes images: `uint8` -> `float32`.\"\"\"\n",
        "  return tf.cast(image, tf.float32) / 255., label"
      ]
    },
    {
      "cell_type": "code",
      "execution_count": null,
      "metadata": {
        "id": "ind5twoAFybb"
      },
      "outputs": [],
      "source": [
        "D_train = D_train.map(normalize_img, num_parallel_calls=tf.data.AUTOTUNE)\n",
        "D_train = D_train.cache()\n",
        "D_train = D_train.shuffle(CIFAR10_info.splits['train'].num_examples)\n",
        "D_train = D_train.batch(128)\n",
        "D_train = D_train.prefetch(tf.data.AUTOTUNE)"
      ]
    },
    {
      "cell_type": "markdown",
      "metadata": {
        "id": "4idZaG1uGbye"
      },
      "source": [
        "### Build an evaluation pipeline"
      ]
    },
    {
      "cell_type": "code",
      "execution_count": null,
      "metadata": {
        "id": "wbPJ_iY9Rvyp"
      },
      "outputs": [],
      "source": [
        "D_val = D_val.map(normalize_img, num_parallel_calls=tf.data.AUTOTUNE)\n",
        "D_val = D_val.batch(128)\n",
        "D_val = D_val.cache()\n",
        "D_val = D_val.prefetch(tf.data.AUTOTUNE)"
      ]
    },
    {
      "cell_type": "markdown",
      "metadata": {
        "id": "Fm5pt3FdR4_a"
      },
      "source": [
        "### Build a testing pipeline"
      ]
    },
    {
      "cell_type": "code",
      "execution_count": null,
      "metadata": {
        "id": "_5X-6KWkGf8U"
      },
      "outputs": [],
      "source": [
        "D_test = D_test.map(normalize_img, num_parallel_calls=tf.data.AUTOTUNE)\n",
        "D_test = D_test.batch(128)\n",
        "D_test = D_test.cache()\n",
        "D_test = D_test.prefetch(tf.data.AUTOTUNE)"
      ]
    },
    {
      "cell_type": "markdown",
      "metadata": {
        "id": "WezQOg9nIy4Z"
      },
      "source": [
        "# Create and train models"
      ]
    },
    {
      "cell_type": "markdown",
      "metadata": {
        "id": "AmtX5c14jwnz"
      },
      "source": [
        "### Loss and Optimizer functions"
      ]
    },
    {
      "cell_type": "markdown",
      "metadata": {
        "id": "M9lAddVOj-pL"
      },
      "source": [
        "We will choose the tf.keras.optimizers.Adam optimizer and tf.keras.losses.SparseCategoricalCrossentropy loss function. \n",
        "\n",
        "Adam is a popular optimizer for neural networks and is a good choice for deep neural networks & large datasets, because it can converge quickly under the given conditions.\n",
        "\n",
        "Sparse Categorical Crossentropy is a commonly used loss function for multiclass classification problems. We will also use it because our target variable is represented as integers (instead of one-hot encoded vectors).\n",
        "\n",
        "To view training and validation accuracy for each training epoch, we can simply pass the metrics argument to Model.compile."
      ]
    },
    {
      "cell_type": "code",
      "execution_count": null,
      "metadata": {
        "id": "wP-SKkSLMtyE"
      },
      "outputs": [],
      "source": [
        "ADAM = tf.keras.optimizers.Adam()\n",
        "SCCE = tf.keras.losses.SparseCategoricalCrossentropy(from_logits=True) \n",
        "SCA = [tf.keras.metrics.SparseCategoricalAccuracy()]"
      ]
    },
    {
      "cell_type": "markdown",
      "metadata": {
        "id": "_5RKOO8pMamY"
      },
      "source": [
        "The Lion Optimizer"
      ]
    },
    {
      "cell_type": "code",
      "execution_count": null,
      "metadata": {
        "id": "yu30ZjrUMjZZ"
      },
      "outputs": [],
      "source": [
        "# Copyright 2023 Google Research. All Rights Reserved.\n",
        "#\n",
        "# Licensed under the Apache License, Version 2.0 (the \"License\");\n",
        "# you may not use this file except in compliance with the License.\n",
        "# You may obtain a copy of the License at\n",
        "#\n",
        "#     http://www.apache.org/licenses/LICENSE-2.0\n",
        "#\n",
        "# Unless required by applicable law or agreed to in writing, software\n",
        "# distributed under the License is distributed on an \"AS IS\" BASIS,\n",
        "# WITHOUT WARRANTIES OR CONDITIONS OF ANY KIND, either express or implied.\n",
        "# See the License for the specific language governing permissions and\n",
        "# limitations under the License.\n",
        "# ==============================================================================\n",
        "\"\"\"TF2 implementation of the Lion optimizer.\"\"\"\n",
        "\n",
        "import tensorflow.compat.v2 as tf\n",
        "\n",
        "\n",
        "class Lion(tf.keras.optimizers.legacy.Optimizer):\n",
        "  r\"\"\"Optimizer that implements the Lion algorithm.\"\"\"\n",
        "\n",
        "  def __init__(self,\n",
        "               learning_rate=0.0001,\n",
        "               beta_1=0.9,\n",
        "               beta_2=0.99,\n",
        "               wd=0,\n",
        "               name='lion',\n",
        "               **kwargs):\n",
        "    \"\"\"Construct a new Lion optimizer.\"\"\"\n",
        "\n",
        "    super(Lion, self).__init__(name, **kwargs)\n",
        "    self._set_hyper('learning_rate', kwargs.get('lr', learning_rate))\n",
        "    self._set_hyper('beta_1', beta_1)\n",
        "    self._set_hyper('beta_2', beta_2)\n",
        "    self._set_hyper('wd', wd)\n",
        "\n",
        "  def _create_slots(self, var_list):\n",
        "    # Create slots for the first and second moments.\n",
        "    # Separate for-loops to respect the ordering of slot variables from v1.\n",
        "    for var in var_list:\n",
        "      self.add_slot(var, 'm')\n",
        "\n",
        "  def _prepare_local(self, var_device, var_dtype, apply_state):\n",
        "    super(Lion, self)._prepare_local(var_device, var_dtype, apply_state)\n",
        "\n",
        "    beta_1_t = tf.identity(self._get_hyper('beta_1', var_dtype))\n",
        "    beta_2_t = tf.identity(self._get_hyper('beta_2', var_dtype))\n",
        "    wd_t = tf.identity(self._get_hyper('wd', var_dtype))\n",
        "    lr = apply_state[(var_device, var_dtype)]['lr_t']\n",
        "    apply_state[(var_device, var_dtype)].update(\n",
        "        dict(\n",
        "            lr=lr,\n",
        "            beta_1_t=beta_1_t,\n",
        "            one_minus_beta_1_t=1 - beta_1_t,\n",
        "            beta_2_t=beta_2_t,\n",
        "            one_minus_beta_2_t=1 - beta_2_t,\n",
        "            wd_t=wd_t))\n",
        "\n",
        "  @tf.function(jit_compile=True)\n",
        "  def _resource_apply_dense(self, grad, var, apply_state=None):\n",
        "    var_device, var_dtype = var.device, var.dtype.base_dtype\n",
        "    coefficients = ((apply_state or {}).get((var_device, var_dtype)) or\n",
        "                    self._fallback_apply_state(var_device, var_dtype))\n",
        "\n",
        "    m = self.get_slot(var, 'm')\n",
        "    var_t = var.assign_sub(\n",
        "        coefficients['lr_t'] *\n",
        "        (tf.math.sign(m * coefficients['beta_1_t'] +\n",
        "                      grad * coefficients['one_minus_beta_1_t']) +\n",
        "         var * coefficients['wd_t']))\n",
        "    with tf.control_dependencies([var_t]):\n",
        "      m.assign(m * coefficients['beta_2_t'] +\n",
        "               grad * coefficients['one_minus_beta_2_t'])\n",
        "\n",
        "  @tf.function(jit_compile=True)\n",
        "  def _resource_apply_sparse(self, grad, var, indices, apply_state=None):\n",
        "    var_device, var_dtype = var.device, var.dtype.base_dtype\n",
        "    coefficients = ((apply_state or {}).get((var_device, var_dtype)) or\n",
        "                    self._fallback_apply_state(var_device, var_dtype))\n",
        "\n",
        "    m = self.get_slot(var, 'm')\n",
        "    m_t = m.assign(m * coefficients['beta_1_t'])\n",
        "    m_scaled_g_values = grad * coefficients['one_minus_beta_1_t']\n",
        "    m_t = m_t.scatter_add(tf.IndexedSlices(m_scaled_g_values, indices))\n",
        "    var_t = var.assign_sub(coefficients['lr'] *\n",
        "                           (tf.math.sign(m_t) + var * coefficients['wd_t']))\n",
        "\n",
        "    with tf.control_dependencies([var_t]):\n",
        "      m_t = m_t.scatter_add(tf.IndexedSlices(-m_scaled_g_values, indices))\n",
        "      m_t = m_t.assign(m_t * coefficients['beta_2_t'] /\n",
        "                       coefficients['beta_1_t'])\n",
        "      m_scaled_g_values = grad * coefficients['one_minus_beta_2_t']\n",
        "      m_t.scatter_add(tf.IndexedSlices(m_scaled_g_values, indices))\n",
        "\n",
        "  def get_config(self):\n",
        "    config = super(Lion, self).get_config()\n",
        "    config.update({\n",
        "        'learning_rate': self._serialize_hyperparameter('learning_rate'),\n",
        "        'beta_1': self._serialize_hyperparameter('beta_1'),\n",
        "        'beta_2': self._serialize_hyperparameter('beta_2'),\n",
        "        'wd': self._serialize_hyperparameter('wd'),\n",
        "    })\n",
        "    return config"
      ]
    },
    {
      "cell_type": "code",
      "execution_count": null,
      "metadata": {
        "id": "v7Tgq8wiMou_"
      },
      "outputs": [],
      "source": [
        "LION = Lion()"
      ]
    },
    {
      "cell_type": "markdown",
      "metadata": {
        "id": "xq1LzZNOarrI"
      },
      "source": [
        "Define function for visualising model performance"
      ]
    },
    {
      "cell_type": "code",
      "execution_count": null,
      "metadata": {
        "id": "EUsQLhFAa2jl"
      },
      "outputs": [],
      "source": [
        "def visualise(model_history, accuracy_metric, epochs):\n",
        "  acc = model_history.history[accuracy_metric]\n",
        "  val_accuracy_metric = 'val_'+accuracy_metric\n",
        "  val_acc = model_history.history[val_accuracy_metric]\n",
        "\n",
        "  loss = model_history.history['loss']\n",
        "  val_loss = model_history.history['val_loss']\n",
        "\n",
        "  epochs_range = range(epochs)\n",
        "\n",
        "  plt.figure(figsize=(8, 5))\n",
        "  plt.subplot(1, 2, 1)\n",
        "  plt.plot(epochs_range, acc, label='Training Accuracy')\n",
        "  plt.plot(epochs_range, val_acc, label='Validation Accuracy')\n",
        "  plt.legend(loc='lower right')\n",
        "  plt.title('Training and Validation Accuracy')\n",
        "\n",
        "  plt.subplot(1, 2, 2)\n",
        "  plt.plot(epochs_range, loss, label='Training Loss')\n",
        "  plt.plot(epochs_range, val_loss, label='Validation Loss')\n",
        "  plt.legend(loc='upper right')\n",
        "  plt.title('Training and Validation Loss')\n",
        "  plt.show()"
      ]
    },
    {
      "cell_type": "markdown",
      "metadata": {
        "id": "RRwJyoKAJB2I"
      },
      "source": [
        "## Traditional Neural Network"
      ]
    },
    {
      "cell_type": "markdown",
      "metadata": {
        "id": "tUrwboqxJxNm"
      },
      "source": [
        "Creating the model"
      ]
    },
    {
      "cell_type": "code",
      "execution_count": null,
      "metadata": {
        "id": "pC3HoAzfJ_eu",
        "outputId": "483250bd-d71d-44a4-f1bc-bd15ce8434ba",
        "colab": {
          "base_uri": "https://localhost:8080/"
        }
      },
      "outputs": [
        {
          "output_type": "stream",
          "name": "stdout",
          "text": [
            "Model: \"sequential_17\"\n",
            "_________________________________________________________________\n",
            " Layer (type)                Output Shape              Param #   \n",
            "=================================================================\n",
            " flatten_15 (Flatten)        (None, 3072)              0         \n",
            "                                                                 \n",
            " dense_97 (Dense)            (None, 1024)              3146752   \n",
            "                                                                 \n",
            " dense_98 (Dense)            (None, 512)               524800    \n",
            "                                                                 \n",
            " dense_99 (Dense)            (None, 256)               131328    \n",
            "                                                                 \n",
            " dense_100 (Dense)           (None, 128)               32896     \n",
            "                                                                 \n",
            " dense_101 (Dense)           (None, 10)                1290      \n",
            "                                                                 \n",
            "=================================================================\n",
            "Total params: 3,837,066\n",
            "Trainable params: 3,837,066\n",
            "Non-trainable params: 0\n",
            "_________________________________________________________________\n"
          ]
        }
      ],
      "source": [
        "neural_net = tf.keras.models.Sequential([\n",
        "  tf.keras.layers.Flatten(input_shape=(h, w, f)),\n",
        "  tf.keras.layers.Dense(1024, activation='sigmoid'),\n",
        "  tf.keras.layers.Dense(512, activation='relu'),\n",
        "  tf.keras.layers.Dense(256, activation='sigmoid'),\n",
        "  tf.keras.layers.Dense(128, activation='relu'),\n",
        "  tf.keras.layers.Dense(k)\n",
        "])\n",
        "\n",
        "neural_net.compile(\n",
        "    optimizer = tf.keras.optimizers.Adam(),\n",
        "    loss = tf.keras.losses.SparseCategoricalCrossentropy(from_logits=True),\n",
        "    metrics = [tf.keras.metrics.SparseCategoricalAccuracy()]\n",
        ")\n",
        "\n",
        "neural_net.summary()"
      ]
    },
    {
      "cell_type": "markdown",
      "metadata": {
        "id": "hjX4kmgkRKzL"
      },
      "source": [
        "Train model, epochs=25, optimizer=ADAM"
      ]
    },
    {
      "cell_type": "code",
      "execution_count": null,
      "metadata": {
        "colab": {
          "base_uri": "https://localhost:8080/"
        },
        "id": "OGSkc_luRMnE",
        "outputId": "5b541fc8-fa20-4836-c374-a52b26e60943"
      },
      "outputs": [
        {
          "output_type": "stream",
          "name": "stdout",
          "text": [
            "Epoch 1/25\n",
            "352/352 [==============================] - 4s 5ms/step - loss: 1.9522 - sparse_categorical_accuracy: 0.2815 - val_loss: 1.8225 - val_sparse_categorical_accuracy: 0.3474\n",
            "Epoch 2/25\n",
            "352/352 [==============================] - 2s 6ms/step - loss: 1.7460 - sparse_categorical_accuracy: 0.3662 - val_loss: 1.7212 - val_sparse_categorical_accuracy: 0.3820\n",
            "Epoch 3/25\n",
            "352/352 [==============================] - 2s 6ms/step - loss: 1.6656 - sparse_categorical_accuracy: 0.3963 - val_loss: 1.6656 - val_sparse_categorical_accuracy: 0.4052\n",
            "Epoch 4/25\n",
            "352/352 [==============================] - 2s 5ms/step - loss: 1.6070 - sparse_categorical_accuracy: 0.4232 - val_loss: 1.6392 - val_sparse_categorical_accuracy: 0.4192\n",
            "Epoch 5/25\n",
            "352/352 [==============================] - 2s 5ms/step - loss: 1.5722 - sparse_categorical_accuracy: 0.4349 - val_loss: 1.5839 - val_sparse_categorical_accuracy: 0.4306\n",
            "Epoch 6/25\n",
            "352/352 [==============================] - 2s 5ms/step - loss: 1.5335 - sparse_categorical_accuracy: 0.4463 - val_loss: 1.5704 - val_sparse_categorical_accuracy: 0.4354\n",
            "Epoch 7/25\n",
            "352/352 [==============================] - 2s 5ms/step - loss: 1.5024 - sparse_categorical_accuracy: 0.4573 - val_loss: 1.5657 - val_sparse_categorical_accuracy: 0.4422\n",
            "Epoch 8/25\n",
            "352/352 [==============================] - 2s 5ms/step - loss: 1.4753 - sparse_categorical_accuracy: 0.4658 - val_loss: 1.5356 - val_sparse_categorical_accuracy: 0.4446\n",
            "Epoch 9/25\n",
            "352/352 [==============================] - 2s 5ms/step - loss: 1.4597 - sparse_categorical_accuracy: 0.4767 - val_loss: 1.5281 - val_sparse_categorical_accuracy: 0.4494\n",
            "Epoch 10/25\n",
            "352/352 [==============================] - 2s 5ms/step - loss: 1.4418 - sparse_categorical_accuracy: 0.4796 - val_loss: 1.5003 - val_sparse_categorical_accuracy: 0.4594\n",
            "Epoch 11/25\n",
            "352/352 [==============================] - 2s 5ms/step - loss: 1.4215 - sparse_categorical_accuracy: 0.4875 - val_loss: 1.5065 - val_sparse_categorical_accuracy: 0.4592\n",
            "Epoch 12/25\n",
            "352/352 [==============================] - 2s 5ms/step - loss: 1.4064 - sparse_categorical_accuracy: 0.4922 - val_loss: 1.4863 - val_sparse_categorical_accuracy: 0.4690\n",
            "Epoch 13/25\n",
            "352/352 [==============================] - 2s 5ms/step - loss: 1.3885 - sparse_categorical_accuracy: 0.4994 - val_loss: 1.4694 - val_sparse_categorical_accuracy: 0.4868\n",
            "Epoch 14/25\n",
            "352/352 [==============================] - 2s 6ms/step - loss: 1.3703 - sparse_categorical_accuracy: 0.5067 - val_loss: 1.4443 - val_sparse_categorical_accuracy: 0.4800\n",
            "Epoch 15/25\n",
            "352/352 [==============================] - 2s 5ms/step - loss: 1.3579 - sparse_categorical_accuracy: 0.5065 - val_loss: 1.4699 - val_sparse_categorical_accuracy: 0.4774\n",
            "Epoch 16/25\n",
            "352/352 [==============================] - 2s 5ms/step - loss: 1.3356 - sparse_categorical_accuracy: 0.5168 - val_loss: 1.4356 - val_sparse_categorical_accuracy: 0.4822\n",
            "Epoch 17/25\n",
            "352/352 [==============================] - 2s 5ms/step - loss: 1.3235 - sparse_categorical_accuracy: 0.5202 - val_loss: 1.4489 - val_sparse_categorical_accuracy: 0.4850\n",
            "Epoch 18/25\n",
            "352/352 [==============================] - 2s 5ms/step - loss: 1.3185 - sparse_categorical_accuracy: 0.5263 - val_loss: 1.4407 - val_sparse_categorical_accuracy: 0.4952\n",
            "Epoch 19/25\n",
            "352/352 [==============================] - 2s 5ms/step - loss: 1.3046 - sparse_categorical_accuracy: 0.5293 - val_loss: 1.4943 - val_sparse_categorical_accuracy: 0.4806\n",
            "Epoch 20/25\n",
            "352/352 [==============================] - 2s 6ms/step - loss: 1.2926 - sparse_categorical_accuracy: 0.5316 - val_loss: 1.4630 - val_sparse_categorical_accuracy: 0.4890\n",
            "Epoch 21/25\n",
            "352/352 [==============================] - 2s 5ms/step - loss: 1.2744 - sparse_categorical_accuracy: 0.5371 - val_loss: 1.4559 - val_sparse_categorical_accuracy: 0.4862\n",
            "Epoch 22/25\n",
            "352/352 [==============================] - 2s 5ms/step - loss: 1.2558 - sparse_categorical_accuracy: 0.5461 - val_loss: 1.4152 - val_sparse_categorical_accuracy: 0.5084\n",
            "Epoch 23/25\n",
            "352/352 [==============================] - 2s 5ms/step - loss: 1.2596 - sparse_categorical_accuracy: 0.5478 - val_loss: 1.4279 - val_sparse_categorical_accuracy: 0.4898\n",
            "Epoch 24/25\n",
            "352/352 [==============================] - 2s 5ms/step - loss: 1.2312 - sparse_categorical_accuracy: 0.5555 - val_loss: 1.4421 - val_sparse_categorical_accuracy: 0.4864\n",
            "Epoch 25/25\n",
            "352/352 [==============================] - 3s 9ms/step - loss: 1.2326 - sparse_categorical_accuracy: 0.5513 - val_loss: 1.4555 - val_sparse_categorical_accuracy: 0.4838\n",
            "55.247188568115234\n"
          ]
        }
      ],
      "source": [
        "epochs = 25\n",
        "\n",
        "t1 = t.time()\n",
        "neural_net_history = neural_net.fit(\n",
        "    D_train,\n",
        "    validation_data=D_val,\n",
        "    epochs=epochs,\n",
        ")\n",
        "t2 = t.time()\n",
        "print(t2-t1)"
      ]
    },
    {
      "cell_type": "code",
      "execution_count": null,
      "metadata": {
        "id": "0JvLSFmlV4Ex",
        "colab": {
          "base_uri": "https://localhost:8080/"
        },
        "outputId": "88cf71ce-2579-49d7-d58a-dd0a44d99be8"
      },
      "outputs": [
        {
          "output_type": "stream",
          "name": "stdout",
          "text": [
            "79/79 [==============================] - 0s 3ms/step - loss: 1.4313 - sparse_categorical_accuracy: 0.4873\n"
          ]
        }
      ],
      "source": [
        "loss, accuracy = neural_net.evaluate(D_test)"
      ]
    },
    {
      "cell_type": "code",
      "execution_count": null,
      "metadata": {
        "id": "_I13j4KYUT1x"
      },
      "outputs": [],
      "source": [
        "it = D_test.as_numpy_iterator()"
      ]
    },
    {
      "cell_type": "code",
      "execution_count": null,
      "metadata": {
        "id": "tuVroWIMVs8g"
      },
      "outputs": [],
      "source": [
        "sample = it.next()"
      ]
    },
    {
      "cell_type": "code",
      "execution_count": null,
      "metadata": {
        "id": "IRvhRRETV18w",
        "colab": {
          "base_uri": "https://localhost:8080/"
        },
        "outputId": "551d6e96-0afa-4f0b-9818-5b55ab59e764"
      },
      "outputs": [
        {
          "output_type": "stream",
          "name": "stdout",
          "text": [
            "<class 'tuple'>\n",
            "2\n",
            "128\n",
            "128\n"
          ]
        }
      ],
      "source": [
        "print(type(sample))\n",
        "print(len(sample))\n",
        "print(len(sample[0]))\n",
        "print(len(sample[1]))"
      ]
    },
    {
      "cell_type": "code",
      "execution_count": null,
      "metadata": {
        "id": "IYJGcTg1XMXX"
      },
      "outputs": [],
      "source": [
        "x = sample[0][0]\n",
        "y_true = sample[1][0]"
      ]
    },
    {
      "cell_type": "code",
      "execution_count": null,
      "metadata": {
        "id": "6OtGWwlsZZUx",
        "colab": {
          "base_uri": "https://localhost:8080/"
        },
        "outputId": "fdc50001-f3d2-4e09-9c80-f766bd67f251"
      },
      "outputs": [
        {
          "output_type": "stream",
          "name": "stdout",
          "text": [
            "1/1 [==============================] - 0s 94ms/step\n"
          ]
        },
        {
          "output_type": "execute_result",
          "data": {
            "text/plain": [
              "array([[-1.3998038 , -1.4038389 ,  0.30976665,  2.2100775 ,  0.6492289 ,\n",
              "         1.8976017 ,  0.8040381 ,  1.0984766 , -1.5327808 , -1.0350889 ]],\n",
              "      dtype=float32)"
            ]
          },
          "metadata": {},
          "execution_count": 84
        }
      ],
      "source": [
        "y_pred = neural_net.predict(tf.expand_dims(input=x, axis=0))\n",
        "y_pred"
      ]
    },
    {
      "cell_type": "markdown",
      "metadata": {
        "id": "jsmzPiDkbPBW"
      },
      "source": [
        "Visualise model performance"
      ]
    },
    {
      "cell_type": "code",
      "execution_count": null,
      "metadata": {
        "id": "RaSffDXDbVBj",
        "colab": {
          "base_uri": "https://localhost:8080/",
          "height": 468
        },
        "outputId": "b1ca4b8f-6c9f-4710-e26a-90ec25afcb22"
      },
      "outputs": [
        {
          "output_type": "display_data",
          "data": {
            "text/plain": [
              "<Figure size 800x500 with 2 Axes>"
            ],
            "image/png": "[encoded data removed]"
          },
          "metadata": {}
        }
      ],
      "source": [
        "visualise(neural_net_history, 'sparse_categorical_accuracy', epochs)"
      ]
    },
    {
      "cell_type": "markdown",
      "metadata": {
        "id": "Zkot9dH07Dze"
      },
      "source": [
        "Our model consists of 5 layers; 4 hidden layers and 1 output layer with no activation function. The first and third layer are sigmoid activated and the other are two relu activated. It also uses the Adam optimizer, SCCE loss function and SCA as an accuracy metric.\n",
        "\n",
        "The use of sigmoid and relu activation functions, as opposed to the simpler linear activation function, allows our Neural Network model (of 3,837,066 parameters) to reach an accuracy of at least 48%. This is quite low, as this means that our classification model most likely fails 52% of the time. But is very expected and understandable of a Traditional Neural Network.\n",
        "\n",
        "At over 10 epochs, out of a total of 25 and taking approximately 55 seconds to finish, we also start noticing some overfitting over the training data. The model isn't as good at classifying the validation data, as it is with the training data."
      ]
    },
    {
      "cell_type": "markdown",
      "metadata": {
        "id": "2rvpskYFbZm5"
      },
      "source": [
        "### Traditional Neural Network 2"
      ]
    },
    {
      "cell_type": "code",
      "execution_count": null,
      "metadata": {
        "id": "vL0lUc8GbZm6",
        "colab": {
          "base_uri": "https://localhost:8080/"
        },
        "outputId": "4279d999-80a7-496d-cbb9-5a0606898d71"
      },
      "outputs": [
        {
          "output_type": "stream",
          "name": "stdout",
          "text": [
            "Model: \"sequential_19\"\n",
            "_________________________________________________________________\n",
            " Layer (type)                Output Shape              Param #   \n",
            "=================================================================\n",
            " flatten_17 (Flatten)        (None, 3072)              0         \n",
            "                                                                 \n",
            " dense_110 (Dense)           (None, 2048)              6293504   \n",
            "                                                                 \n",
            " dense_111 (Dense)           (None, 4096)              8392704   \n",
            "                                                                 \n",
            " dense_112 (Dense)           (None, 2048)              8390656   \n",
            "                                                                 \n",
            " dense_113 (Dense)           (None, 1024)              2098176   \n",
            "                                                                 \n",
            " dense_114 (Dense)           (None, 512)               524800    \n",
            "                                                                 \n",
            " dense_115 (Dense)           (None, 256)               131328    \n",
            "                                                                 \n",
            " dense_116 (Dense)           (None, 128)               32896     \n",
            "                                                                 \n",
            " dense_117 (Dense)           (None, 10)                1290      \n",
            "                                                                 \n",
            "=================================================================\n",
            "Total params: 25,865,354\n",
            "Trainable params: 25,865,354\n",
            "Non-trainable params: 0\n",
            "_________________________________________________________________\n"
          ]
        }
      ],
      "source": [
        "neural_net_2 = tf.keras.models.Sequential([\n",
        "  tf.keras.layers.Flatten(input_shape=(h, w, 3)),\n",
        "  tf.keras.layers.Dense(2048, activation='sigmoid'),\n",
        "  tf.keras.layers.Dense(4096, activation='relu'),\n",
        "  tf.keras.layers.Dense(2048, activation='sigmoid'),\n",
        "  tf.keras.layers.Dense(1024, activation='sigmoid'),\n",
        "  tf.keras.layers.Dense(512, activation='relu'),\n",
        "  tf.keras.layers.Dense(256, activation='sigmoid'),\n",
        "  tf.keras.layers.Dense(128, activation='relu'),\n",
        "  tf.keras.layers.Dense(k)\n",
        "])\n",
        "\n",
        "neural_net_2.compile(\n",
        "    optimizer = tf.keras.optimizers.Adam(),\n",
        "    loss = tf.keras.losses.SparseCategoricalCrossentropy(from_logits=True),\n",
        "    metrics = [tf.keras.metrics.SparseCategoricalAccuracy()]\n",
        "    )\n",
        "\n",
        "neural_net_2.summary()"
      ]
    },
    {
      "cell_type": "code",
      "execution_count": null,
      "metadata": {
        "id": "JtQyCjIJbZm6",
        "outputId": "64651496-ec74-4312-9c5b-786f04e7c73b",
        "colab": {
          "base_uri": "https://localhost:8080/"
        }
      },
      "outputs": [
        {
          "output_type": "stream",
          "name": "stdout",
          "text": [
            "Epoch 1/20\n",
            "352/352 [==============================] - 7s 12ms/step - loss: 2.3123 - sparse_categorical_accuracy: 0.0996 - val_loss: 2.3092 - val_sparse_categorical_accuracy: 0.0942\n",
            "Epoch 2/20\n",
            "352/352 [==============================] - 4s 11ms/step - loss: 2.1534 - sparse_categorical_accuracy: 0.1619 - val_loss: 2.0628 - val_sparse_categorical_accuracy: 0.1880\n",
            "Epoch 3/20\n",
            "352/352 [==============================] - 4s 11ms/step - loss: 2.0477 - sparse_categorical_accuracy: 0.1978 - val_loss: 2.0883 - val_sparse_categorical_accuracy: 0.1788\n",
            "Epoch 4/20\n",
            "352/352 [==============================] - 4s 11ms/step - loss: 2.0208 - sparse_categorical_accuracy: 0.2051 - val_loss: 2.0552 - val_sparse_categorical_accuracy: 0.1848\n",
            "Epoch 5/20\n",
            "352/352 [==============================] - 4s 11ms/step - loss: 2.0027 - sparse_categorical_accuracy: 0.2105 - val_loss: 2.0208 - val_sparse_categorical_accuracy: 0.1970\n",
            "Epoch 6/20\n",
            "352/352 [==============================] - 4s 11ms/step - loss: 1.9921 - sparse_categorical_accuracy: 0.2128 - val_loss: 2.0322 - val_sparse_categorical_accuracy: 0.2118\n",
            "Epoch 7/20\n",
            "352/352 [==============================] - 4s 11ms/step - loss: 1.9819 - sparse_categorical_accuracy: 0.2170 - val_loss: 1.9832 - val_sparse_categorical_accuracy: 0.2116\n",
            "Epoch 8/20\n",
            "352/352 [==============================] - 4s 11ms/step - loss: 1.9718 - sparse_categorical_accuracy: 0.2227 - val_loss: 2.0034 - val_sparse_categorical_accuracy: 0.2252\n",
            "Epoch 9/20\n",
            "352/352 [==============================] - 4s 11ms/step - loss: 1.9632 - sparse_categorical_accuracy: 0.2225 - val_loss: 1.9727 - val_sparse_categorical_accuracy: 0.2228\n",
            "Epoch 10/20\n",
            "352/352 [==============================] - 4s 12ms/step - loss: 1.9502 - sparse_categorical_accuracy: 0.2286 - val_loss: 1.9815 - val_sparse_categorical_accuracy: 0.2214\n",
            "Epoch 11/20\n",
            "352/352 [==============================] - 4s 11ms/step - loss: 1.9470 - sparse_categorical_accuracy: 0.2353 - val_loss: 1.9664 - val_sparse_categorical_accuracy: 0.2340\n",
            "Epoch 12/20\n",
            "352/352 [==============================] - 4s 11ms/step - loss: 1.9307 - sparse_categorical_accuracy: 0.2438 - val_loss: 1.9611 - val_sparse_categorical_accuracy: 0.2480\n",
            "Epoch 13/20\n",
            "352/352 [==============================] - 4s 12ms/step - loss: 1.9188 - sparse_categorical_accuracy: 0.2546 - val_loss: 1.9303 - val_sparse_categorical_accuracy: 0.2584\n",
            "Epoch 14/20\n",
            "352/352 [==============================] - 4s 11ms/step - loss: 1.9095 - sparse_categorical_accuracy: 0.2634 - val_loss: 2.0534 - val_sparse_categorical_accuracy: 0.2042\n",
            "Epoch 15/20\n",
            "352/352 [==============================] - 4s 11ms/step - loss: 1.9203 - sparse_categorical_accuracy: 0.2605 - val_loss: 1.9197 - val_sparse_categorical_accuracy: 0.2626\n",
            "Epoch 16/20\n",
            "352/352 [==============================] - 4s 12ms/step - loss: 1.8589 - sparse_categorical_accuracy: 0.2815 - val_loss: 1.8836 - val_sparse_categorical_accuracy: 0.2824\n",
            "Epoch 17/20\n",
            "352/352 [==============================] - 4s 11ms/step - loss: 1.8429 - sparse_categorical_accuracy: 0.2899 - val_loss: 1.8550 - val_sparse_categorical_accuracy: 0.3024\n",
            "Epoch 18/20\n",
            "352/352 [==============================] - 4s 11ms/step - loss: 1.8125 - sparse_categorical_accuracy: 0.3065 - val_loss: 1.8474 - val_sparse_categorical_accuracy: 0.3032\n",
            "Epoch 19/20\n",
            "352/352 [==============================] - 5s 13ms/step - loss: 1.7880 - sparse_categorical_accuracy: 0.3224 - val_loss: 1.8146 - val_sparse_categorical_accuracy: 0.3264\n",
            "Epoch 20/20\n",
            "352/352 [==============================] - 5s 14ms/step - loss: 1.7765 - sparse_categorical_accuracy: 0.3281 - val_loss: 1.9203 - val_sparse_categorical_accuracy: 0.2978\n",
            "88.57770991325378\n"
          ]
        }
      ],
      "source": [
        "epochs = 20\n",
        "\n",
        "t1 = t.time()\n",
        "neural_net_2_history = neural_net_2.fit(\n",
        "    D_train,\n",
        "    validation_data=D_val,\n",
        "    epochs=epochs,\n",
        ")\n",
        "t2 = t.time()\n",
        "print(t2-t1)"
      ]
    },
    {
      "cell_type": "code",
      "execution_count": null,
      "metadata": {
        "id": "668HLJu0bZm7",
        "outputId": "c536ddc1-b9db-491a-c875-a2e8fcddcd94",
        "colab": {
          "base_uri": "https://localhost:8080/"
        }
      },
      "outputs": [
        {
          "output_type": "stream",
          "name": "stdout",
          "text": [
            "79/79 [==============================] - 0s 5ms/step - loss: 1.8809 - sparse_categorical_accuracy: 0.3046\n"
          ]
        }
      ],
      "source": [
        "loss, accuracy = neural_net_2.evaluate(D_test)"
      ]
    },
    {
      "cell_type": "code",
      "execution_count": null,
      "metadata": {
        "id": "ysyL9Pv2bZm7",
        "outputId": "e194c4b0-3ee3-473a-efdc-16e0ffcaf02c",
        "colab": {
          "base_uri": "https://localhost:8080/",
          "height": 468
        }
      },
      "outputs": [
        {
          "output_type": "display_data",
          "data": {
            "text/plain": [
              "<Figure size 800x500 with 2 Axes>"
            ],
            "image/png": "[encoded data removed]"
          },
          "metadata": {}
        }
      ],
      "source": [
        "visualise(neural_net_2_history, 'sparse_categorical_accuracy', epochs)"
      ]
    },
    {
      "cell_type": "markdown",
      "source": [
        "Our next model consists of 3 more hidden layers for a total of 8. This time, only the 2nd, 5th and 7th layers are relu activated, the rest are sigmoid. Even though it also uses the Adam optimizer, SCCE and SCA; because we use more sigmoid functions, and from having more layers and param eters in general, we expect our training to take longer. \n",
        "\n",
        "The more epochs and parameters we use, the higher the accuracy with respect to the training data. But also, with the more epochs we use, the more our traditional neural network model tends overfits to the training data. Not much overfitting is shown by our model, but at an accuracy of 30%, a loss of 1.88 and over 25 000 000 parameters; the model is able to poorly classify the training data, as relatively good as the validation data. Meaning it is most likely to make the wrong prediction approximately 70% of the time."
      ],
      "metadata": {
        "id": "hw9ECvZjNnpD"
      }
    },
    {
      "cell_type": "markdown",
      "metadata": {
        "id": "8tuA_gbhbZm7"
      },
      "source": [
        "### Traditional neural Network 3"
      ]
    },
    {
      "cell_type": "code",
      "execution_count": null,
      "metadata": {
        "id": "XU_10zSsbZm7",
        "colab": {
          "base_uri": "https://localhost:8080/"
        },
        "outputId": "383641ca-001d-4846-fed9-c3b333213610"
      },
      "outputs": [
        {
          "output_type": "stream",
          "name": "stdout",
          "text": [
            "Model: \"sequential_5\"\n",
            "_________________________________________________________________\n",
            " Layer (type)                Output Shape              Param #   \n",
            "=================================================================\n",
            " flatten_6 (Flatten)         (None, 3072)              0         \n",
            "                                                                 \n",
            " dense_18 (Dense)            (None, 2048)              6293504   \n",
            "                                                                 \n",
            " dropout_3 (Dropout)         (None, 2048)              0         \n",
            "                                                                 \n",
            " dense_19 (Dense)            (None, 4096)              8392704   \n",
            "                                                                 \n",
            " dropout_4 (Dropout)         (None, 4096)              0         \n",
            "                                                                 \n",
            " dense_20 (Dense)            (None, 2048)              8390656   \n",
            "                                                                 \n",
            " dense_21 (Dense)            (None, 1024)              2098176   \n",
            "                                                                 \n",
            " dense_22 (Dense)            (None, 512)               524800    \n",
            "                                                                 \n",
            " dense_23 (Dense)            (None, 256)               131328    \n",
            "                                                                 \n",
            " dense_24 (Dense)            (None, 128)               32896     \n",
            "                                                                 \n",
            " dropout_5 (Dropout)         (None, 128)               0         \n",
            "                                                                 \n",
            " dense_25 (Dense)            (None, 10)                1290      \n",
            "                                                                 \n",
            "=================================================================\n",
            "Total params: 25,865,354\n",
            "Trainable params: 25,865,354\n",
            "Non-trainable params: 0\n",
            "_________________________________________________________________\n"
          ]
        }
      ],
      "source": [
        "neural_net_3 = tf.keras.models.Sequential([\n",
        "  tf.keras.layers.Flatten(input_shape=(h, w, 3)),\n",
        "  tf.keras.layers.Dense(2048, activation='sigmoid'),\n",
        "  tf.keras.layers.Dropout(0.2),\n",
        "  tf.keras.layers.Dense(4096, activation='relu'),\n",
        "  tf.keras.layers.Dropout(0.2),\n",
        "  tf.keras.layers.Dense(2048, activation='sigmoid'),\n",
        "  tf.keras.layers.Dense(1024, activation='sigmoid'),\n",
        "  tf.keras.layers.Dense(512, activation='relu'),\n",
        "  tf.keras.layers.Dense(256, activation='sigmoid'),\n",
        "  tf.keras.layers.Dense(128, activation='relu', kernel_regularizer=tf.keras.regularizers.l2(0.01)),\n",
        "  tf.keras.layers.Dropout(0.2),\n",
        "  tf.keras.layers.Dense(k)\n",
        "])\n",
        "\n",
        "neural_net_3.compile(\n",
        "    optimizer = LION,\n",
        "    loss = tf.keras.losses.SparseCategoricalCrossentropy(from_logits=True),\n",
        "    metrics = [tf.keras.metrics.SparseCategoricalAccuracy()]\n",
        "    )\n",
        "\n",
        "neural_net_3.summary()"
      ]
    },
    {
      "cell_type": "code",
      "execution_count": null,
      "metadata": {
        "id": "tYgxijf-bZm8",
        "outputId": "64240dec-82c9-4f20-c768-2b5bc8ed9043",
        "colab": {
          "base_uri": "https://localhost:8080/"
        }
      },
      "outputs": [
        {
          "output_type": "stream",
          "name": "stdout",
          "text": [
            "Epoch 1/25\n",
            "352/352 [==============================] - 5s 11ms/step - loss: 3.2906 - sparse_categorical_accuracy: 0.1677 - val_loss: 2.7015 - val_sparse_categorical_accuracy: 0.2108\n",
            "Epoch 2/25\n",
            "352/352 [==============================] - 4s 11ms/step - loss: 2.3611 - sparse_categorical_accuracy: 0.2292 - val_loss: 2.0989 - val_sparse_categorical_accuracy: 0.2630\n",
            "Epoch 3/25\n",
            "352/352 [==============================] - 4s 11ms/step - loss: 1.9626 - sparse_categorical_accuracy: 0.2759 - val_loss: 1.8635 - val_sparse_categorical_accuracy: 0.3004\n",
            "Epoch 4/25\n",
            "352/352 [==============================] - 4s 11ms/step - loss: 1.8426 - sparse_categorical_accuracy: 0.3062 - val_loss: 1.8017 - val_sparse_categorical_accuracy: 0.3286\n",
            "Epoch 5/25\n",
            "352/352 [==============================] - 4s 12ms/step - loss: 1.7939 - sparse_categorical_accuracy: 0.3252 - val_loss: 1.7739 - val_sparse_categorical_accuracy: 0.3374\n",
            "Epoch 6/25\n",
            "352/352 [==============================] - 4s 11ms/step - loss: 1.7669 - sparse_categorical_accuracy: 0.3373 - val_loss: 1.7569 - val_sparse_categorical_accuracy: 0.3584\n",
            "Epoch 7/25\n",
            "352/352 [==============================] - 4s 11ms/step - loss: 1.7381 - sparse_categorical_accuracy: 0.3499 - val_loss: 1.7267 - val_sparse_categorical_accuracy: 0.3626\n",
            "Epoch 8/25\n",
            "352/352 [==============================] - 4s 12ms/step - loss: 1.7221 - sparse_categorical_accuracy: 0.3597 - val_loss: 1.7096 - val_sparse_categorical_accuracy: 0.3808\n",
            "Epoch 9/25\n",
            "352/352 [==============================] - 4s 11ms/step - loss: 1.6986 - sparse_categorical_accuracy: 0.3754 - val_loss: 1.6676 - val_sparse_categorical_accuracy: 0.3932\n",
            "Epoch 10/25\n",
            "352/352 [==============================] - 4s 11ms/step - loss: 1.6847 - sparse_categorical_accuracy: 0.3844 - val_loss: 1.6635 - val_sparse_categorical_accuracy: 0.4006\n",
            "Epoch 11/25\n",
            "352/352 [==============================] - 4s 11ms/step - loss: 1.6676 - sparse_categorical_accuracy: 0.3919 - val_loss: 1.6505 - val_sparse_categorical_accuracy: 0.4112\n",
            "Epoch 12/25\n",
            "352/352 [==============================] - 4s 11ms/step - loss: 1.6459 - sparse_categorical_accuracy: 0.4036 - val_loss: 1.6306 - val_sparse_categorical_accuracy: 0.4186\n",
            "Epoch 13/25\n",
            "352/352 [==============================] - 4s 12ms/step - loss: 1.6260 - sparse_categorical_accuracy: 0.4113 - val_loss: 1.6251 - val_sparse_categorical_accuracy: 0.4206\n",
            "Epoch 14/25\n",
            "352/352 [==============================] - 4s 11ms/step - loss: 1.6181 - sparse_categorical_accuracy: 0.4154 - val_loss: 1.5946 - val_sparse_categorical_accuracy: 0.4292\n",
            "Epoch 15/25\n",
            "352/352 [==============================] - 4s 11ms/step - loss: 1.6021 - sparse_categorical_accuracy: 0.4170 - val_loss: 1.5881 - val_sparse_categorical_accuracy: 0.4332\n",
            "Epoch 16/25\n",
            "352/352 [==============================] - 4s 12ms/step - loss: 1.5933 - sparse_categorical_accuracy: 0.4247 - val_loss: 1.5820 - val_sparse_categorical_accuracy: 0.4384\n",
            "Epoch 17/25\n",
            "352/352 [==============================] - 4s 10ms/step - loss: 1.5843 - sparse_categorical_accuracy: 0.4278 - val_loss: 1.5636 - val_sparse_categorical_accuracy: 0.4436\n",
            "Epoch 18/25\n",
            "352/352 [==============================] - 4s 10ms/step - loss: 1.5789 - sparse_categorical_accuracy: 0.4294 - val_loss: 1.5721 - val_sparse_categorical_accuracy: 0.4418\n",
            "Epoch 19/25\n",
            "352/352 [==============================] - 4s 12ms/step - loss: 1.5693 - sparse_categorical_accuracy: 0.4364 - val_loss: 1.5665 - val_sparse_categorical_accuracy: 0.4336\n",
            "Epoch 20/25\n",
            "352/352 [==============================] - 4s 10ms/step - loss: 1.5645 - sparse_categorical_accuracy: 0.4350 - val_loss: 1.5474 - val_sparse_categorical_accuracy: 0.4492\n",
            "Epoch 21/25\n",
            "352/352 [==============================] - 4s 10ms/step - loss: 1.5556 - sparse_categorical_accuracy: 0.4394 - val_loss: 1.5660 - val_sparse_categorical_accuracy: 0.4402\n",
            "Epoch 22/25\n",
            "352/352 [==============================] - 4s 11ms/step - loss: 1.5497 - sparse_categorical_accuracy: 0.4416 - val_loss: 1.5604 - val_sparse_categorical_accuracy: 0.4454\n",
            "Epoch 23/25\n",
            "352/352 [==============================] - 4s 11ms/step - loss: 1.5467 - sparse_categorical_accuracy: 0.4454 - val_loss: 1.5462 - val_sparse_categorical_accuracy: 0.4486\n",
            "Epoch 24/25\n",
            "352/352 [==============================] - 4s 11ms/step - loss: 1.5361 - sparse_categorical_accuracy: 0.4456 - val_loss: 1.5302 - val_sparse_categorical_accuracy: 0.4518\n",
            "Epoch 25/25\n",
            "352/352 [==============================] - 4s 11ms/step - loss: 1.5293 - sparse_categorical_accuracy: 0.4504 - val_loss: 1.5407 - val_sparse_categorical_accuracy: 0.4502\n",
            "107.62707781791687\n"
          ]
        }
      ],
      "source": [
        "epochs = 25\n",
        "t1 = t.time()\n",
        "neural_net_3_history = neural_net_3.fit(\n",
        "    D_train,\n",
        "    validation_data=D_val,\n",
        "    epochs=epochs,\n",
        ")\n",
        "t2 = t.time()\n",
        "print(t2-t1)"
      ]
    },
    {
      "cell_type": "code",
      "execution_count": null,
      "metadata": {
        "id": "enLfg82mbZm8",
        "outputId": "7a8cbcc0-f066-469c-fb3d-f7b2c57e9cd5",
        "colab": {
          "base_uri": "https://localhost:8080/"
        }
      },
      "outputs": [
        {
          "output_type": "stream",
          "name": "stdout",
          "text": [
            "79/79 [==============================] - 0s 5ms/step - loss: 1.5175 - sparse_categorical_accuracy: 0.4543\n"
          ]
        }
      ],
      "source": [
        "loss, accuracy = neural_net_3.evaluate(D_test)"
      ]
    },
    {
      "cell_type": "code",
      "execution_count": null,
      "metadata": {
        "id": "ByEzecf7bZm9",
        "outputId": "96b9192a-bc57-49cd-b874-01255bba3bce",
        "colab": {
          "base_uri": "https://localhost:8080/",
          "height": 468
        }
      },
      "outputs": [
        {
          "output_type": "display_data",
          "data": {
            "text/plain": [
              "<Figure size 800x500 with 2 Axes>"
            ],
            "image/png": "[encoded data removed]"
          },
          "metadata": {}
        }
      ],
      "source": [
        "visualise(neural_net_3_history, 'sparse_categorical_accuracy', epochs)"
      ]
    },
    {
      "cell_type": "markdown",
      "source": [
        "For our third and final TNN model, we keep the layers exactly the same as our previous model, except now we add some regularization. We add dropout regularization to the first, second and last hidden layers; and then add ridge regression to the last hidden layer. We also use a different, faster converging optimizer; the Lion optimizer; instead of Adam.\n",
        "\n",
        "At 25 epochs, with an accuracy and loss of about 45% and 1.5 respectively, the model shows very little under and/or overfitting to the training data. This due to the high number of parameters (25,865,354), the Lion optimizer, the use of sigmoid and relu activation functions, and the added regularization which is normally used to particularly reduce overfitting. \n",
        "\n",
        "We notice this is more accurate than the previous model, but given it still just below even 50\\% accuracy; shows the TNNs inherintly inefficient image classification capabilitites."
      ],
      "metadata": {
        "id": "do1otgxlzwXL"
      }
    },
    {
      "cell_type": "markdown",
      "metadata": {
        "id": "NrZPukNqeoFj"
      },
      "source": [
        "## Convolutional Neural Network"
      ]
    },
    {
      "cell_type": "markdown",
      "metadata": {
        "id": "7tGTJhhmgIQN"
      },
      "source": [
        "### Create baseline model CNN1 with less convolutional and pooling layers."
      ]
    },
    {
      "cell_type": "markdown",
      "source": [
        "Our baseline model is a simple architecture that has only a few convolutional layers, filters and pooling layers. This approach may be suitable for simpler image classification tasks or datasets with less variation in features. We will begin with no regularization just as before with the TNNs. We will also begin with compiling with the ADAM optimizer."
      ],
      "metadata": {
        "id": "y8_Nt-r_HCv9"
      }
    },
    {
      "cell_type": "code",
      "execution_count": null,
      "metadata": {
        "id": "q3TEh3-HIYER"
      },
      "outputs": [],
      "source": [
        "CNN1 = tf.keras.Sequential(\n",
        "    layers = [\n",
        "      tf.keras.layers.Input(shape=(h, w, 3)),\n",
        "        \n",
        "      tf.keras.layers.Conv2D(24, 4, padding='same', activation='relu'),\n",
        "      tf.keras.layers.MaxPooling2D((4,4), strides=(1,1)),\n",
        "        \n",
        "      tf.keras.layers.Conv2D(48, 4, padding='same', activation='relu'),\n",
        "      tf.keras.layers.MaxPooling2D(),\n",
        "\n",
        "      tf.keras.layers.Flatten(),\n",
        "        \n",
        "      tf.keras.layers.Dense(1024, activation='relu'),\n",
        "        \n",
        "      tf.keras.layers.Dense(k),\n",
        "    ],\n",
        "    name = 'CNN1'\n",
        ")\n",
        "\n",
        "CNN1.compile(\n",
        "  optimizer = tf.keras.optimizers.Adam(),\n",
        "  loss = SCCE,\n",
        "  metrics = SCA\n",
        ")"
      ]
    },
    {
      "cell_type": "markdown",
      "metadata": {
        "id": "8x2Ey3_VK7rT"
      },
      "source": [
        "Model summary"
      ]
    },
    {
      "cell_type": "code",
      "execution_count": null,
      "metadata": {
        "colab": {
          "base_uri": "https://localhost:8080/"
        },
        "id": "2EMyqSlRK11u",
        "outputId": "1aa8d681-bcae-4b29-fce4-d6b6f065a86b"
      },
      "outputs": [
        {
          "output_type": "stream",
          "name": "stdout",
          "text": [
            "Model: \"CNN1\"\n",
            "_________________________________________________________________\n",
            " Layer (type)                Output Shape              Param #   \n",
            "=================================================================\n",
            " conv2d_76 (Conv2D)          (None, 32, 32, 24)        1176      \n",
            "                                                                 \n",
            " max_pooling2d_76 (MaxPoolin  (None, 29, 29, 24)       0         \n",
            " g2D)                                                            \n",
            "                                                                 \n",
            " conv2d_77 (Conv2D)          (None, 29, 29, 48)        18480     \n",
            "                                                                 \n",
            " max_pooling2d_77 (MaxPoolin  (None, 14, 14, 48)       0         \n",
            " g2D)                                                            \n",
            "                                                                 \n",
            " flatten_24 (Flatten)        (None, 9408)              0         \n",
            "                                                                 \n",
            " dense_62 (Dense)            (None, 1024)              9634816   \n",
            "                                                                 \n",
            " dense_63 (Dense)            (None, 10)                10250     \n",
            "                                                                 \n",
            "=================================================================\n",
            "Total params: 9,664,722\n",
            "Trainable params: 9,664,722\n",
            "Non-trainable params: 0\n",
            "_________________________________________________________________\n"
          ]
        }
      ],
      "source": [
        "CNN1.summary()"
      ]
    },
    {
      "cell_type": "markdown",
      "metadata": {
        "id": "lAMUT6xprO3b"
      },
      "source": [
        "Train the model"
      ]
    },
    {
      "cell_type": "code",
      "execution_count": null,
      "metadata": {
        "colab": {
          "base_uri": "https://localhost:8080/"
        },
        "id": "-fOHkmWdLC8u",
        "outputId": "41644884-6f94-4782-9625-3f6358ea2be4"
      },
      "outputs": [
        {
          "output_type": "stream",
          "name": "stdout",
          "text": [
            "Epoch 1/25\n",
            "352/352 [==============================] - 6s 14ms/step - loss: 1.5948 - sparse_categorical_accuracy: 0.4628 - val_loss: 1.3510 - val_sparse_categorical_accuracy: 0.5262\n",
            "Epoch 2/25\n",
            "352/352 [==============================] - 5s 14ms/step - loss: 1.1991 - sparse_categorical_accuracy: 0.5742 - val_loss: 1.1296 - val_sparse_categorical_accuracy: 0.6038\n",
            "Epoch 3/25\n",
            "352/352 [==============================] - 5s 13ms/step - loss: 1.0086 - sparse_categorical_accuracy: 0.6465 - val_loss: 0.9918 - val_sparse_categorical_accuracy: 0.6504\n",
            "Epoch 4/25\n",
            "352/352 [==============================] - 5s 14ms/step - loss: 0.8488 - sparse_categorical_accuracy: 0.7033 - val_loss: 0.9234 - val_sparse_categorical_accuracy: 0.6822\n",
            "Epoch 5/25\n",
            "352/352 [==============================] - 5s 13ms/step - loss: 0.7116 - sparse_categorical_accuracy: 0.7527 - val_loss: 0.9038 - val_sparse_categorical_accuracy: 0.6916\n",
            "Epoch 6/25\n",
            "352/352 [==============================] - 5s 14ms/step - loss: 0.5732 - sparse_categorical_accuracy: 0.8006 - val_loss: 0.8901 - val_sparse_categorical_accuracy: 0.7038\n",
            "Epoch 7/25\n",
            "352/352 [==============================] - 5s 14ms/step - loss: 0.4319 - sparse_categorical_accuracy: 0.8516 - val_loss: 0.8944 - val_sparse_categorical_accuracy: 0.7178\n",
            "Epoch 8/25\n",
            "352/352 [==============================] - 5s 13ms/step - loss: 0.3027 - sparse_categorical_accuracy: 0.8989 - val_loss: 0.9893 - val_sparse_categorical_accuracy: 0.7140\n",
            "Epoch 9/25\n",
            "352/352 [==============================] - 5s 14ms/step - loss: 0.2099 - sparse_categorical_accuracy: 0.9299 - val_loss: 1.0653 - val_sparse_categorical_accuracy: 0.7174\n",
            "Epoch 10/25\n",
            "352/352 [==============================] - 5s 13ms/step - loss: 0.1354 - sparse_categorical_accuracy: 0.9586 - val_loss: 1.2543 - val_sparse_categorical_accuracy: 0.7106\n",
            "Epoch 11/25\n",
            "352/352 [==============================] - 5s 14ms/step - loss: 0.0977 - sparse_categorical_accuracy: 0.9694 - val_loss: 1.3376 - val_sparse_categorical_accuracy: 0.7146\n",
            "Epoch 12/25\n",
            "352/352 [==============================] - 5s 14ms/step - loss: 0.0684 - sparse_categorical_accuracy: 0.9797 - val_loss: 1.5055 - val_sparse_categorical_accuracy: 0.7036\n",
            "Epoch 13/25\n",
            "352/352 [==============================] - 5s 13ms/step - loss: 0.0674 - sparse_categorical_accuracy: 0.9784 - val_loss: 1.6723 - val_sparse_categorical_accuracy: 0.7008\n",
            "Epoch 14/25\n",
            "352/352 [==============================] - 5s 14ms/step - loss: 0.0687 - sparse_categorical_accuracy: 0.9782 - val_loss: 1.6228 - val_sparse_categorical_accuracy: 0.7034\n",
            "Epoch 15/25\n",
            "352/352 [==============================] - 5s 13ms/step - loss: 0.0592 - sparse_categorical_accuracy: 0.9809 - val_loss: 1.8108 - val_sparse_categorical_accuracy: 0.6884\n",
            "Epoch 16/25\n",
            "352/352 [==============================] - 5s 14ms/step - loss: 0.0600 - sparse_categorical_accuracy: 0.9806 - val_loss: 1.8179 - val_sparse_categorical_accuracy: 0.7014\n",
            "Epoch 17/25\n",
            "352/352 [==============================] - 5s 14ms/step - loss: 0.0441 - sparse_categorical_accuracy: 0.9860 - val_loss: 1.9242 - val_sparse_categorical_accuracy: 0.6934\n",
            "Epoch 18/25\n",
            "352/352 [==============================] - 5s 13ms/step - loss: 0.0458 - sparse_categorical_accuracy: 0.9853 - val_loss: 1.9562 - val_sparse_categorical_accuracy: 0.6948\n",
            "Epoch 19/25\n",
            "352/352 [==============================] - 5s 14ms/step - loss: 0.0581 - sparse_categorical_accuracy: 0.9818 - val_loss: 1.9340 - val_sparse_categorical_accuracy: 0.6914\n",
            "Epoch 20/25\n",
            "352/352 [==============================] - 5s 13ms/step - loss: 0.0495 - sparse_categorical_accuracy: 0.9840 - val_loss: 2.1496 - val_sparse_categorical_accuracy: 0.6892\n",
            "Epoch 21/25\n",
            "352/352 [==============================] - 5s 13ms/step - loss: 0.0408 - sparse_categorical_accuracy: 0.9863 - val_loss: 2.2089 - val_sparse_categorical_accuracy: 0.7028\n",
            "Epoch 22/25\n",
            "352/352 [==============================] - 5s 14ms/step - loss: 0.0390 - sparse_categorical_accuracy: 0.9872 - val_loss: 2.2958 - val_sparse_categorical_accuracy: 0.6872\n",
            "Epoch 23/25\n",
            "352/352 [==============================] - 5s 14ms/step - loss: 0.0302 - sparse_categorical_accuracy: 0.9904 - val_loss: 2.2468 - val_sparse_categorical_accuracy: 0.7078\n",
            "Epoch 24/25\n",
            "352/352 [==============================] - 5s 14ms/step - loss: 0.0404 - sparse_categorical_accuracy: 0.9866 - val_loss: 2.2966 - val_sparse_categorical_accuracy: 0.7034\n",
            "Epoch 25/25\n",
            "352/352 [==============================] - 5s 13ms/step - loss: 0.0452 - sparse_categorical_accuracy: 0.9850 - val_loss: 2.5185 - val_sparse_categorical_accuracy: 0.6830\n"
          ]
        }
      ],
      "source": [
        "epochs = 25\n",
        "\n",
        "CNN1_history = CNN1.fit(\n",
        "  D_train,\n",
        "  validation_data = D_val,\n",
        "  epochs = epochs\n",
        ")"
      ]
    },
    {
      "cell_type": "markdown",
      "source": [
        "Evaluate model"
      ],
      "metadata": {
        "id": "-TqFVNCbMFFh"
      }
    },
    {
      "cell_type": "code",
      "execution_count": null,
      "metadata": {
        "colab": {
          "base_uri": "https://localhost:8080/"
        },
        "id": "-IW-jLspkUlr",
        "outputId": "3e541a93-43d2-46bf-e30f-3248bb4ea728"
      },
      "outputs": [
        {
          "output_type": "stream",
          "name": "stdout",
          "text": [
            "79/79 [==============================] - 1s 7ms/step - loss: 2.6788 - sparse_categorical_accuracy: 0.6730\n"
          ]
        }
      ],
      "source": [
        "loss, accuracy = CNN1.evaluate(D_test)"
      ]
    },
    {
      "cell_type": "markdown",
      "metadata": {
        "id": "MzvkU4Yfst-I"
      },
      "source": [
        "Visualize training results"
      ]
    },
    {
      "cell_type": "code",
      "execution_count": null,
      "metadata": {
        "colab": {
          "base_uri": "https://localhost:8080/",
          "height": 468
        },
        "id": "jeO60qbnzzO_",
        "outputId": "a98d740e-7887-46e1-a2fb-c900e3229abe"
      },
      "outputs": [
        {
          "output_type": "display_data",
          "data": {
            "text/plain": [
              "<Figure size 800x500 with 2 Axes>"
            ],
            "image/png": "[encoded data removed]"
          },
          "metadata": {}
        }
      ],
      "source": [
        "visualise(CNN1_history, 'sparse_categorical_accuracy', epochs)"
      ]
    },
    {
      "cell_type": "markdown",
      "metadata": {
        "id": "qBtQKequtldH"
      },
      "source": [
        "We see that already, the CNN already achieves about 67.30% test accuracy with about 2x less parameters as the traditional NN. We notice maximum accuracy scores of about 71% during training with validation loss < 0.9 in some epochs before overfitting kicks in. These values were not achieved by our most tweaked TNN.\n",
        "\n",
        "The plots show that training and validation accuracy are off by large margins, as well as the training and validation losses. This is due to the overfitting that kicks in at about 5 epochs, which also causes model accuracy to drop\n",
        "\n",
        "Hence, we will thus try to increase the overall performance of the model as we did with the TNNs."
      ]
    },
    {
      "cell_type": "markdown",
      "metadata": {
        "id": "Oqqw1LzwvNbX"
      },
      "source": [
        "#### CNN1 with dropout"
      ]
    },
    {
      "cell_type": "markdown",
      "metadata": {
        "id": "Sdq9S7OLvShn"
      },
      "source": [
        "To reduce overfitting and the large margins of discrapencies between training and validation loss and accuracy, we also introduce dropout regularization to the network. We do this in hopes of retaining some of the accuracy for the duration of the training.\n",
        "\n",
        "We thus create another CNN1 but with dropout regularization"
      ]
    },
    {
      "cell_type": "code",
      "execution_count": null,
      "metadata": {
        "id": "W4WoE-UuvPkH"
      },
      "outputs": [],
      "source": [
        "CNN1_dropout = tf.keras.Sequential(\n",
        "    layers = [\n",
        "      tf.keras.layers.Input(shape=(h, w, 3)),\n",
        "        \n",
        "      tf.keras.layers.Conv2D(24, 4, padding='same', activation='relu'),\n",
        "      tf.keras.layers.MaxPooling2D((4,4), strides=(1,1)),\n",
        "        \n",
        "      tf.keras.layers.Conv2D(48, 4, padding='same', activation='relu'),\n",
        "      tf.keras.layers.MaxPooling2D(),\n",
        "\n",
        "      tf.keras.layers.Flatten(),\n",
        "      tf.keras.layers.Dropout(0.4),\n",
        "        \n",
        "      tf.keras.layers.Dense(1024, activation='relu'),\n",
        "      tf.keras.layers.Dropout(0.4),\n",
        "        \n",
        "      tf.keras.layers.Dense(k),\n",
        "    ],\n",
        "    name = 'CNN1_dropout'\n",
        ")\n",
        "\n",
        "CNN1_dropout.compile(\n",
        "  optimizer = tf.keras.optimizers.Adam(),\n",
        "  loss = SCCE,\n",
        "  metrics = SCA\n",
        ")"
      ]
    },
    {
      "cell_type": "markdown",
      "source": [
        "We train the model with the same 25 epochs"
      ],
      "metadata": {
        "id": "TZPetu3jNawx"
      }
    },
    {
      "cell_type": "code",
      "execution_count": null,
      "metadata": {
        "id": "E9UiHxArwjDb",
        "outputId": "6ac66a10-2750-4aa2-9b3d-08ec52cf3c1c",
        "colab": {
          "base_uri": "https://localhost:8080/"
        }
      },
      "outputs": [
        {
          "output_type": "stream",
          "name": "stdout",
          "text": [
            "Epoch 1/25\n",
            "352/352 [==============================] - 7s 14ms/step - loss: 1.6083 - sparse_categorical_accuracy: 0.4731 - val_loss: 1.2197 - val_sparse_categorical_accuracy: 0.5682\n",
            "Epoch 2/25\n",
            "352/352 [==============================] - 5s 14ms/step - loss: 1.1743 - sparse_categorical_accuracy: 0.5834 - val_loss: 1.0372 - val_sparse_categorical_accuracy: 0.6370\n",
            "Epoch 3/25\n",
            "352/352 [==============================] - 5s 13ms/step - loss: 0.9988 - sparse_categorical_accuracy: 0.6489 - val_loss: 0.9636 - val_sparse_categorical_accuracy: 0.6690\n",
            "Epoch 4/25\n",
            "352/352 [==============================] - 5s 15ms/step - loss: 0.8824 - sparse_categorical_accuracy: 0.6877 - val_loss: 0.8563 - val_sparse_categorical_accuracy: 0.7032\n",
            "Epoch 5/25\n",
            "352/352 [==============================] - 5s 14ms/step - loss: 0.7790 - sparse_categorical_accuracy: 0.7255 - val_loss: 0.8444 - val_sparse_categorical_accuracy: 0.7146\n",
            "Epoch 6/25\n",
            "352/352 [==============================] - 5s 14ms/step - loss: 0.6969 - sparse_categorical_accuracy: 0.7543 - val_loss: 0.7847 - val_sparse_categorical_accuracy: 0.7316\n",
            "Epoch 7/25\n",
            "352/352 [==============================] - 5s 14ms/step - loss: 0.6231 - sparse_categorical_accuracy: 0.7795 - val_loss: 0.8105 - val_sparse_categorical_accuracy: 0.7328\n",
            "Epoch 8/25\n",
            "352/352 [==============================] - 5s 15ms/step - loss: 0.5436 - sparse_categorical_accuracy: 0.8093 - val_loss: 0.7869 - val_sparse_categorical_accuracy: 0.7388\n",
            "Epoch 9/25\n",
            "352/352 [==============================] - 5s 14ms/step - loss: 0.4772 - sparse_categorical_accuracy: 0.8333 - val_loss: 0.7953 - val_sparse_categorical_accuracy: 0.7438\n",
            "Epoch 10/25\n",
            "352/352 [==============================] - 5s 14ms/step - loss: 0.4246 - sparse_categorical_accuracy: 0.8531 - val_loss: 0.7825 - val_sparse_categorical_accuracy: 0.7528\n",
            "Epoch 11/25\n",
            "352/352 [==============================] - 5s 14ms/step - loss: 0.3699 - sparse_categorical_accuracy: 0.8708 - val_loss: 0.7758 - val_sparse_categorical_accuracy: 0.7540\n",
            "Epoch 12/25\n",
            "352/352 [==============================] - 5s 15ms/step - loss: 0.3291 - sparse_categorical_accuracy: 0.8837 - val_loss: 0.8176 - val_sparse_categorical_accuracy: 0.7536\n",
            "Epoch 13/25\n",
            "352/352 [==============================] - 5s 14ms/step - loss: 0.2998 - sparse_categorical_accuracy: 0.8961 - val_loss: 0.8216 - val_sparse_categorical_accuracy: 0.7496\n",
            "Epoch 14/25\n",
            "352/352 [==============================] - 5s 14ms/step - loss: 0.2620 - sparse_categorical_accuracy: 0.9080 - val_loss: 0.8569 - val_sparse_categorical_accuracy: 0.7514\n",
            "Epoch 15/25\n",
            "352/352 [==============================] - 5s 14ms/step - loss: 0.2347 - sparse_categorical_accuracy: 0.9174 - val_loss: 0.9095 - val_sparse_categorical_accuracy: 0.7502\n",
            "Epoch 16/25\n",
            "352/352 [==============================] - 5s 14ms/step - loss: 0.2212 - sparse_categorical_accuracy: 0.9229 - val_loss: 0.9430 - val_sparse_categorical_accuracy: 0.7520\n",
            "Epoch 17/25\n",
            "352/352 [==============================] - 5s 14ms/step - loss: 0.1993 - sparse_categorical_accuracy: 0.9313 - val_loss: 0.9303 - val_sparse_categorical_accuracy: 0.7534\n",
            "Epoch 18/25\n",
            "352/352 [==============================] - 5s 14ms/step - loss: 0.1865 - sparse_categorical_accuracy: 0.9363 - val_loss: 1.0079 - val_sparse_categorical_accuracy: 0.7526\n",
            "Epoch 19/25\n",
            "352/352 [==============================] - 5s 14ms/step - loss: 0.1913 - sparse_categorical_accuracy: 0.9347 - val_loss: 0.9757 - val_sparse_categorical_accuracy: 0.7528\n",
            "Epoch 20/25\n",
            "352/352 [==============================] - 5s 14ms/step - loss: 0.1686 - sparse_categorical_accuracy: 0.9425 - val_loss: 0.9797 - val_sparse_categorical_accuracy: 0.7516\n",
            "Epoch 21/25\n",
            "352/352 [==============================] - 5s 14ms/step - loss: 0.1774 - sparse_categorical_accuracy: 0.9402 - val_loss: 1.0459 - val_sparse_categorical_accuracy: 0.7308\n",
            "Epoch 22/25\n",
            "352/352 [==============================] - 5s 14ms/step - loss: 0.1610 - sparse_categorical_accuracy: 0.9462 - val_loss: 1.0294 - val_sparse_categorical_accuracy: 0.7484\n",
            "Epoch 23/25\n",
            "352/352 [==============================] - 5s 14ms/step - loss: 0.1512 - sparse_categorical_accuracy: 0.9481 - val_loss: 1.0259 - val_sparse_categorical_accuracy: 0.7508\n",
            "Epoch 24/25\n",
            "352/352 [==============================] - 5s 14ms/step - loss: 0.1416 - sparse_categorical_accuracy: 0.9523 - val_loss: 1.0224 - val_sparse_categorical_accuracy: 0.7540\n",
            "Epoch 25/25\n",
            "352/352 [==============================] - 5s 14ms/step - loss: 0.1410 - sparse_categorical_accuracy: 0.9520 - val_loss: 1.1584 - val_sparse_categorical_accuracy: 0.7372\n"
          ]
        }
      ],
      "source": [
        "epochs = 25\n",
        "\n",
        "CNN1_droput_history = CNN1_dropout.fit(\n",
        "  D_train,\n",
        "  validation_data = D_val,\n",
        "  epochs = epochs\n",
        ")"
      ]
    },
    {
      "cell_type": "code",
      "execution_count": null,
      "metadata": {
        "id": "dgCF81o8bZnD",
        "colab": {
          "base_uri": "https://localhost:8080/"
        },
        "outputId": "828f2e70-b494-46e6-8638-4daf4966a4c8"
      },
      "outputs": [
        {
          "output_type": "stream",
          "name": "stdout",
          "text": [
            "79/79 [==============================] - 0s 5ms/step - loss: 1.1512 - sparse_categorical_accuracy: 0.7387\n"
          ]
        }
      ],
      "source": [
        "loss, accuracy = CNN1_dropout.evaluate(D_test)"
      ]
    },
    {
      "cell_type": "markdown",
      "source": [
        "Visualise training results"
      ],
      "metadata": {
        "id": "lMELCgaTQjw4"
      }
    },
    {
      "cell_type": "code",
      "source": [
        "visualise(CNN1_droput_history, 'sparse_categorical_accuracy', epochs)"
      ],
      "metadata": {
        "colab": {
          "base_uri": "https://localhost:8080/",
          "height": 468
        },
        "id": "DXKv3_SFQrQp",
        "outputId": "049d6ed8-9f19-4c50-8c11-9f294bda795d"
      },
      "execution_count": null,
      "outputs": [
        {
          "output_type": "display_data",
          "data": {
            "text/plain": [
              "<Figure size 800x500 with 2 Axes>"
            ],
            "image/png": "[encoded data removed]"
          },
          "metadata": {}
        }
      ]
    },
    {
      "cell_type": "markdown",
      "source": [
        "We have managed to retain most of the validation accuracy, attaining a test accuracy of about 73.87%. However, this architecture still peaks at this accuracy level and continues to overfit. This leads us to add more complexity to the model."
      ],
      "metadata": {
        "id": "7tNioQIcRB1E"
      }
    },
    {
      "cell_type": "markdown",
      "source": [
        "#### CNN1 with L2 regularization"
      ],
      "metadata": {
        "id": "IxeXLGB_VOzi"
      }
    },
    {
      "cell_type": "code",
      "source": [
        "l2_reg = tf.keras.regularizers.l2(0.00025)"
      ],
      "metadata": {
        "id": "rkXjX2hTYvBf"
      },
      "execution_count": null,
      "outputs": []
    },
    {
      "cell_type": "code",
      "source": [
        "CNN1_L2 = tf.keras.Sequential(\n",
        "    layers = [\n",
        "      tf.keras.layers.Input(shape=(h, w, 3)),\n",
        "        \n",
        "      tf.keras.layers.Conv2D(24, 4, padding='same', activation='relu'),\n",
        "      tf.keras.layers.MaxPooling2D((4,4), strides=(1,1)),\n",
        "        \n",
        "      tf.keras.layers.Conv2D(48, 4, padding='same', kernel_regularizer=l2_reg, activation='relu'),\n",
        "      tf.keras.layers.MaxPooling2D(),\n",
        "\n",
        "      tf.keras.layers.Flatten(),\n",
        "      tf.keras.layers.Dropout(0.4),\n",
        "        \n",
        "      tf.keras.layers.Dense(1024, kernel_regularizer=l2_reg, activation='relu'),\n",
        "      tf.keras.layers.Dropout(0.4),\n",
        "        \n",
        "      tf.keras.layers.Dense(k),\n",
        "    ],\n",
        "    name = 'CNN1_L2'\n",
        ")\n",
        "\n",
        "CNN1_L2.compile(\n",
        "  optimizer = tf.keras.optimizers.Adam(),\n",
        "  loss = SCCE,\n",
        "  metrics = SCA\n",
        ")"
      ],
      "metadata": {
        "id": "rrGtHdB9VizN"
      },
      "execution_count": null,
      "outputs": []
    },
    {
      "cell_type": "code",
      "source": [
        "epochs = 50\n",
        "\n",
        "CNN1_L2_hist = CNN1_L2.fit(\n",
        "  D_train,\n",
        "  validation_data = D_val,\n",
        "  epochs = epochs\n",
        ")"
      ],
      "metadata": {
        "colab": {
          "base_uri": "https://localhost:8080/"
        },
        "id": "qjppc7ioWNU_",
        "outputId": "29d876c2-b83a-4532-d259-5826a6410398"
      },
      "execution_count": null,
      "outputs": [
        {
          "output_type": "stream",
          "name": "stdout",
          "text": [
            "Epoch 1/50\n",
            "352/352 [==============================] - 6s 14ms/step - loss: 1.8902 - sparse_categorical_accuracy: 0.4470 - val_loss: 1.5128 - val_sparse_categorical_accuracy: 0.5132\n",
            "Epoch 2/50\n",
            "352/352 [==============================] - 5s 13ms/step - loss: 1.4737 - sparse_categorical_accuracy: 0.5188 - val_loss: 1.3610 - val_sparse_categorical_accuracy: 0.5652\n",
            "Epoch 3/50\n",
            "352/352 [==============================] - 5s 13ms/step - loss: 1.3833 - sparse_categorical_accuracy: 0.5561 - val_loss: 1.2935 - val_sparse_categorical_accuracy: 0.6020\n",
            "Epoch 4/50\n",
            "352/352 [==============================] - 5s 13ms/step - loss: 1.3237 - sparse_categorical_accuracy: 0.5885 - val_loss: 1.2892 - val_sparse_categorical_accuracy: 0.6076\n",
            "Epoch 5/50\n",
            "352/352 [==============================] - 5s 13ms/step - loss: 1.2758 - sparse_categorical_accuracy: 0.6123 - val_loss: 1.2762 - val_sparse_categorical_accuracy: 0.6140\n",
            "Epoch 6/50\n",
            "352/352 [==============================] - 5s 14ms/step - loss: 1.2371 - sparse_categorical_accuracy: 0.6362 - val_loss: 1.1800 - val_sparse_categorical_accuracy: 0.6586\n",
            "Epoch 7/50\n",
            "352/352 [==============================] - 5s 13ms/step - loss: 1.2094 - sparse_categorical_accuracy: 0.6500 - val_loss: 1.1750 - val_sparse_categorical_accuracy: 0.6718\n",
            "Epoch 8/50\n",
            "352/352 [==============================] - 5s 13ms/step - loss: 1.1834 - sparse_categorical_accuracy: 0.6646 - val_loss: 1.1612 - val_sparse_categorical_accuracy: 0.6758\n",
            "Epoch 9/50\n",
            "352/352 [==============================] - 5s 13ms/step - loss: 1.1658 - sparse_categorical_accuracy: 0.6774 - val_loss: 1.1128 - val_sparse_categorical_accuracy: 0.7088\n",
            "Epoch 10/50\n",
            "352/352 [==============================] - 5s 13ms/step - loss: 1.1661 - sparse_categorical_accuracy: 0.6820 - val_loss: 1.1252 - val_sparse_categorical_accuracy: 0.6942\n",
            "Epoch 11/50\n",
            "352/352 [==============================] - 5s 14ms/step - loss: 1.1330 - sparse_categorical_accuracy: 0.6938 - val_loss: 1.1520 - val_sparse_categorical_accuracy: 0.6926\n",
            "Epoch 12/50\n",
            "352/352 [==============================] - 5s 14ms/step - loss: 1.1281 - sparse_categorical_accuracy: 0.7004 - val_loss: 1.1540 - val_sparse_categorical_accuracy: 0.6952\n",
            "Epoch 13/50\n",
            "352/352 [==============================] - 5s 15ms/step - loss: 1.1229 - sparse_categorical_accuracy: 0.7051 - val_loss: 1.1111 - val_sparse_categorical_accuracy: 0.7132\n",
            "Epoch 14/50\n",
            "352/352 [==============================] - 5s 13ms/step - loss: 1.0970 - sparse_categorical_accuracy: 0.7164 - val_loss: 1.1406 - val_sparse_categorical_accuracy: 0.7120\n",
            "Epoch 15/50\n",
            "352/352 [==============================] - 5s 14ms/step - loss: 1.0985 - sparse_categorical_accuracy: 0.7183 - val_loss: 1.0894 - val_sparse_categorical_accuracy: 0.7336\n",
            "Epoch 16/50\n",
            "352/352 [==============================] - 5s 13ms/step - loss: 1.0812 - sparse_categorical_accuracy: 0.7291 - val_loss: 1.1160 - val_sparse_categorical_accuracy: 0.7202\n",
            "Epoch 17/50\n",
            "352/352 [==============================] - 5s 13ms/step - loss: 1.0709 - sparse_categorical_accuracy: 0.7334 - val_loss: 1.1385 - val_sparse_categorical_accuracy: 0.7212\n",
            "Epoch 18/50\n",
            "352/352 [==============================] - 5s 13ms/step - loss: 1.0720 - sparse_categorical_accuracy: 0.7360 - val_loss: 1.1305 - val_sparse_categorical_accuracy: 0.7194\n",
            "Epoch 19/50\n",
            "352/352 [==============================] - 5s 13ms/step - loss: 1.0602 - sparse_categorical_accuracy: 0.7426 - val_loss: 1.1121 - val_sparse_categorical_accuracy: 0.7370\n",
            "Epoch 20/50\n",
            "352/352 [==============================] - 5s 14ms/step - loss: 1.0632 - sparse_categorical_accuracy: 0.7431 - val_loss: 1.1325 - val_sparse_categorical_accuracy: 0.7258\n",
            "Epoch 21/50\n",
            "352/352 [==============================] - 5s 13ms/step - loss: 1.0505 - sparse_categorical_accuracy: 0.7511 - val_loss: 1.1194 - val_sparse_categorical_accuracy: 0.7266\n",
            "Epoch 22/50\n",
            "352/352 [==============================] - 5s 14ms/step - loss: 1.0400 - sparse_categorical_accuracy: 0.7532 - val_loss: 1.1082 - val_sparse_categorical_accuracy: 0.7396\n",
            "Epoch 23/50\n",
            "352/352 [==============================] - 5s 13ms/step - loss: 1.0460 - sparse_categorical_accuracy: 0.7546 - val_loss: 1.1425 - val_sparse_categorical_accuracy: 0.7318\n",
            "Epoch 24/50\n",
            "352/352 [==============================] - 5s 13ms/step - loss: 1.0314 - sparse_categorical_accuracy: 0.7600 - val_loss: 1.1265 - val_sparse_categorical_accuracy: 0.7396\n",
            "Epoch 25/50\n",
            "352/352 [==============================] - 5s 14ms/step - loss: 1.0347 - sparse_categorical_accuracy: 0.7611 - val_loss: 1.1624 - val_sparse_categorical_accuracy: 0.7306\n",
            "Epoch 26/50\n",
            "352/352 [==============================] - 5s 13ms/step - loss: 1.0322 - sparse_categorical_accuracy: 0.7670 - val_loss: 1.1379 - val_sparse_categorical_accuracy: 0.7346\n",
            "Epoch 27/50\n",
            "352/352 [==============================] - 5s 14ms/step - loss: 1.0279 - sparse_categorical_accuracy: 0.7689 - val_loss: 1.1306 - val_sparse_categorical_accuracy: 0.7428\n",
            "Epoch 28/50\n",
            "352/352 [==============================] - 5s 13ms/step - loss: 1.0238 - sparse_categorical_accuracy: 0.7734 - val_loss: 1.1401 - val_sparse_categorical_accuracy: 0.7462\n",
            "Epoch 29/50\n",
            "352/352 [==============================] - 5s 13ms/step - loss: 1.0223 - sparse_categorical_accuracy: 0.7741 - val_loss: 1.1387 - val_sparse_categorical_accuracy: 0.7498\n",
            "Epoch 30/50\n",
            "352/352 [==============================] - 5s 14ms/step - loss: 1.0249 - sparse_categorical_accuracy: 0.7772 - val_loss: 1.1484 - val_sparse_categorical_accuracy: 0.7424\n",
            "Epoch 31/50\n",
            "352/352 [==============================] - 5s 13ms/step - loss: 1.0111 - sparse_categorical_accuracy: 0.7837 - val_loss: 1.1364 - val_sparse_categorical_accuracy: 0.7480\n",
            "Epoch 32/50\n",
            "352/352 [==============================] - 5s 14ms/step - loss: 1.0188 - sparse_categorical_accuracy: 0.7811 - val_loss: 1.1660 - val_sparse_categorical_accuracy: 0.7432\n",
            "Epoch 33/50\n",
            "352/352 [==============================] - 5s 13ms/step - loss: 1.0151 - sparse_categorical_accuracy: 0.7873 - val_loss: 1.1537 - val_sparse_categorical_accuracy: 0.7476\n",
            "Epoch 34/50\n",
            "352/352 [==============================] - 5s 13ms/step - loss: 1.0105 - sparse_categorical_accuracy: 0.7882 - val_loss: 1.1759 - val_sparse_categorical_accuracy: 0.7340\n",
            "Epoch 35/50\n",
            "352/352 [==============================] - 5s 14ms/step - loss: 1.0111 - sparse_categorical_accuracy: 0.7907 - val_loss: 1.1786 - val_sparse_categorical_accuracy: 0.7458\n",
            "Epoch 36/50\n",
            "352/352 [==============================] - 5s 13ms/step - loss: 1.0040 - sparse_categorical_accuracy: 0.7957 - val_loss: 1.1904 - val_sparse_categorical_accuracy: 0.7380\n",
            "Epoch 37/50\n",
            "352/352 [==============================] - 5s 14ms/step - loss: 1.0048 - sparse_categorical_accuracy: 0.7947 - val_loss: 1.1814 - val_sparse_categorical_accuracy: 0.7466\n",
            "Epoch 38/50\n",
            "352/352 [==============================] - 5s 13ms/step - loss: 1.0036 - sparse_categorical_accuracy: 0.7992 - val_loss: 1.1577 - val_sparse_categorical_accuracy: 0.7550\n",
            "Epoch 39/50\n",
            "352/352 [==============================] - 5s 13ms/step - loss: 0.9956 - sparse_categorical_accuracy: 0.8015 - val_loss: 1.1621 - val_sparse_categorical_accuracy: 0.7496\n",
            "Epoch 40/50\n",
            "352/352 [==============================] - 5s 14ms/step - loss: 0.9981 - sparse_categorical_accuracy: 0.8002 - val_loss: 1.1879 - val_sparse_categorical_accuracy: 0.7446\n",
            "Epoch 41/50\n",
            "352/352 [==============================] - 5s 13ms/step - loss: 1.0088 - sparse_categorical_accuracy: 0.7974 - val_loss: 1.1924 - val_sparse_categorical_accuracy: 0.7468\n",
            "Epoch 42/50\n",
            "352/352 [==============================] - 5s 14ms/step - loss: 0.9998 - sparse_categorical_accuracy: 0.8051 - val_loss: 1.1939 - val_sparse_categorical_accuracy: 0.7444\n",
            "Epoch 43/50\n",
            "352/352 [==============================] - 5s 13ms/step - loss: 0.9943 - sparse_categorical_accuracy: 0.8061 - val_loss: 1.1806 - val_sparse_categorical_accuracy: 0.7520\n",
            "Epoch 44/50\n",
            "352/352 [==============================] - 5s 13ms/step - loss: 0.9927 - sparse_categorical_accuracy: 0.8081 - val_loss: 1.2041 - val_sparse_categorical_accuracy: 0.7442\n",
            "Epoch 45/50\n",
            "352/352 [==============================] - 5s 14ms/step - loss: 0.9921 - sparse_categorical_accuracy: 0.8075 - val_loss: 1.1747 - val_sparse_categorical_accuracy: 0.7562\n",
            "Epoch 46/50\n",
            "352/352 [==============================] - 5s 13ms/step - loss: 0.9933 - sparse_categorical_accuracy: 0.8093 - val_loss: 1.1872 - val_sparse_categorical_accuracy: 0.7512\n",
            "Epoch 47/50\n",
            "352/352 [==============================] - 5s 14ms/step - loss: 0.9987 - sparse_categorical_accuracy: 0.8082 - val_loss: 1.2073 - val_sparse_categorical_accuracy: 0.7518\n",
            "Epoch 48/50\n",
            "352/352 [==============================] - 5s 13ms/step - loss: 0.9943 - sparse_categorical_accuracy: 0.8111 - val_loss: 1.2007 - val_sparse_categorical_accuracy: 0.7538\n",
            "Epoch 49/50\n",
            "352/352 [==============================] - 5s 13ms/step - loss: 0.9933 - sparse_categorical_accuracy: 0.8145 - val_loss: 1.2171 - val_sparse_categorical_accuracy: 0.7522\n",
            "Epoch 50/50\n",
            "352/352 [==============================] - 5s 13ms/step - loss: 0.9932 - sparse_categorical_accuracy: 0.8149 - val_loss: 1.1870 - val_sparse_categorical_accuracy: 0.7626\n"
          ]
        }
      ]
    },
    {
      "cell_type": "code",
      "source": [
        "loss, accuracy = CNN1_L2.evaluate(D_test)"
      ],
      "metadata": {
        "colab": {
          "base_uri": "https://localhost:8080/"
        },
        "id": "TRbGsTXVW5yr",
        "outputId": "eee623bd-c43a-4695-c837-b12bfe5fc560"
      },
      "execution_count": null,
      "outputs": [
        {
          "output_type": "stream",
          "name": "stdout",
          "text": [
            "79/79 [==============================] - 0s 6ms/step - loss: 1.1939 - sparse_categorical_accuracy: 0.7514\n"
          ]
        }
      ]
    },
    {
      "cell_type": "code",
      "source": [
        "visualise(CNN1_L2_hist, 'sparse_categorical_accuracy', epochs)"
      ],
      "metadata": {
        "colab": {
          "base_uri": "https://localhost:8080/",
          "height": 468
        },
        "id": "z6nsJ5zRXKxe",
        "outputId": "964a83c7-2a3a-4e81-f447-815ead1a8f37"
      },
      "execution_count": null,
      "outputs": [
        {
          "output_type": "display_data",
          "data": {
            "text/plain": [
              "<Figure size 800x500 with 2 Axes>"
            ],
            "image/png": "[encoded data removed]"
          },
          "metadata": {}
        }
      ]
    },
    {
      "cell_type": "markdown",
      "source": [
        "We set our regularization factor (a hyperparameter) to 0.00025 and applied L2 regularization to just 2 layers for now. This made training take a bit longer, that is, training accuracy did not quickly climb to > 90% as we saw previously and needed about 2x as much epochs to train. This is because the model is trying to minimize both the loss and the regularization term. Consequently, the divergence in the performance measurenent metrics was also reduced by a noticable margin. This helped the model achieve a test accuracy of about 75.14%."
      ],
      "metadata": {
        "id": "g7ZFJAvsj3_Y"
      }
    },
    {
      "cell_type": "markdown",
      "metadata": {
        "id": "3xuTA7dR39rb"
      },
      "source": [
        "### CNN2 : Added Convolutional & Pooling Layers"
      ]
    },
    {
      "cell_type": "markdown",
      "metadata": {
        "id": "AuZibqlb3_TO"
      },
      "source": [
        "We have already seen the capabilities of CNNs in image classification from CNN1. Hence, in our next model, we aim for higher accuracy by ramping up the convolutional and pooling layers, as well as the filters . This enables the network to capture more complex patterns and features from the input images. This can be beneficial when dealing with more intricate image classification tasks or datasets with high variation in features."
      ]
    },
    {
      "cell_type": "code",
      "source": [
        "l2_reg = tf.keras.regularizers.l2(0.0005)"
      ],
      "metadata": {
        "id": "ChuBixYFo-7Y"
      },
      "execution_count": null,
      "outputs": []
    },
    {
      "cell_type": "code",
      "execution_count": null,
      "metadata": {
        "id": "ilr9094J4DYn"
      },
      "outputs": [],
      "source": [
        "CNN2 = tf.keras.Sequential(\n",
        "    layers = [\n",
        "      tf.keras.layers.Input(shape=(h, w, 3)),\n",
        "        \n",
        "      tf.keras.layers.Conv2D(48, 4, padding='same', kernel_regularizer=l2_reg, activation='relu'),\n",
        "      tf.keras.layers.MaxPooling2D((4,4), strides=(1,1)),\n",
        "        \n",
        "      tf.keras.layers.Conv2D(128, 4, padding='same', activation='relu'),\n",
        "      tf.keras.layers.MaxPooling2D(),\n",
        "        \n",
        "      tf.keras.layers.Conv2D(256, 4, padding='same', kernel_regularizer=l2_reg, activation='relu'),\n",
        "      tf.keras.layers.MaxPooling2D(strides=(2,2)),\n",
        "        \n",
        "      tf.keras.layers.Flatten(),\n",
        "      tf.keras.layers.Dropout(0.4),\n",
        "        \n",
        "      tf.keras.layers.Dense(2048, kernel_regularizer=l2_reg, activation='relu'),\n",
        "      tf.keras.layers.Dropout(0.4),\n",
        "        \n",
        "      tf.keras.layers.Dense(k), \n",
        "    ],\n",
        "    name = 'CNN2'\n",
        ")"
      ]
    },
    {
      "cell_type": "markdown",
      "source": [
        "We compile the model with the Adam otimizer."
      ],
      "metadata": {
        "id": "KEcWk1kUU65W"
      }
    },
    {
      "cell_type": "code",
      "source": [
        "CNN2.compile(\n",
        "  optimizer = tf.keras.optimizers.Adam(),\n",
        "  loss = SCCE,\n",
        "  metrics = SCA\n",
        ")"
      ],
      "metadata": {
        "id": "EwRG-b-wVARP"
      },
      "execution_count": null,
      "outputs": []
    },
    {
      "cell_type": "markdown",
      "source": [
        "Model summary"
      ],
      "metadata": {
        "id": "we11qlWTVEZv"
      }
    },
    {
      "cell_type": "code",
      "source": [
        "CNN2.summary()"
      ],
      "metadata": {
        "colab": {
          "base_uri": "https://localhost:8080/"
        },
        "id": "nbPdUxZnKjV-",
        "outputId": "ae34fc36-1772-4782-9c3b-3da63f5df51a"
      },
      "execution_count": null,
      "outputs": [
        {
          "output_type": "stream",
          "name": "stdout",
          "text": [
            "Model: \"CNN2\"\n",
            "_________________________________________________________________\n",
            " Layer (type)                Output Shape              Param #   \n",
            "=================================================================\n",
            " conv2d_42 (Conv2D)          (None, 32, 32, 48)        2352      \n",
            "                                                                 \n",
            " max_pooling2d_42 (MaxPoolin  (None, 29, 29, 48)       0         \n",
            " g2D)                                                            \n",
            "                                                                 \n",
            " conv2d_43 (Conv2D)          (None, 29, 29, 128)       98432     \n",
            "                                                                 \n",
            " max_pooling2d_43 (MaxPoolin  (None, 14, 14, 128)      0         \n",
            " g2D)                                                            \n",
            "                                                                 \n",
            " conv2d_44 (Conv2D)          (None, 14, 14, 256)       524544    \n",
            "                                                                 \n",
            " max_pooling2d_44 (MaxPoolin  (None, 7, 7, 256)        0         \n",
            " g2D)                                                            \n",
            "                                                                 \n",
            " flatten_16 (Flatten)        (None, 12544)             0         \n",
            "                                                                 \n",
            " dropout_35 (Dropout)        (None, 12544)             0         \n",
            "                                                                 \n",
            " dense_35 (Dense)            (None, 2048)              25692160  \n",
            "                                                                 \n",
            " dropout_36 (Dropout)        (None, 2048)              0         \n",
            "                                                                 \n",
            " dense_36 (Dense)            (None, 10)                20490     \n",
            "                                                                 \n",
            "=================================================================\n",
            "Total params: 26,337,978\n",
            "Trainable params: 26,337,978\n",
            "Non-trainable params: 0\n",
            "_________________________________________________________________\n"
          ]
        }
      ]
    },
    {
      "cell_type": "markdown",
      "source": [
        "We train the model with the same 25 epochs"
      ],
      "metadata": {
        "id": "M93ot911VIfK"
      }
    },
    {
      "cell_type": "code",
      "execution_count": null,
      "metadata": {
        "id": "otPyS6ZLBkZ6",
        "colab": {
          "base_uri": "https://localhost:8080/"
        },
        "outputId": "8d0e801a-50ff-4857-a22e-cd494a649984"
      },
      "outputs": [
        {
          "output_type": "stream",
          "name": "stdout",
          "text": [
            "Epoch 1/50\n",
            "352/352 [==============================] - 19s 48ms/step - loss: 1.8809 - sparse_categorical_accuracy: 0.5009 - val_loss: 1.4875 - val_sparse_categorical_accuracy: 0.5436\n",
            "Epoch 2/50\n",
            "352/352 [==============================] - 16s 46ms/step - loss: 1.4269 - sparse_categorical_accuracy: 0.5760 - val_loss: 1.3141 - val_sparse_categorical_accuracy: 0.6274\n",
            "Epoch 3/50\n",
            "352/352 [==============================] - 17s 47ms/step - loss: 1.3312 - sparse_categorical_accuracy: 0.6221 - val_loss: 1.2338 - val_sparse_categorical_accuracy: 0.6620\n",
            "Epoch 4/50\n",
            "352/352 [==============================] - 17s 47ms/step - loss: 1.2576 - sparse_categorical_accuracy: 0.6614 - val_loss: 1.2551 - val_sparse_categorical_accuracy: 0.6698\n",
            "Epoch 5/50\n",
            "352/352 [==============================] - 17s 48ms/step - loss: 1.2071 - sparse_categorical_accuracy: 0.6838 - val_loss: 1.1270 - val_sparse_categorical_accuracy: 0.7208\n",
            "Epoch 6/50\n",
            "352/352 [==============================] - 17s 47ms/step - loss: 1.1656 - sparse_categorical_accuracy: 0.7039 - val_loss: 1.2006 - val_sparse_categorical_accuracy: 0.6982\n",
            "Epoch 7/50\n",
            "352/352 [==============================] - 17s 49ms/step - loss: 1.1339 - sparse_categorical_accuracy: 0.7203 - val_loss: 1.0882 - val_sparse_categorical_accuracy: 0.7402\n",
            "Epoch 8/50\n",
            "352/352 [==============================] - 17s 48ms/step - loss: 1.1334 - sparse_categorical_accuracy: 0.7242 - val_loss: 1.1203 - val_sparse_categorical_accuracy: 0.7314\n",
            "Epoch 9/50\n",
            "352/352 [==============================] - 18s 51ms/step - loss: 1.1218 - sparse_categorical_accuracy: 0.7342 - val_loss: 1.0856 - val_sparse_categorical_accuracy: 0.7556\n",
            "Epoch 10/50\n",
            "352/352 [==============================] - 18s 51ms/step - loss: 1.0935 - sparse_categorical_accuracy: 0.7512 - val_loss: 1.0757 - val_sparse_categorical_accuracy: 0.7638\n",
            "Epoch 11/50\n",
            "352/352 [==============================] - 17s 48ms/step - loss: 1.0834 - sparse_categorical_accuracy: 0.7552 - val_loss: 1.0818 - val_sparse_categorical_accuracy: 0.7600\n",
            "Epoch 12/50\n",
            "352/352 [==============================] - 17s 49ms/step - loss: 1.0747 - sparse_categorical_accuracy: 0.7632 - val_loss: 1.1249 - val_sparse_categorical_accuracy: 0.7532\n",
            "Epoch 13/50\n",
            "352/352 [==============================] - 17s 49ms/step - loss: 1.0675 - sparse_categorical_accuracy: 0.7663 - val_loss: 1.0860 - val_sparse_categorical_accuracy: 0.7730\n",
            "Epoch 14/50\n",
            "352/352 [==============================] - 17s 49ms/step - loss: 1.0527 - sparse_categorical_accuracy: 0.7768 - val_loss: 1.0616 - val_sparse_categorical_accuracy: 0.7820\n",
            "Epoch 15/50\n",
            "352/352 [==============================] - 17s 49ms/step - loss: 1.0423 - sparse_categorical_accuracy: 0.7822 - val_loss: 1.0653 - val_sparse_categorical_accuracy: 0.7856\n",
            "Epoch 16/50\n",
            "352/352 [==============================] - 18s 51ms/step - loss: 1.0469 - sparse_categorical_accuracy: 0.7826 - val_loss: 1.0844 - val_sparse_categorical_accuracy: 0.7780\n",
            "Epoch 17/50\n",
            "352/352 [==============================] - 18s 50ms/step - loss: 1.0299 - sparse_categorical_accuracy: 0.7933 - val_loss: 1.0725 - val_sparse_categorical_accuracy: 0.7806\n",
            "Epoch 18/50\n",
            "352/352 [==============================] - 17s 49ms/step - loss: 1.0237 - sparse_categorical_accuracy: 0.7958 - val_loss: 1.0917 - val_sparse_categorical_accuracy: 0.7798\n",
            "Epoch 19/50\n",
            "352/352 [==============================] - 18s 51ms/step - loss: 1.0284 - sparse_categorical_accuracy: 0.7963 - val_loss: 1.0590 - val_sparse_categorical_accuracy: 0.7988\n",
            "Epoch 20/50\n",
            "352/352 [==============================] - 18s 50ms/step - loss: 1.0141 - sparse_categorical_accuracy: 0.8056 - val_loss: 1.0575 - val_sparse_categorical_accuracy: 0.8038\n",
            "Epoch 21/50\n",
            "352/352 [==============================] - 17s 49ms/step - loss: 1.0162 - sparse_categorical_accuracy: 0.8044 - val_loss: 1.0847 - val_sparse_categorical_accuracy: 0.7942\n",
            "Epoch 22/50\n",
            "352/352 [==============================] - 17s 49ms/step - loss: 1.0009 - sparse_categorical_accuracy: 0.8127 - val_loss: 1.0863 - val_sparse_categorical_accuracy: 0.7928\n",
            "Epoch 23/50\n",
            "352/352 [==============================] - 17s 49ms/step - loss: 0.9990 - sparse_categorical_accuracy: 0.8142 - val_loss: 1.0812 - val_sparse_categorical_accuracy: 0.7948\n",
            "Epoch 24/50\n",
            "352/352 [==============================] - 18s 51ms/step - loss: 0.9996 - sparse_categorical_accuracy: 0.8177 - val_loss: 1.0969 - val_sparse_categorical_accuracy: 0.7898\n",
            "Epoch 25/50\n",
            "352/352 [==============================] - 18s 51ms/step - loss: 0.9969 - sparse_categorical_accuracy: 0.8193 - val_loss: 1.0872 - val_sparse_categorical_accuracy: 0.7938\n",
            "Epoch 26/50\n",
            "352/352 [==============================] - 17s 49ms/step - loss: 0.9938 - sparse_categorical_accuracy: 0.8215 - val_loss: 1.0690 - val_sparse_categorical_accuracy: 0.8044\n",
            "Epoch 27/50\n",
            "352/352 [==============================] - 17s 50ms/step - loss: 0.9896 - sparse_categorical_accuracy: 0.8248 - val_loss: 1.1161 - val_sparse_categorical_accuracy: 0.7924\n",
            "Epoch 28/50\n",
            "352/352 [==============================] - 17s 49ms/step - loss: 0.9845 - sparse_categorical_accuracy: 0.8277 - val_loss: 1.0998 - val_sparse_categorical_accuracy: 0.7970\n",
            "Epoch 29/50\n",
            "352/352 [==============================] - 17s 49ms/step - loss: 0.9877 - sparse_categorical_accuracy: 0.8294 - val_loss: 1.0799 - val_sparse_categorical_accuracy: 0.8012\n",
            "Epoch 30/50\n",
            "352/352 [==============================] - 17s 49ms/step - loss: 0.9807 - sparse_categorical_accuracy: 0.8295 - val_loss: 1.1128 - val_sparse_categorical_accuracy: 0.7940\n",
            "Epoch 31/50\n",
            "352/352 [==============================] - 17s 49ms/step - loss: 0.9743 - sparse_categorical_accuracy: 0.8321 - val_loss: 1.1095 - val_sparse_categorical_accuracy: 0.7958\n",
            "Epoch 32/50\n",
            "352/352 [==============================] - 17s 49ms/step - loss: 0.9722 - sparse_categorical_accuracy: 0.8356 - val_loss: 1.0779 - val_sparse_categorical_accuracy: 0.8072\n",
            "Epoch 33/50\n",
            "352/352 [==============================] - 17s 49ms/step - loss: 0.9753 - sparse_categorical_accuracy: 0.8378 - val_loss: 1.1299 - val_sparse_categorical_accuracy: 0.7944\n",
            "Epoch 34/50\n",
            "352/352 [==============================] - 17s 48ms/step - loss: 0.9635 - sparse_categorical_accuracy: 0.8404 - val_loss: 1.1174 - val_sparse_categorical_accuracy: 0.7960\n",
            "Epoch 35/50\n",
            "352/352 [==============================] - 17s 49ms/step - loss: 0.9692 - sparse_categorical_accuracy: 0.8398 - val_loss: 1.1114 - val_sparse_categorical_accuracy: 0.8074\n",
            "Epoch 36/50\n",
            "352/352 [==============================] - 17s 49ms/step - loss: 0.9633 - sparse_categorical_accuracy: 0.8411 - val_loss: 1.1323 - val_sparse_categorical_accuracy: 0.7916\n",
            "Epoch 37/50\n",
            "352/352 [==============================] - 17s 49ms/step - loss: 0.9628 - sparse_categorical_accuracy: 0.8428 - val_loss: 1.1003 - val_sparse_categorical_accuracy: 0.8072\n",
            "Epoch 38/50\n",
            "352/352 [==============================] - 17s 49ms/step - loss: 0.9581 - sparse_categorical_accuracy: 0.8460 - val_loss: 1.1059 - val_sparse_categorical_accuracy: 0.8092\n",
            "Epoch 39/50\n",
            "352/352 [==============================] - 17s 49ms/step - loss: 0.9675 - sparse_categorical_accuracy: 0.8432 - val_loss: 1.1219 - val_sparse_categorical_accuracy: 0.8054\n",
            "Epoch 40/50\n",
            "352/352 [==============================] - 17s 49ms/step - loss: 0.9570 - sparse_categorical_accuracy: 0.8477 - val_loss: 1.1075 - val_sparse_categorical_accuracy: 0.8084\n",
            "Epoch 41/50\n",
            "352/352 [==============================] - 17s 49ms/step - loss: 0.9562 - sparse_categorical_accuracy: 0.8486 - val_loss: 1.0860 - val_sparse_categorical_accuracy: 0.8172\n",
            "Epoch 42/50\n",
            "352/352 [==============================] - 17s 49ms/step - loss: 0.9519 - sparse_categorical_accuracy: 0.8484 - val_loss: 1.0913 - val_sparse_categorical_accuracy: 0.8130\n",
            "Epoch 43/50\n",
            "352/352 [==============================] - 17s 49ms/step - loss: 0.9520 - sparse_categorical_accuracy: 0.8517 - val_loss: 1.0996 - val_sparse_categorical_accuracy: 0.8162\n",
            "Epoch 44/50\n",
            "352/352 [==============================] - 17s 49ms/step - loss: 0.9552 - sparse_categorical_accuracy: 0.8524 - val_loss: 1.0983 - val_sparse_categorical_accuracy: 0.8152\n",
            "Epoch 45/50\n",
            "352/352 [==============================] - 17s 49ms/step - loss: 0.9516 - sparse_categorical_accuracy: 0.8505 - val_loss: 1.0925 - val_sparse_categorical_accuracy: 0.8106\n",
            "Epoch 46/50\n",
            "352/352 [==============================] - 17s 49ms/step - loss: 0.9462 - sparse_categorical_accuracy: 0.8538 - val_loss: 1.1124 - val_sparse_categorical_accuracy: 0.8078\n",
            "Epoch 47/50\n",
            "352/352 [==============================] - 17s 48ms/step - loss: 0.9500 - sparse_categorical_accuracy: 0.8517 - val_loss: 1.0971 - val_sparse_categorical_accuracy: 0.8156\n",
            "Epoch 48/50\n",
            "352/352 [==============================] - 17s 48ms/step - loss: 0.9395 - sparse_categorical_accuracy: 0.8580 - val_loss: 1.1378 - val_sparse_categorical_accuracy: 0.8016\n",
            "Epoch 49/50\n",
            "352/352 [==============================] - 17s 49ms/step - loss: 0.9411 - sparse_categorical_accuracy: 0.8564 - val_loss: 1.1270 - val_sparse_categorical_accuracy: 0.8062\n",
            "Epoch 50/50\n",
            "352/352 [==============================] - 17s 49ms/step - loss: 0.9415 - sparse_categorical_accuracy: 0.8580 - val_loss: 1.1018 - val_sparse_categorical_accuracy: 0.8144\n"
          ]
        }
      ],
      "source": [
        "epochs = 50\n",
        "\n",
        "CNN2_his = CNN2.fit(\n",
        "  D_train,\n",
        "  validation_data=D_val,\n",
        "  epochs=epochs\n",
        ")"
      ]
    },
    {
      "cell_type": "code",
      "execution_count": null,
      "metadata": {
        "id": "CBAMBTPHbZnI",
        "colab": {
          "base_uri": "https://localhost:8080/"
        },
        "outputId": "9a5b524d-9773-4f2d-b4be-ed320a164d24"
      },
      "outputs": [
        {
          "output_type": "stream",
          "name": "stdout",
          "text": [
            "79/79 [==============================] - 1s 13ms/step - loss: 1.1263 - sparse_categorical_accuracy: 0.8085\n"
          ]
        }
      ],
      "source": [
        "loss, accuracy = CNN2.evaluate(D_test)"
      ]
    },
    {
      "cell_type": "markdown",
      "source": [
        "Visualise training results"
      ],
      "metadata": {
        "id": "KUuNKMo-i7Bq"
      }
    },
    {
      "cell_type": "code",
      "source": [
        "visualise(CNN2_his, 'sparse_categorical_accuracy', epochs)"
      ],
      "metadata": {
        "colab": {
          "base_uri": "https://localhost:8080/",
          "height": 468
        },
        "id": "rLszWFPujBUn",
        "outputId": "6e398413-92aa-4675-ed5e-b7f6d95fcfa7"
      },
      "execution_count": null,
      "outputs": [
        {
          "output_type": "display_data",
          "data": {
            "text/plain": [
              "<Figure size 800x500 with 2 Axes>"
            ],
            "image/png": "[encoded data removed]"
          },
          "metadata": {}
        }
      ]
    },
    {
      "cell_type": "markdown",
      "source": [
        "This time we set our regularization factor to 0.0005 and added l2 regularization in alternating layers in the network since it now has more layers. As expected, adding more complexity to the model improved its validation accuracy, we see it reaching 80% during training and a final test accuracy of 80.85% as well."
      ],
      "metadata": {
        "id": "RdWkCAkFI28o"
      }
    },
    {
      "cell_type": "markdown",
      "source": [
        "### CNN2 with Lion optimizer"
      ],
      "metadata": {
        "id": "qSzITpoCleyq"
      }
    },
    {
      "cell_type": "markdown",
      "source": [
        "We now try the Lion optimizer on the same network, since it has demonstrated that it can aid tasks such as image classification attain better results. We investigate that with our next model."
      ],
      "metadata": {
        "id": "j5MwAgWfKys2"
      }
    },
    {
      "cell_type": "code",
      "source": [
        "l2_reg = tf.keras.regularizers.l2(0.0005)"
      ],
      "metadata": {
        "id": "rOHA_6JA0qJH"
      },
      "execution_count": null,
      "outputs": []
    },
    {
      "cell_type": "code",
      "source": [
        "CNN2_L = tf.keras.Sequential(\n",
        "    layers = [\n",
        "      tf.keras.layers.Input(shape=(h, w, 3)),\n",
        "        \n",
        "      tf.keras.layers.Conv2D(48, 4, padding='same', kernel_regularizer=l2_reg, activation='relu'),\n",
        "      tf.keras.layers.MaxPooling2D((4,4), strides=(1,1)),\n",
        "        \n",
        "      tf.keras.layers.Conv2D(128, 4, padding='same', activation='relu'),\n",
        "      tf.keras.layers.MaxPooling2D(),\n",
        "        \n",
        "      tf.keras.layers.Conv2D(256, 4, padding='same', kernel_regularizer=l2_reg, activation='relu'),\n",
        "      tf.keras.layers.MaxPooling2D(strides=(2,2)),\n",
        "        \n",
        "      tf.keras.layers.Flatten(),\n",
        "      tf.keras.layers.Dropout(0.4),\n",
        "        \n",
        "      tf.keras.layers.Dense(2048, kernel_regularizer=l2_reg, activation='relu'),\n",
        "      tf.keras.layers.Dropout(0.4),\n",
        "        \n",
        "      tf.keras.layers.Dense(k)\n",
        "    ],\n",
        "    name = 'CNN2_L'\n",
        ")"
      ],
      "metadata": {
        "id": "KALZ0uPFleJu"
      },
      "execution_count": null,
      "outputs": []
    },
    {
      "cell_type": "code",
      "source": [
        "CNN2_L.compile(\n",
        "  optimizer = LION,\n",
        "  loss = SCCE,\n",
        "  metrics = SCA\n",
        ")"
      ],
      "metadata": {
        "id": "fxzPbrfrmAMB"
      },
      "execution_count": null,
      "outputs": []
    },
    {
      "cell_type": "markdown",
      "source": [
        "We now stop training at 20 epochs since we have observed that our models already diverge in terms of their performance measurement metrics by then."
      ],
      "metadata": {
        "id": "KRcYjwajOcSc"
      }
    },
    {
      "cell_type": "code",
      "source": [
        "epochs = 50\n",
        "\n",
        "CNN2L_his = CNN2_L.fit(\n",
        "  D_train,\n",
        "  validation_data=D_val,\n",
        "  epochs=epochs\n",
        ")"
      ],
      "metadata": {
        "colab": {
          "base_uri": "https://localhost:8080/"
        },
        "id": "xC_FERlVmeHI",
        "outputId": "f06b1e5b-ce42-4d7f-cd1f-c1b063971f26"
      },
      "execution_count": null,
      "outputs": [
        {
          "output_type": "stream",
          "name": "stdout",
          "text": [
            "Epoch 1/50\n",
            "352/352 [==============================] - 17s 46ms/step - loss: 2.3344 - sparse_categorical_accuracy: 0.5094 - val_loss: 1.5304 - val_sparse_categorical_accuracy: 0.6006\n",
            "Epoch 2/50\n",
            "352/352 [==============================] - 16s 46ms/step - loss: 1.4440 - sparse_categorical_accuracy: 0.6320 - val_loss: 1.3345 - val_sparse_categorical_accuracy: 0.6820\n",
            "Epoch 3/50\n",
            "352/352 [==============================] - 16s 47ms/step - loss: 1.3081 - sparse_categorical_accuracy: 0.6999 - val_loss: 1.2632 - val_sparse_categorical_accuracy: 0.7276\n",
            "Epoch 4/50\n",
            "352/352 [==============================] - 17s 47ms/step - loss: 1.2409 - sparse_categorical_accuracy: 0.7363 - val_loss: 1.1993 - val_sparse_categorical_accuracy: 0.7560\n",
            "Epoch 5/50\n",
            "352/352 [==============================] - 17s 47ms/step - loss: 1.1811 - sparse_categorical_accuracy: 0.7588 - val_loss: 1.1513 - val_sparse_categorical_accuracy: 0.7770\n",
            "Epoch 6/50\n",
            "352/352 [==============================] - 17s 48ms/step - loss: 1.1325 - sparse_categorical_accuracy: 0.7797 - val_loss: 1.1438 - val_sparse_categorical_accuracy: 0.7864\n",
            "Epoch 7/50\n",
            "352/352 [==============================] - 17s 48ms/step - loss: 1.1032 - sparse_categorical_accuracy: 0.7916 - val_loss: 1.1303 - val_sparse_categorical_accuracy: 0.7852\n",
            "Epoch 8/50\n",
            "352/352 [==============================] - 17s 48ms/step - loss: 1.0709 - sparse_categorical_accuracy: 0.8020 - val_loss: 1.1068 - val_sparse_categorical_accuracy: 0.7968\n",
            "Epoch 9/50\n",
            "352/352 [==============================] - 17s 48ms/step - loss: 1.0465 - sparse_categorical_accuracy: 0.8126 - val_loss: 1.0877 - val_sparse_categorical_accuracy: 0.8052\n",
            "Epoch 10/50\n",
            "352/352 [==============================] - 17s 49ms/step - loss: 1.0138 - sparse_categorical_accuracy: 0.8260 - val_loss: 1.0738 - val_sparse_categorical_accuracy: 0.8142\n",
            "Epoch 11/50\n",
            "352/352 [==============================] - 17s 48ms/step - loss: 1.0053 - sparse_categorical_accuracy: 0.8294 - val_loss: 1.0833 - val_sparse_categorical_accuracy: 0.8086\n",
            "Epoch 12/50\n",
            "352/352 [==============================] - 17s 48ms/step - loss: 0.9868 - sparse_categorical_accuracy: 0.8371 - val_loss: 1.0583 - val_sparse_categorical_accuracy: 0.8224\n",
            "Epoch 13/50\n",
            "352/352 [==============================] - 17s 48ms/step - loss: 0.9688 - sparse_categorical_accuracy: 0.8428 - val_loss: 1.0671 - val_sparse_categorical_accuracy: 0.8170\n",
            "Epoch 14/50\n",
            "352/352 [==============================] - 17s 48ms/step - loss: 0.9600 - sparse_categorical_accuracy: 0.8493 - val_loss: 1.0534 - val_sparse_categorical_accuracy: 0.8238\n",
            "Epoch 15/50\n",
            "352/352 [==============================] - 17s 48ms/step - loss: 0.9506 - sparse_categorical_accuracy: 0.8523 - val_loss: 1.0554 - val_sparse_categorical_accuracy: 0.8266\n",
            "Epoch 16/50\n",
            "352/352 [==============================] - 17s 49ms/step - loss: 0.9378 - sparse_categorical_accuracy: 0.8616 - val_loss: 1.0599 - val_sparse_categorical_accuracy: 0.8220\n",
            "Epoch 17/50\n",
            "352/352 [==============================] - 17s 48ms/step - loss: 0.9344 - sparse_categorical_accuracy: 0.8619 - val_loss: 1.0691 - val_sparse_categorical_accuracy: 0.8218\n",
            "Epoch 18/50\n",
            "352/352 [==============================] - 17s 48ms/step - loss: 0.9202 - sparse_categorical_accuracy: 0.8642 - val_loss: 1.0581 - val_sparse_categorical_accuracy: 0.8234\n",
            "Epoch 19/50\n",
            "352/352 [==============================] - 17s 49ms/step - loss: 0.9168 - sparse_categorical_accuracy: 0.8682 - val_loss: 1.0472 - val_sparse_categorical_accuracy: 0.8284\n",
            "Epoch 20/50\n",
            "352/352 [==============================] - 18s 50ms/step - loss: 0.9074 - sparse_categorical_accuracy: 0.8706 - val_loss: 1.0577 - val_sparse_categorical_accuracy: 0.8176\n",
            "Epoch 21/50\n",
            "352/352 [==============================] - 18s 50ms/step - loss: 0.9076 - sparse_categorical_accuracy: 0.8707 - val_loss: 1.0553 - val_sparse_categorical_accuracy: 0.8270\n",
            "Epoch 22/50\n",
            "352/352 [==============================] - 18s 50ms/step - loss: 0.8877 - sparse_categorical_accuracy: 0.8773 - val_loss: 1.0552 - val_sparse_categorical_accuracy: 0.8200\n",
            "Epoch 23/50\n",
            "352/352 [==============================] - 17s 49ms/step - loss: 0.8855 - sparse_categorical_accuracy: 0.8772 - val_loss: 1.0386 - val_sparse_categorical_accuracy: 0.8278\n",
            "Epoch 24/50\n",
            "352/352 [==============================] - 17s 49ms/step - loss: 0.8823 - sparse_categorical_accuracy: 0.8778 - val_loss: 1.0576 - val_sparse_categorical_accuracy: 0.8272\n",
            "Epoch 25/50\n",
            "352/352 [==============================] - 17s 48ms/step - loss: 0.8847 - sparse_categorical_accuracy: 0.8781 - val_loss: 1.0342 - val_sparse_categorical_accuracy: 0.8364\n",
            "Epoch 26/50\n",
            "352/352 [==============================] - 17s 49ms/step - loss: 0.8690 - sparse_categorical_accuracy: 0.8840 - val_loss: 1.0409 - val_sparse_categorical_accuracy: 0.8368\n",
            "Epoch 27/50\n",
            "352/352 [==============================] - 17s 48ms/step - loss: 0.8678 - sparse_categorical_accuracy: 0.8855 - val_loss: 1.0525 - val_sparse_categorical_accuracy: 0.8316\n",
            "Epoch 28/50\n",
            "352/352 [==============================] - 17s 48ms/step - loss: 0.8631 - sparse_categorical_accuracy: 0.8852 - val_loss: 1.0420 - val_sparse_categorical_accuracy: 0.8338\n",
            "Epoch 29/50\n",
            "352/352 [==============================] - 17s 48ms/step - loss: 0.8655 - sparse_categorical_accuracy: 0.8831 - val_loss: 1.0523 - val_sparse_categorical_accuracy: 0.8290\n",
            "Epoch 30/50\n",
            "352/352 [==============================] - 17s 49ms/step - loss: 0.8551 - sparse_categorical_accuracy: 0.8865 - val_loss: 1.0261 - val_sparse_categorical_accuracy: 0.8360\n",
            "Epoch 31/50\n",
            "352/352 [==============================] - 17s 49ms/step - loss: 0.8435 - sparse_categorical_accuracy: 0.8904 - val_loss: 1.0355 - val_sparse_categorical_accuracy: 0.8360\n",
            "Epoch 32/50\n",
            "352/352 [==============================] - 17s 49ms/step - loss: 0.8486 - sparse_categorical_accuracy: 0.8871 - val_loss: 1.0307 - val_sparse_categorical_accuracy: 0.8308\n",
            "Epoch 33/50\n",
            "352/352 [==============================] - 17s 48ms/step - loss: 0.8400 - sparse_categorical_accuracy: 0.8886 - val_loss: 1.0357 - val_sparse_categorical_accuracy: 0.8378\n",
            "Epoch 34/50\n",
            "352/352 [==============================] - 17s 49ms/step - loss: 0.8376 - sparse_categorical_accuracy: 0.8903 - val_loss: 1.0352 - val_sparse_categorical_accuracy: 0.8358\n",
            "Epoch 35/50\n",
            "352/352 [==============================] - 17s 48ms/step - loss: 0.8367 - sparse_categorical_accuracy: 0.8907 - val_loss: 1.0152 - val_sparse_categorical_accuracy: 0.8368\n",
            "Epoch 36/50\n",
            "352/352 [==============================] - 17s 48ms/step - loss: 0.8238 - sparse_categorical_accuracy: 0.8937 - val_loss: 1.0467 - val_sparse_categorical_accuracy: 0.8346\n",
            "Epoch 37/50\n",
            "352/352 [==============================] - 17s 48ms/step - loss: 0.8226 - sparse_categorical_accuracy: 0.8939 - val_loss: 1.0228 - val_sparse_categorical_accuracy: 0.8404\n",
            "Epoch 38/50\n",
            "352/352 [==============================] - 17s 48ms/step - loss: 0.8243 - sparse_categorical_accuracy: 0.8936 - val_loss: 1.0099 - val_sparse_categorical_accuracy: 0.8404\n",
            "Epoch 39/50\n",
            "352/352 [==============================] - 17s 48ms/step - loss: 0.8130 - sparse_categorical_accuracy: 0.8960 - val_loss: 1.0230 - val_sparse_categorical_accuracy: 0.8348\n",
            "Epoch 40/50\n",
            "352/352 [==============================] - 17s 48ms/step - loss: 0.8061 - sparse_categorical_accuracy: 0.8956 - val_loss: 0.9900 - val_sparse_categorical_accuracy: 0.8402\n",
            "Epoch 41/50\n",
            "352/352 [==============================] - 17s 48ms/step - loss: 0.8009 - sparse_categorical_accuracy: 0.8965 - val_loss: 1.0161 - val_sparse_categorical_accuracy: 0.8378\n",
            "Epoch 42/50\n",
            "352/352 [==============================] - 17s 49ms/step - loss: 0.8047 - sparse_categorical_accuracy: 0.8981 - val_loss: 1.0116 - val_sparse_categorical_accuracy: 0.8368\n",
            "Epoch 43/50\n",
            "352/352 [==============================] - 17s 48ms/step - loss: 0.7951 - sparse_categorical_accuracy: 0.8993 - val_loss: 1.0156 - val_sparse_categorical_accuracy: 0.8316\n",
            "Epoch 44/50\n",
            "352/352 [==============================] - 17s 49ms/step - loss: 0.7936 - sparse_categorical_accuracy: 0.9001 - val_loss: 1.0107 - val_sparse_categorical_accuracy: 0.8352\n",
            "Epoch 45/50\n",
            "352/352 [==============================] - 17s 48ms/step - loss: 0.7909 - sparse_categorical_accuracy: 0.8998 - val_loss: 1.0072 - val_sparse_categorical_accuracy: 0.8380\n",
            "Epoch 46/50\n",
            "352/352 [==============================] - 17s 48ms/step - loss: 0.7918 - sparse_categorical_accuracy: 0.8998 - val_loss: 1.0047 - val_sparse_categorical_accuracy: 0.8400\n",
            "Epoch 47/50\n",
            "352/352 [==============================] - 17s 48ms/step - loss: 0.7815 - sparse_categorical_accuracy: 0.9026 - val_loss: 0.9952 - val_sparse_categorical_accuracy: 0.8394\n",
            "Epoch 48/50\n",
            "352/352 [==============================] - 17s 48ms/step - loss: 0.7868 - sparse_categorical_accuracy: 0.9022 - val_loss: 0.9995 - val_sparse_categorical_accuracy: 0.8444\n",
            "Epoch 49/50\n",
            "352/352 [==============================] - 17s 49ms/step - loss: 0.7813 - sparse_categorical_accuracy: 0.9029 - val_loss: 0.9919 - val_sparse_categorical_accuracy: 0.8428\n",
            "Epoch 50/50\n",
            "352/352 [==============================] - 17s 48ms/step - loss: 0.7790 - sparse_categorical_accuracy: 0.9041 - val_loss: 1.0001 - val_sparse_categorical_accuracy: 0.8394\n"
          ]
        }
      ]
    },
    {
      "cell_type": "code",
      "source": [
        "loss, accuracy = CNN2_L.evaluate(D_test)"
      ],
      "metadata": {
        "colab": {
          "base_uri": "https://localhost:8080/"
        },
        "id": "f3Hh1Z3DQ6_K",
        "outputId": "554096ad-e5d4-4969-88b4-76fa5e2350e3"
      },
      "execution_count": null,
      "outputs": [
        {
          "output_type": "stream",
          "name": "stdout",
          "text": [
            "79/79 [==============================] - 1s 13ms/step - loss: 1.0306 - sparse_categorical_accuracy: 0.8297\n"
          ]
        }
      ]
    },
    {
      "cell_type": "code",
      "source": [
        "visualise(CNN2L_his, 'sparse_categorical_accuracy', epochs)"
      ],
      "metadata": {
        "colab": {
          "base_uri": "https://localhost:8080/",
          "height": 468
        },
        "id": "WQ0HEt30ocYH",
        "outputId": "573e4a34-3645-4782-99c0-b052fdb57a61"
      },
      "execution_count": null,
      "outputs": [
        {
          "output_type": "display_data",
          "data": {
            "text/plain": [
              "<Figure size 800x500 with 2 Axes>"
            ],
            "image/png": "[encoded data removed]"
          },
          "metadata": {}
        }
      ]
    },
    {
      "cell_type": "markdown",
      "source": [
        "As expected, the Lion optimizer has aided in increasing the accuracy of our model. We also notice how \"smoother\" the curves have become, indicating that training was more stable with the Lion optimizer. The final test accuracy has increased to 82.97%"
      ],
      "metadata": {
        "id": "0MoORiMXLdvs"
      }
    },
    {
      "cell_type": "markdown",
      "metadata": {
        "id": "gMgLVH-d4cIp"
      },
      "source": [
        "### **Model 3 : Increased Filter Sizes**"
      ]
    },
    {
      "cell_type": "markdown",
      "metadata": {
        "id": "uypaLHdb4eD2"
      },
      "source": [
        "Increasing the filter size in convolutional layers allows the network to capture larger and more global features in the input images. This can be beneficial when dealing with larger images or when the target objects or patterns have a broader spatial extent."
      ]
    },
    {
      "cell_type": "code",
      "source": [
        "l2_reg = tf.keras.regularizers.l2(0.001)"
      ],
      "metadata": {
        "id": "FnwemzYk1AEA"
      },
      "execution_count": null,
      "outputs": []
    },
    {
      "cell_type": "code",
      "execution_count": null,
      "metadata": {
        "id": "KzD0dbU_4h1Y"
      },
      "outputs": [],
      "source": [
        "CNN3 = tf.keras.Sequential(\n",
        "    layers = [\n",
        "      tf.keras.layers.Input(shape=(h, w, 3)),\n",
        "        \n",
        "      tf.keras.layers.Conv2D(96, 4, padding='same', kernel_regularizer=l2_reg, activation='relu'),\n",
        "      tf.keras.layers.MaxPooling2D((4,4), strides=(1,1)),\n",
        "        \n",
        "      tf.keras.layers.Conv2D(256, 4, padding='same', activation='relu'),\n",
        "      tf.keras.layers.MaxPooling2D(),\n",
        "        \n",
        "      tf.keras.layers.Conv2D(384, 4, padding='same', kernel_regularizer=l2_reg, activation='relu'),\n",
        "      tf.keras.layers.MaxPooling2D(strides=(1,1)),\n",
        "        \n",
        "      tf.keras.layers.Conv2D(256, 4, padding='same', activation='relu'),\n",
        "      tf.keras.layers.MaxPooling2D(strides=(2,2)),\n",
        "        \n",
        "      tf.keras.layers.Flatten(),\n",
        "      tf.keras.layers.Dropout(0.4),\n",
        "        \n",
        "      tf.keras.layers.Dense(4096, kernel_regularizer=l2_reg, activation='relu'),\n",
        "      tf.keras.layers.Dropout(0.4),\n",
        "        \n",
        "      tf.keras.layers.Dense(4096, kernel_regularizer=l2_reg, activation='relu'),\n",
        "      tf.keras.layers.Dropout(0.3),\n",
        "        \n",
        "      tf.keras.layers.Dense(k), \n",
        "    ],\n",
        "    name = 'CNN3'\n",
        ")"
      ]
    },
    {
      "cell_type": "code",
      "source": [
        "CNN3.compile(\n",
        "  optimizer = LION,\n",
        "  loss = SCCE,\n",
        "  metrics = SCA\n",
        ")"
      ],
      "metadata": {
        "id": "M96YCzqLp-fu"
      },
      "execution_count": null,
      "outputs": []
    },
    {
      "cell_type": "code",
      "execution_count": null,
      "metadata": {
        "id": "RG7zyFXDbZnJ",
        "colab": {
          "base_uri": "https://localhost:8080/"
        },
        "outputId": "dacdfb67-5a1e-48e4-862a-7a1d05f3678a"
      },
      "outputs": [
        {
          "output_type": "stream",
          "name": "stdout",
          "text": [
            "Model: \"CNN3\"\n",
            "_________________________________________________________________\n",
            " Layer (type)                Output Shape              Param #   \n",
            "=================================================================\n",
            " conv2d_63 (Conv2D)          (None, 32, 32, 96)        4704      \n",
            "                                                                 \n",
            " max_pooling2d_63 (MaxPoolin  (None, 29, 29, 96)       0         \n",
            " g2D)                                                            \n",
            "                                                                 \n",
            " conv2d_64 (Conv2D)          (None, 29, 29, 256)       393472    \n",
            "                                                                 \n",
            " max_pooling2d_64 (MaxPoolin  (None, 14, 14, 256)      0         \n",
            " g2D)                                                            \n",
            "                                                                 \n",
            " conv2d_65 (Conv2D)          (None, 14, 14, 384)       1573248   \n",
            "                                                                 \n",
            " max_pooling2d_65 (MaxPoolin  (None, 13, 13, 384)      0         \n",
            " g2D)                                                            \n",
            "                                                                 \n",
            " conv2d_66 (Conv2D)          (None, 13, 13, 256)       1573120   \n",
            "                                                                 \n",
            " max_pooling2d_66 (MaxPoolin  (None, 6, 6, 256)        0         \n",
            " g2D)                                                            \n",
            "                                                                 \n",
            " flatten_22 (Flatten)        (None, 9216)              0         \n",
            "                                                                 \n",
            " dropout_50 (Dropout)        (None, 9216)              0         \n",
            "                                                                 \n",
            " dense_50 (Dense)            (None, 4096)              37752832  \n",
            "                                                                 \n",
            " dropout_51 (Dropout)        (None, 4096)              0         \n",
            "                                                                 \n",
            " dense_51 (Dense)            (None, 4096)              16781312  \n",
            "                                                                 \n",
            " dropout_52 (Dropout)        (None, 4096)              0         \n",
            "                                                                 \n",
            " dense_52 (Dense)            (None, 10)                40970     \n",
            "                                                                 \n",
            "=================================================================\n",
            "Total params: 58,119,658\n",
            "Trainable params: 58,119,658\n",
            "Non-trainable params: 0\n",
            "_________________________________________________________________\n"
          ]
        }
      ],
      "source": [
        "CNN3.summary()"
      ]
    },
    {
      "cell_type": "code",
      "execution_count": null,
      "metadata": {
        "id": "69M3hPN3y3nb",
        "colab": {
          "base_uri": "https://localhost:8080/"
        },
        "outputId": "4d1ac840-d83d-4991-feca-e83c78131159"
      },
      "outputs": [
        {
          "output_type": "stream",
          "name": "stdout",
          "text": [
            "Epoch 1/75\n",
            "352/352 [==============================] - 55s 153ms/step - loss: 4.1387 - sparse_categorical_accuracy: 0.4485 - val_loss: 1.7977 - val_sparse_categorical_accuracy: 0.5756\n",
            "Epoch 2/75\n",
            "352/352 [==============================] - 55s 155ms/step - loss: 1.5687 - sparse_categorical_accuracy: 0.6114 - val_loss: 1.3859 - val_sparse_categorical_accuracy: 0.6770\n",
            "Epoch 3/75\n",
            "352/352 [==============================] - 55s 157ms/step - loss: 1.3595 - sparse_categorical_accuracy: 0.6860 - val_loss: 1.2531 - val_sparse_categorical_accuracy: 0.7320\n",
            "Epoch 4/75\n",
            "352/352 [==============================] - 56s 158ms/step - loss: 1.2319 - sparse_categorical_accuracy: 0.7366 - val_loss: 1.2039 - val_sparse_categorical_accuracy: 0.7512\n",
            "Epoch 5/75\n",
            "352/352 [==============================] - 56s 159ms/step - loss: 1.1536 - sparse_categorical_accuracy: 0.7690 - val_loss: 1.1230 - val_sparse_categorical_accuracy: 0.7878\n",
            "Epoch 6/75\n",
            "352/352 [==============================] - 55s 156ms/step - loss: 1.0893 - sparse_categorical_accuracy: 0.7926 - val_loss: 1.1158 - val_sparse_categorical_accuracy: 0.7896\n",
            "Epoch 7/75\n",
            "352/352 [==============================] - 56s 158ms/step - loss: 1.0305 - sparse_categorical_accuracy: 0.8104 - val_loss: 1.0467 - val_sparse_categorical_accuracy: 0.8046\n",
            "Epoch 8/75\n",
            "352/352 [==============================] - 56s 159ms/step - loss: 0.9919 - sparse_categorical_accuracy: 0.8238 - val_loss: 1.0621 - val_sparse_categorical_accuracy: 0.8016\n",
            "Epoch 9/75\n",
            "352/352 [==============================] - 56s 159ms/step - loss: 0.9506 - sparse_categorical_accuracy: 0.8361 - val_loss: 1.0267 - val_sparse_categorical_accuracy: 0.8168\n",
            "Epoch 10/75\n",
            "352/352 [==============================] - 56s 160ms/step - loss: 0.9301 - sparse_categorical_accuracy: 0.8464 - val_loss: 1.0194 - val_sparse_categorical_accuracy: 0.8160\n",
            "Epoch 11/75\n",
            "352/352 [==============================] - 57s 162ms/step - loss: 0.8931 - sparse_categorical_accuracy: 0.8566 - val_loss: 0.9880 - val_sparse_categorical_accuracy: 0.8304\n",
            "Epoch 12/75\n",
            "352/352 [==============================] - 56s 159ms/step - loss: 0.8762 - sparse_categorical_accuracy: 0.8638 - val_loss: 1.0403 - val_sparse_categorical_accuracy: 0.8070\n",
            "Epoch 13/75\n",
            "352/352 [==============================] - 57s 162ms/step - loss: 0.8600 - sparse_categorical_accuracy: 0.8693 - val_loss: 1.0078 - val_sparse_categorical_accuracy: 0.8246\n",
            "Epoch 14/75\n",
            "352/352 [==============================] - 55s 156ms/step - loss: 0.8393 - sparse_categorical_accuracy: 0.8753 - val_loss: 1.0091 - val_sparse_categorical_accuracy: 0.8254\n",
            "Epoch 15/75\n",
            "352/352 [==============================] - 56s 158ms/step - loss: 0.8286 - sparse_categorical_accuracy: 0.8800 - val_loss: 0.9874 - val_sparse_categorical_accuracy: 0.8358\n",
            "Epoch 16/75\n",
            "352/352 [==============================] - 57s 161ms/step - loss: 0.8165 - sparse_categorical_accuracy: 0.8834 - val_loss: 0.9852 - val_sparse_categorical_accuracy: 0.8386\n",
            "Epoch 17/75\n",
            "352/352 [==============================] - 58s 164ms/step - loss: 0.8030 - sparse_categorical_accuracy: 0.8901 - val_loss: 0.9887 - val_sparse_categorical_accuracy: 0.8370\n",
            "Epoch 18/75\n",
            "352/352 [==============================] - 56s 160ms/step - loss: 0.7881 - sparse_categorical_accuracy: 0.8928 - val_loss: 0.9971 - val_sparse_categorical_accuracy: 0.8382\n",
            "Epoch 19/75\n",
            "352/352 [==============================] - 57s 160ms/step - loss: 0.7769 - sparse_categorical_accuracy: 0.8971 - val_loss: 1.0574 - val_sparse_categorical_accuracy: 0.8162\n",
            "Epoch 20/75\n",
            "352/352 [==============================] - 57s 163ms/step - loss: 0.7645 - sparse_categorical_accuracy: 0.9004 - val_loss: 0.9890 - val_sparse_categorical_accuracy: 0.8312\n",
            "Epoch 21/75\n",
            "352/352 [==============================] - 56s 159ms/step - loss: 0.7547 - sparse_categorical_accuracy: 0.9029 - val_loss: 0.9815 - val_sparse_categorical_accuracy: 0.8398\n",
            "Epoch 22/75\n",
            "352/352 [==============================] - 56s 160ms/step - loss: 0.7481 - sparse_categorical_accuracy: 0.9054 - val_loss: 0.9875 - val_sparse_categorical_accuracy: 0.8382\n",
            "Epoch 23/75\n",
            "352/352 [==============================] - 55s 156ms/step - loss: 0.7399 - sparse_categorical_accuracy: 0.9097 - val_loss: 0.9755 - val_sparse_categorical_accuracy: 0.8416\n",
            "Epoch 24/75\n",
            "352/352 [==============================] - 55s 155ms/step - loss: 0.7266 - sparse_categorical_accuracy: 0.9110 - val_loss: 0.9864 - val_sparse_categorical_accuracy: 0.8348\n",
            "Epoch 25/75\n",
            "352/352 [==============================] - 55s 156ms/step - loss: 0.7257 - sparse_categorical_accuracy: 0.9116 - val_loss: 0.9810 - val_sparse_categorical_accuracy: 0.8382\n",
            "Epoch 26/75\n",
            "352/352 [==============================] - 55s 157ms/step - loss: 0.7135 - sparse_categorical_accuracy: 0.9158 - val_loss: 0.9934 - val_sparse_categorical_accuracy: 0.8364\n",
            "Epoch 27/75\n",
            "352/352 [==============================] - 55s 155ms/step - loss: 0.7022 - sparse_categorical_accuracy: 0.9184 - val_loss: 0.9888 - val_sparse_categorical_accuracy: 0.8344\n",
            "Epoch 28/75\n",
            "352/352 [==============================] - 55s 157ms/step - loss: 0.7030 - sparse_categorical_accuracy: 0.9178 - val_loss: 0.9966 - val_sparse_categorical_accuracy: 0.8362\n",
            "Epoch 29/75\n",
            "352/352 [==============================] - 56s 158ms/step - loss: 0.6895 - sparse_categorical_accuracy: 0.9207 - val_loss: 0.9913 - val_sparse_categorical_accuracy: 0.8404\n",
            "Epoch 30/75\n",
            "352/352 [==============================] - 56s 159ms/step - loss: 0.6935 - sparse_categorical_accuracy: 0.9219 - val_loss: 0.9999 - val_sparse_categorical_accuracy: 0.8406\n",
            "Epoch 31/75\n",
            "352/352 [==============================] - 56s 159ms/step - loss: 0.6815 - sparse_categorical_accuracy: 0.9220 - val_loss: 0.9934 - val_sparse_categorical_accuracy: 0.8292\n",
            "Epoch 32/75\n",
            "352/352 [==============================] - 56s 159ms/step - loss: 0.6806 - sparse_categorical_accuracy: 0.9225 - val_loss: 0.9782 - val_sparse_categorical_accuracy: 0.8426\n",
            "Epoch 33/75\n",
            "352/352 [==============================] - 56s 159ms/step - loss: 0.6722 - sparse_categorical_accuracy: 0.9250 - val_loss: 0.9838 - val_sparse_categorical_accuracy: 0.8430\n",
            "Epoch 34/75\n",
            "352/352 [==============================] - 57s 163ms/step - loss: 0.6647 - sparse_categorical_accuracy: 0.9262 - val_loss: 1.0105 - val_sparse_categorical_accuracy: 0.8374\n",
            "Epoch 35/75\n",
            "352/352 [==============================] - 56s 159ms/step - loss: 0.6616 - sparse_categorical_accuracy: 0.9283 - val_loss: 0.9981 - val_sparse_categorical_accuracy: 0.8372\n",
            "Epoch 36/75\n",
            "352/352 [==============================] - 55s 156ms/step - loss: 0.6559 - sparse_categorical_accuracy: 0.9303 - val_loss: 0.9837 - val_sparse_categorical_accuracy: 0.8402\n",
            "Epoch 37/75\n",
            "352/352 [==============================] - 55s 155ms/step - loss: 0.6575 - sparse_categorical_accuracy: 0.9277 - val_loss: 0.9806 - val_sparse_categorical_accuracy: 0.8352\n",
            "Epoch 38/75\n",
            "352/352 [==============================] - 55s 157ms/step - loss: 0.6518 - sparse_categorical_accuracy: 0.9315 - val_loss: 0.9798 - val_sparse_categorical_accuracy: 0.8370\n",
            "Epoch 39/75\n",
            "352/352 [==============================] - 56s 158ms/step - loss: 0.6454 - sparse_categorical_accuracy: 0.9326 - val_loss: 0.9801 - val_sparse_categorical_accuracy: 0.8434\n",
            "Epoch 40/75\n",
            "352/352 [==============================] - 55s 155ms/step - loss: 0.6474 - sparse_categorical_accuracy: 0.9307 - val_loss: 0.9705 - val_sparse_categorical_accuracy: 0.8396\n",
            "Epoch 41/75\n",
            "352/352 [==============================] - 55s 157ms/step - loss: 0.6384 - sparse_categorical_accuracy: 0.9325 - val_loss: 1.0180 - val_sparse_categorical_accuracy: 0.8376\n",
            "Epoch 42/75\n",
            "352/352 [==============================] - 56s 158ms/step - loss: 0.6349 - sparse_categorical_accuracy: 0.9352 - val_loss: 0.9751 - val_sparse_categorical_accuracy: 0.8374\n",
            "Epoch 43/75\n",
            "352/352 [==============================] - 55s 155ms/step - loss: 0.6379 - sparse_categorical_accuracy: 0.9320 - val_loss: 1.0040 - val_sparse_categorical_accuracy: 0.8354\n",
            "Epoch 44/75\n",
            "352/352 [==============================] - 55s 157ms/step - loss: 0.6381 - sparse_categorical_accuracy: 0.9332 - val_loss: 0.9737 - val_sparse_categorical_accuracy: 0.8478\n",
            "Epoch 45/75\n",
            "352/352 [==============================] - 56s 158ms/step - loss: 0.6264 - sparse_categorical_accuracy: 0.9352 - val_loss: 0.9767 - val_sparse_categorical_accuracy: 0.8422\n",
            "Epoch 46/75\n",
            "352/352 [==============================] - 56s 159ms/step - loss: 0.6207 - sparse_categorical_accuracy: 0.9370 - val_loss: 0.9936 - val_sparse_categorical_accuracy: 0.8398\n",
            "Epoch 47/75\n",
            "352/352 [==============================] - 56s 158ms/step - loss: 0.6229 - sparse_categorical_accuracy: 0.9370 - val_loss: 0.9913 - val_sparse_categorical_accuracy: 0.8378\n",
            "Epoch 48/75\n",
            "352/352 [==============================] - 56s 159ms/step - loss: 0.6147 - sparse_categorical_accuracy: 0.9379 - val_loss: 1.0039 - val_sparse_categorical_accuracy: 0.8402\n",
            "Epoch 49/75\n",
            "352/352 [==============================] - 56s 159ms/step - loss: 0.6161 - sparse_categorical_accuracy: 0.9372 - val_loss: 0.9975 - val_sparse_categorical_accuracy: 0.8440\n",
            "Epoch 50/75\n",
            "352/352 [==============================] - 56s 159ms/step - loss: 0.6218 - sparse_categorical_accuracy: 0.9372 - val_loss: 1.0053 - val_sparse_categorical_accuracy: 0.8408\n",
            "Epoch 51/75\n",
            "352/352 [==============================] - 56s 158ms/step - loss: 0.6062 - sparse_categorical_accuracy: 0.9396 - val_loss: 0.9633 - val_sparse_categorical_accuracy: 0.8430\n",
            "Epoch 52/75\n",
            "352/352 [==============================] - 56s 159ms/step - loss: 0.5990 - sparse_categorical_accuracy: 0.9390 - val_loss: 1.0114 - val_sparse_categorical_accuracy: 0.8394\n",
            "Epoch 53/75\n",
            "352/352 [==============================] - 56s 159ms/step - loss: 0.6011 - sparse_categorical_accuracy: 0.9401 - val_loss: 1.0136 - val_sparse_categorical_accuracy: 0.8330\n",
            "Epoch 54/75\n",
            "352/352 [==============================] - 55s 157ms/step - loss: 0.6067 - sparse_categorical_accuracy: 0.9384 - val_loss: 0.9816 - val_sparse_categorical_accuracy: 0.8412\n",
            "Epoch 55/75\n",
            "352/352 [==============================] - 55s 155ms/step - loss: 0.6092 - sparse_categorical_accuracy: 0.9395 - val_loss: 1.0082 - val_sparse_categorical_accuracy: 0.8334\n",
            "Epoch 56/75\n",
            "352/352 [==============================] - 55s 156ms/step - loss: 0.5979 - sparse_categorical_accuracy: 0.9408 - val_loss: 0.9894 - val_sparse_categorical_accuracy: 0.8402\n",
            "Epoch 57/75\n",
            "352/352 [==============================] - 55s 155ms/step - loss: 0.5970 - sparse_categorical_accuracy: 0.9401 - val_loss: 1.0258 - val_sparse_categorical_accuracy: 0.8370\n",
            "Epoch 58/75\n",
            "352/352 [==============================] - 55s 156ms/step - loss: 0.5891 - sparse_categorical_accuracy: 0.9423 - val_loss: 0.9718 - val_sparse_categorical_accuracy: 0.8450\n",
            "Epoch 59/75\n",
            "352/352 [==============================] - 55s 158ms/step - loss: 0.5902 - sparse_categorical_accuracy: 0.9414 - val_loss: 1.0139 - val_sparse_categorical_accuracy: 0.8396\n",
            "Epoch 60/75\n",
            "352/352 [==============================] - 57s 161ms/step - loss: 0.5892 - sparse_categorical_accuracy: 0.9426 - val_loss: 1.0172 - val_sparse_categorical_accuracy: 0.8386\n",
            "Epoch 61/75\n",
            "352/352 [==============================] - 55s 155ms/step - loss: 0.5833 - sparse_categorical_accuracy: 0.9441 - val_loss: 1.0067 - val_sparse_categorical_accuracy: 0.8474\n",
            "Epoch 62/75\n",
            "352/352 [==============================] - 54s 154ms/step - loss: 0.5888 - sparse_categorical_accuracy: 0.9424 - val_loss: 0.9763 - val_sparse_categorical_accuracy: 0.8462\n",
            "Epoch 63/75\n",
            "352/352 [==============================] - 54s 153ms/step - loss: 0.5838 - sparse_categorical_accuracy: 0.9432 - val_loss: 1.0089 - val_sparse_categorical_accuracy: 0.8392\n",
            "Epoch 64/75\n",
            "352/352 [==============================] - 55s 156ms/step - loss: 0.5861 - sparse_categorical_accuracy: 0.9430 - val_loss: 1.0021 - val_sparse_categorical_accuracy: 0.8440\n",
            "Epoch 65/75\n",
            "352/352 [==============================] - 55s 157ms/step - loss: 0.5847 - sparse_categorical_accuracy: 0.9436 - val_loss: 0.9760 - val_sparse_categorical_accuracy: 0.8372\n",
            "Epoch 66/75\n",
            "352/352 [==============================] - 56s 158ms/step - loss: 0.5800 - sparse_categorical_accuracy: 0.9436 - val_loss: 0.9945 - val_sparse_categorical_accuracy: 0.8462\n",
            "Epoch 67/75\n",
            "352/352 [==============================] - 56s 158ms/step - loss: 0.5778 - sparse_categorical_accuracy: 0.9440 - val_loss: 0.9892 - val_sparse_categorical_accuracy: 0.8440\n",
            "Epoch 68/75\n",
            "352/352 [==============================] - 56s 158ms/step - loss: 0.5780 - sparse_categorical_accuracy: 0.9454 - val_loss: 1.0426 - val_sparse_categorical_accuracy: 0.8344\n",
            "Epoch 69/75\n",
            "352/352 [==============================] - 56s 159ms/step - loss: 0.5731 - sparse_categorical_accuracy: 0.9456 - val_loss: 0.9815 - val_sparse_categorical_accuracy: 0.8404\n",
            "Epoch 70/75\n",
            "352/352 [==============================] - 56s 159ms/step - loss: 0.5669 - sparse_categorical_accuracy: 0.9458 - val_loss: 0.9839 - val_sparse_categorical_accuracy: 0.8454\n",
            "Epoch 71/75\n",
            "352/352 [==============================] - 56s 158ms/step - loss: 0.5677 - sparse_categorical_accuracy: 0.9452 - val_loss: 0.9704 - val_sparse_categorical_accuracy: 0.8478\n",
            "Epoch 72/75\n",
            "352/352 [==============================] - 56s 159ms/step - loss: 0.5633 - sparse_categorical_accuracy: 0.9469 - val_loss: 0.9600 - val_sparse_categorical_accuracy: 0.8418\n",
            "Epoch 73/75\n",
            "352/352 [==============================] - 56s 159ms/step - loss: 0.5607 - sparse_categorical_accuracy: 0.9466 - val_loss: 0.9799 - val_sparse_categorical_accuracy: 0.8402\n",
            "Epoch 74/75\n",
            "352/352 [==============================] - 55s 155ms/step - loss: 0.5526 - sparse_categorical_accuracy: 0.9468 - val_loss: 0.9906 - val_sparse_categorical_accuracy: 0.8432\n",
            "Epoch 75/75\n",
            "352/352 [==============================] - 55s 157ms/step - loss: 0.5545 - sparse_categorical_accuracy: 0.9459 - val_loss: 0.9677 - val_sparse_categorical_accuracy: 0.8442\n"
          ]
        }
      ],
      "source": [
        "epochs = 75\n",
        "\n",
        "CNN3_hist = CNN3.fit(\n",
        "  D_train,\n",
        "  validation_data=D_val,\n",
        "  epochs=epochs\n",
        ")"
      ]
    },
    {
      "cell_type": "code",
      "execution_count": null,
      "metadata": {
        "id": "6R_h6r2ObZnK",
        "colab": {
          "base_uri": "https://localhost:8080/"
        },
        "outputId": "abdf2daa-d6ce-4098-8a31-1148b97452df"
      },
      "outputs": [
        {
          "output_type": "stream",
          "name": "stdout",
          "text": [
            "79/79 [==============================] - 3s 39ms/step - loss: 1.0163 - sparse_categorical_accuracy: 0.8322\n"
          ]
        }
      ],
      "source": [
        "loss, accuracy = CNN3.evaluate(D_test)"
      ]
    },
    {
      "cell_type": "code",
      "source": [
        "visualise(CNN3_hist, 'sparse_categorical_accuracy', epochs)"
      ],
      "metadata": {
        "colab": {
          "base_uri": "https://localhost:8080/",
          "height": 468
        },
        "id": "qlIPcq7aADjX",
        "outputId": "46bf8080-1069-4567-c385-a2f2849523cd"
      },
      "execution_count": null,
      "outputs": [
        {
          "output_type": "display_data",
          "data": {
            "text/plain": [
              "<Figure size 800x500 with 2 Axes>"
            ],
            "image/png": "[encoded data removed]"
          },
          "metadata": {}
        }
      ]
    },
    {
      "cell_type": "markdown",
      "metadata": {
        "id": "UcLEbN0jzMqz"
      },
      "source": [
        "### Visualizing training results"
      ]
    },
    {
      "cell_type": "code",
      "execution_count": null,
      "metadata": {
        "id": "apl4t2exzPIy"
      },
      "outputs": [],
      "source": [
        "visualise(history_1, 'sparse_categorical_accuracy', epochs, 'model-2A')"
      ]
    },
    {
      "cell_type": "code",
      "execution_count": null,
      "metadata": {
        "id": "TDNYSDYMbZnL"
      },
      "outputs": [],
      "source": [
        "visualise(history_2, 'sparse_categorical_accuracy', epochs, 'model-2B')"
      ]
    },
    {
      "cell_type": "code",
      "execution_count": null,
      "metadata": {
        "id": "YPPyDuATbZnL"
      },
      "outputs": [],
      "source": [
        "visualise(history_3, 'sparse_categorical_accuracy', epochs, 'model-2C')"
      ]
    },
    {
      "cell_type": "code",
      "execution_count": null,
      "metadata": {
        "id": "VO3FzUrvbZnL"
      },
      "outputs": [],
      "source": [
        "print(times)"
      ]
    }
  ],
  "metadata": {
    "accelerator": "GPU",
    "colab": {
      "collapsed_sections": [
        "sCVU5B67-XK5",
        "kLRxY_c8GR-7",
        "L9cE55Mi_e4A",
        "I3KHVSGv_3vl",
        "WDVotZXlG7xM",
        "4idZaG1uGbye",
        "Fm5pt3FdR4_a",
        "AmtX5c14jwnz",
        "31RWd-Wytws-",
        "Oqqw1LzwvNbX",
        "0DbSN-8nbZnE",
        "ku6daKi3bZnF",
        "n_VU7dDR3yYe",
        "3xuTA7dR39rb",
        "gMgLVH-d4cIp",
        "qkd2hCjsbZnL",
        "Vb0a_t_xbZnM",
        "OxKFA087bZnN",
        "AtK2AMCtbZnO",
        "OV8BAV9syPG1"
      ],
      "provenance": [],
      "include_colab_link": true
    },
    "gpuClass": "standard",
    "kernelspec": {
      "display_name": "Python 3",
      "language": "python",
      "name": "python3"
    },
    "language_info": {
      "codemirror_mode": {
        "name": "ipython",
        "version": 3
      },
      "file_extension": ".py",
      "mimetype": "text/x-python",
      "name": "python",
      "nbconvert_exporter": "python",
      "pygments_lexer": "ipython3",
      "version": "3.10.10"
    },
    "widgets": {
      "application/vnd.jupyter.widget-state+json": {
        "7c2e44d70ae34ab8a6157c7a231173a2": {
          "model_module": "@jupyter-widgets/controls",
          "model_name": "HBoxModel",
          "model_module_version": "1.5.0",
          "state": {
            "_dom_classes": [],
            "_model_module": "@jupyter-widgets/controls",
            "_model_module_version": "1.5.0",
            "_model_name": "HBoxModel",
            "_view_count": null,
            "_view_module": "@jupyter-widgets/controls",
            "_view_module_version": "1.5.0",
            "_view_name": "HBoxView",
            "box_style": "",
            "children": [
              "IPY_MODEL_c2c16e8599084bf0b5d1cd6088be689b",
              "IPY_MODEL_e229b36f11b943fe997cab4030e615fd",
              "IPY_MODEL_af474de27dc746c8a9891b6046263cc3"
            ],
            "layout": "IPY_MODEL_2c7059b412864054b161050a93ee634e"
          }
        },
        "c2c16e8599084bf0b5d1cd6088be689b": {
          "model_module": "@jupyter-widgets/controls",
          "model_name": "HTMLModel",
          "model_module_version": "1.5.0",
          "state": {
            "_dom_classes": [],
            "_model_module": "@jupyter-widgets/controls",
            "_model_module_version": "1.5.0",
            "_model_name": "HTMLModel",
            "_view_count": null,
            "_view_module": "@jupyter-widgets/controls",
            "_view_module_version": "1.5.0",
            "_view_name": "HTMLView",
            "description": "",
            "description_tooltip": null,
            "layout": "IPY_MODEL_b10cae5c9b4b40b69a5db2392822fc31",
            "placeholder": "​",
            "style": "IPY_MODEL_fe57f5c947ee4cafbde9a9a7327f2fb7",
            "value": "Dl Completed...: 100%"
          }
        },
        "e229b36f11b943fe997cab4030e615fd": {
          "model_module": "@jupyter-widgets/controls",
          "model_name": "FloatProgressModel",
          "model_module_version": "1.5.0",
          "state": {
            "_dom_classes": [],
            "_model_module": "@jupyter-widgets/controls",
            "_model_module_version": "1.5.0",
            "_model_name": "FloatProgressModel",
            "_view_count": null,
            "_view_module": "@jupyter-widgets/controls",
            "_view_module_version": "1.5.0",
            "_view_name": "ProgressView",
            "bar_style": "success",
            "description": "",
            "description_tooltip": null,
            "layout": "IPY_MODEL_3e05d58d9c52429fa7ac1333d5acdf40",
            "max": 1,
            "min": 0,
            "orientation": "horizontal",
            "style": "IPY_MODEL_0c4218be972e4dbb8870e9b44fb76245",
            "value": 1
          }
        },
        "af474de27dc746c8a9891b6046263cc3": {
          "model_module": "@jupyter-widgets/controls",
          "model_name": "HTMLModel",
          "model_module_version": "1.5.0",
          "state": {
            "_dom_classes": [],
            "_model_module": "@jupyter-widgets/controls",
            "_model_module_version": "1.5.0",
            "_model_name": "HTMLModel",
            "_view_count": null,
            "_view_module": "@jupyter-widgets/controls",
            "_view_module_version": "1.5.0",
            "_view_name": "HTMLView",
            "description": "",
            "description_tooltip": null,
            "layout": "IPY_MODEL_d12ea58420e5419585801db66347db78",
            "placeholder": "​",
            "style": "IPY_MODEL_bb22257e1000498b94f909f4069f6779",
            "value": " 1/1 [00:16&lt;00:00, 14.56s/ url]"
          }
        },
        "2c7059b412864054b161050a93ee634e": {
          "model_module": "@jupyter-widgets/base",
          "model_name": "LayoutModel",
          "model_module_version": "1.2.0",
          "state": {
            "_model_module": "@jupyter-widgets/base",
            "_model_module_version": "1.2.0",
            "_model_name": "LayoutModel",
            "_view_count": null,
            "_view_module": "@jupyter-widgets/base",
            "_view_module_version": "1.2.0",
            "_view_name": "LayoutView",
            "align_content": null,
            "align_items": null,
            "align_self": null,
            "border": null,
            "bottom": null,
            "display": null,
            "flex": null,
            "flex_flow": null,
            "grid_area": null,
            "grid_auto_columns": null,
            "grid_auto_flow": null,
            "grid_auto_rows": null,
            "grid_column": null,
            "grid_gap": null,
            "grid_row": null,
            "grid_template_areas": null,
            "grid_template_columns": null,
            "grid_template_rows": null,
            "height": null,
            "justify_content": null,
            "justify_items": null,
            "left": null,
            "margin": null,
            "max_height": null,
            "max_width": null,
            "min_height": null,
            "min_width": null,
            "object_fit": null,
            "object_position": null,
            "order": null,
            "overflow": null,
            "overflow_x": null,
            "overflow_y": null,
            "padding": null,
            "right": null,
            "top": null,
            "visibility": null,
            "width": null
          }
        },
        "b10cae5c9b4b40b69a5db2392822fc31": {
          "model_module": "@jupyter-widgets/base",
          "model_name": "LayoutModel",
          "model_module_version": "1.2.0",
          "state": {
            "_model_module": "@jupyter-widgets/base",
            "_model_module_version": "1.2.0",
            "_model_name": "LayoutModel",
            "_view_count": null,
            "_view_module": "@jupyter-widgets/base",
            "_view_module_version": "1.2.0",
            "_view_name": "LayoutView",
            "align_content": null,
            "align_items": null,
            "align_self": null,
            "border": null,
            "bottom": null,
            "display": null,
            "flex": null,
            "flex_flow": null,
            "grid_area": null,
            "grid_auto_columns": null,
            "grid_auto_flow": null,
            "grid_auto_rows": null,
            "grid_column": null,
            "grid_gap": null,
            "grid_row": null,
            "grid_template_areas": null,
            "grid_template_columns": null,
            "grid_template_rows": null,
            "height": null,
            "justify_content": null,
            "justify_items": null,
            "left": null,
            "margin": null,
            "max_height": null,
            "max_width": null,
            "min_height": null,
            "min_width": null,
            "object_fit": null,
            "object_position": null,
            "order": null,
            "overflow": null,
            "overflow_x": null,
            "overflow_y": null,
            "padding": null,
            "right": null,
            "top": null,
            "visibility": null,
            "width": null
          }
        },
        "fe57f5c947ee4cafbde9a9a7327f2fb7": {
          "model_module": "@jupyter-widgets/controls",
          "model_name": "DescriptionStyleModel",
          "model_module_version": "1.5.0",
          "state": {
            "_model_module": "@jupyter-widgets/controls",
            "_model_module_version": "1.5.0",
            "_model_name": "DescriptionStyleModel",
            "_view_count": null,
            "_view_module": "@jupyter-widgets/base",
            "_view_module_version": "1.2.0",
            "_view_name": "StyleView",
            "description_width": ""
          }
        },
        "3e05d58d9c52429fa7ac1333d5acdf40": {
          "model_module": "@jupyter-widgets/base",
          "model_name": "LayoutModel",
          "model_module_version": "1.2.0",
          "state": {
            "_model_module": "@jupyter-widgets/base",
            "_model_module_version": "1.2.0",
            "_model_name": "LayoutModel",
            "_view_count": null,
            "_view_module": "@jupyter-widgets/base",
            "_view_module_version": "1.2.0",
            "_view_name": "LayoutView",
            "align_content": null,
            "align_items": null,
            "align_self": null,
            "border": null,
            "bottom": null,
            "display": null,
            "flex": null,
            "flex_flow": null,
            "grid_area": null,
            "grid_auto_columns": null,
            "grid_auto_flow": null,
            "grid_auto_rows": null,
            "grid_column": null,
            "grid_gap": null,
            "grid_row": null,
            "grid_template_areas": null,
            "grid_template_columns": null,
            "grid_template_rows": null,
            "height": null,
            "justify_content": null,
            "justify_items": null,
            "left": null,
            "margin": null,
            "max_height": null,
            "max_width": null,
            "min_height": null,
            "min_width": null,
            "object_fit": null,
            "object_position": null,
            "order": null,
            "overflow": null,
            "overflow_x": null,
            "overflow_y": null,
            "padding": null,
            "right": null,
            "top": null,
            "visibility": null,
            "width": "20px"
          }
        },
        "0c4218be972e4dbb8870e9b44fb76245": {
          "model_module": "@jupyter-widgets/controls",
          "model_name": "ProgressStyleModel",
          "model_module_version": "1.5.0",
          "state": {
            "_model_module": "@jupyter-widgets/controls",
            "_model_module_version": "1.5.0",
            "_model_name": "ProgressStyleModel",
            "_view_count": null,
            "_view_module": "@jupyter-widgets/base",
            "_view_module_version": "1.2.0",
            "_view_name": "StyleView",
            "bar_color": null,
            "description_width": ""
          }
        },
        "d12ea58420e5419585801db66347db78": {
          "model_module": "@jupyter-widgets/base",
          "model_name": "LayoutModel",
          "model_module_version": "1.2.0",
          "state": {
            "_model_module": "@jupyter-widgets/base",
            "_model_module_version": "1.2.0",
            "_model_name": "LayoutModel",
            "_view_count": null,
            "_view_module": "@jupyter-widgets/base",
            "_view_module_version": "1.2.0",
            "_view_name": "LayoutView",
            "align_content": null,
            "align_items": null,
            "align_self": null,
            "border": null,
            "bottom": null,
            "display": null,
            "flex": null,
            "flex_flow": null,
            "grid_area": null,
            "grid_auto_columns": null,
            "grid_auto_flow": null,
            "grid_auto_rows": null,
            "grid_column": null,
            "grid_gap": null,
            "grid_row": null,
            "grid_template_areas": null,
            "grid_template_columns": null,
            "grid_template_rows": null,
            "height": null,
            "justify_content": null,
            "justify_items": null,
            "left": null,
            "margin": null,
            "max_height": null,
            "max_width": null,
            "min_height": null,
            "min_width": null,
            "object_fit": null,
            "object_position": null,
            "order": null,
            "overflow": null,
            "overflow_x": null,
            "overflow_y": null,
            "padding": null,
            "right": null,
            "top": null,
            "visibility": null,
            "width": null
          }
        },
        "bb22257e1000498b94f909f4069f6779": {
          "model_module": "@jupyter-widgets/controls",
          "model_name": "DescriptionStyleModel",
          "model_module_version": "1.5.0",
          "state": {
            "_model_module": "@jupyter-widgets/controls",
            "_model_module_version": "1.5.0",
            "_model_name": "DescriptionStyleModel",
            "_view_count": null,
            "_view_module": "@jupyter-widgets/base",
            "_view_module_version": "1.2.0",
            "_view_name": "StyleView",
            "description_width": ""
          }
        },
        "6c4cb883e7f54006bc31b7379ade5c39": {
          "model_module": "@jupyter-widgets/controls",
          "model_name": "HBoxModel",
          "model_module_version": "1.5.0",
          "state": {
            "_dom_classes": [],
            "_model_module": "@jupyter-widgets/controls",
            "_model_module_version": "1.5.0",
            "_model_name": "HBoxModel",
            "_view_count": null,
            "_view_module": "@jupyter-widgets/controls",
            "_view_module_version": "1.5.0",
            "_view_name": "HBoxView",
            "box_style": "",
            "children": [
              "IPY_MODEL_99cb8bef07c7497e815907540d393f48",
              "IPY_MODEL_ac79e270f2ab4595bc383c6d3e026e17",
              "IPY_MODEL_c3b675a44f154026abaf8477fc327294"
            ],
            "layout": "IPY_MODEL_c02a1d33ccff422a8762167795e4177f"
          }
        },
        "99cb8bef07c7497e815907540d393f48": {
          "model_module": "@jupyter-widgets/controls",
          "model_name": "HTMLModel",
          "model_module_version": "1.5.0",
          "state": {
            "_dom_classes": [],
            "_model_module": "@jupyter-widgets/controls",
            "_model_module_version": "1.5.0",
            "_model_name": "HTMLModel",
            "_view_count": null,
            "_view_module": "@jupyter-widgets/controls",
            "_view_module_version": "1.5.0",
            "_view_name": "HTMLView",
            "description": "",
            "description_tooltip": null,
            "layout": "IPY_MODEL_d77174193dfc4f4cb0fb95b4b1a4894e",
            "placeholder": "​",
            "style": "IPY_MODEL_498f7435589547c182eff8993019bb87",
            "value": "Dl Size...: 100%"
          }
        },
        "ac79e270f2ab4595bc383c6d3e026e17": {
          "model_module": "@jupyter-widgets/controls",
          "model_name": "FloatProgressModel",
          "model_module_version": "1.5.0",
          "state": {
            "_dom_classes": [],
            "_model_module": "@jupyter-widgets/controls",
            "_model_module_version": "1.5.0",
            "_model_name": "FloatProgressModel",
            "_view_count": null,
            "_view_module": "@jupyter-widgets/controls",
            "_view_module_version": "1.5.0",
            "_view_name": "ProgressView",
            "bar_style": "success",
            "description": "",
            "description_tooltip": null,
            "layout": "IPY_MODEL_6ddb191cc9204b74b9ae204ddc7adf0f",
            "max": 1,
            "min": 0,
            "orientation": "horizontal",
            "style": "IPY_MODEL_110e7953bcc544a8a51f0f8ab646280d",
            "value": 1
          }
        },
        "c3b675a44f154026abaf8477fc327294": {
          "model_module": "@jupyter-widgets/controls",
          "model_name": "HTMLModel",
          "model_module_version": "1.5.0",
          "state": {
            "_dom_classes": [],
            "_model_module": "@jupyter-widgets/controls",
            "_model_module_version": "1.5.0",
            "_model_name": "HTMLModel",
            "_view_count": null,
            "_view_module": "@jupyter-widgets/controls",
            "_view_module_version": "1.5.0",
            "_view_name": "HTMLView",
            "description": "",
            "description_tooltip": null,
            "layout": "IPY_MODEL_1a431a7ad3dd42f3bd4768cd46929a18",
            "placeholder": "​",
            "style": "IPY_MODEL_c06d64cc80b24012a3a2154ddd1c94fa",
            "value": " 162/162 [00:16&lt;00:00, 14.27 MiB/s]"
          }
        },
        "c02a1d33ccff422a8762167795e4177f": {
          "model_module": "@jupyter-widgets/base",
          "model_name": "LayoutModel",
          "model_module_version": "1.2.0",
          "state": {
            "_model_module": "@jupyter-widgets/base",
            "_model_module_version": "1.2.0",
            "_model_name": "LayoutModel",
            "_view_count": null,
            "_view_module": "@jupyter-widgets/base",
            "_view_module_version": "1.2.0",
            "_view_name": "LayoutView",
            "align_content": null,
            "align_items": null,
            "align_self": null,
            "border": null,
            "bottom": null,
            "display": null,
            "flex": null,
            "flex_flow": null,
            "grid_area": null,
            "grid_auto_columns": null,
            "grid_auto_flow": null,
            "grid_auto_rows": null,
            "grid_column": null,
            "grid_gap": null,
            "grid_row": null,
            "grid_template_areas": null,
            "grid_template_columns": null,
            "grid_template_rows": null,
            "height": null,
            "justify_content": null,
            "justify_items": null,
            "left": null,
            "margin": null,
            "max_height": null,
            "max_width": null,
            "min_height": null,
            "min_width": null,
            "object_fit": null,
            "object_position": null,
            "order": null,
            "overflow": null,
            "overflow_x": null,
            "overflow_y": null,
            "padding": null,
            "right": null,
            "top": null,
            "visibility": null,
            "width": null
          }
        },
        "d77174193dfc4f4cb0fb95b4b1a4894e": {
          "model_module": "@jupyter-widgets/base",
          "model_name": "LayoutModel",
          "model_module_version": "1.2.0",
          "state": {
            "_model_module": "@jupyter-widgets/base",
            "_model_module_version": "1.2.0",
            "_model_name": "LayoutModel",
            "_view_count": null,
            "_view_module": "@jupyter-widgets/base",
            "_view_module_version": "1.2.0",
            "_view_name": "LayoutView",
            "align_content": null,
            "align_items": null,
            "align_self": null,
            "border": null,
            "bottom": null,
            "display": null,
            "flex": null,
            "flex_flow": null,
            "grid_area": null,
            "grid_auto_columns": null,
            "grid_auto_flow": null,
            "grid_auto_rows": null,
            "grid_column": null,
            "grid_gap": null,
            "grid_row": null,
            "grid_template_areas": null,
            "grid_template_columns": null,
            "grid_template_rows": null,
            "height": null,
            "justify_content": null,
            "justify_items": null,
            "left": null,
            "margin": null,
            "max_height": null,
            "max_width": null,
            "min_height": null,
            "min_width": null,
            "object_fit": null,
            "object_position": null,
            "order": null,
            "overflow": null,
            "overflow_x": null,
            "overflow_y": null,
            "padding": null,
            "right": null,
            "top": null,
            "visibility": null,
            "width": null
          }
        },
        "498f7435589547c182eff8993019bb87": {
          "model_module": "@jupyter-widgets/controls",
          "model_name": "DescriptionStyleModel",
          "model_module_version": "1.5.0",
          "state": {
            "_model_module": "@jupyter-widgets/controls",
            "_model_module_version": "1.5.0",
            "_model_name": "DescriptionStyleModel",
            "_view_count": null,
            "_view_module": "@jupyter-widgets/base",
            "_view_module_version": "1.2.0",
            "_view_name": "StyleView",
            "description_width": ""
          }
        },
        "6ddb191cc9204b74b9ae204ddc7adf0f": {
          "model_module": "@jupyter-widgets/base",
          "model_name": "LayoutModel",
          "model_module_version": "1.2.0",
          "state": {
            "_model_module": "@jupyter-widgets/base",
            "_model_module_version": "1.2.0",
            "_model_name": "LayoutModel",
            "_view_count": null,
            "_view_module": "@jupyter-widgets/base",
            "_view_module_version": "1.2.0",
            "_view_name": "LayoutView",
            "align_content": null,
            "align_items": null,
            "align_self": null,
            "border": null,
            "bottom": null,
            "display": null,
            "flex": null,
            "flex_flow": null,
            "grid_area": null,
            "grid_auto_columns": null,
            "grid_auto_flow": null,
            "grid_auto_rows": null,
            "grid_column": null,
            "grid_gap": null,
            "grid_row": null,
            "grid_template_areas": null,
            "grid_template_columns": null,
            "grid_template_rows": null,
            "height": null,
            "justify_content": null,
            "justify_items": null,
            "left": null,
            "margin": null,
            "max_height": null,
            "max_width": null,
            "min_height": null,
            "min_width": null,
            "object_fit": null,
            "object_position": null,
            "order": null,
            "overflow": null,
            "overflow_x": null,
            "overflow_y": null,
            "padding": null,
            "right": null,
            "top": null,
            "visibility": null,
            "width": "20px"
          }
        },
        "110e7953bcc544a8a51f0f8ab646280d": {
          "model_module": "@jupyter-widgets/controls",
          "model_name": "ProgressStyleModel",
          "model_module_version": "1.5.0",
          "state": {
            "_model_module": "@jupyter-widgets/controls",
            "_model_module_version": "1.5.0",
            "_model_name": "ProgressStyleModel",
            "_view_count": null,
            "_view_module": "@jupyter-widgets/base",
            "_view_module_version": "1.2.0",
            "_view_name": "StyleView",
            "bar_color": null,
            "description_width": ""
          }
        },
        "1a431a7ad3dd42f3bd4768cd46929a18": {
          "model_module": "@jupyter-widgets/base",
          "model_name": "LayoutModel",
          "model_module_version": "1.2.0",
          "state": {
            "_model_module": "@jupyter-widgets/base",
            "_model_module_version": "1.2.0",
            "_model_name": "LayoutModel",
            "_view_count": null,
            "_view_module": "@jupyter-widgets/base",
            "_view_module_version": "1.2.0",
            "_view_name": "LayoutView",
            "align_content": null,
            "align_items": null,
            "align_self": null,
            "border": null,
            "bottom": null,
            "display": null,
            "flex": null,
            "flex_flow": null,
            "grid_area": null,
            "grid_auto_columns": null,
            "grid_auto_flow": null,
            "grid_auto_rows": null,
            "grid_column": null,
            "grid_gap": null,
            "grid_row": null,
            "grid_template_areas": null,
            "grid_template_columns": null,
            "grid_template_rows": null,
            "height": null,
            "justify_content": null,
            "justify_items": null,
            "left": null,
            "margin": null,
            "max_height": null,
            "max_width": null,
            "min_height": null,
            "min_width": null,
            "object_fit": null,
            "object_position": null,
            "order": null,
            "overflow": null,
            "overflow_x": null,
            "overflow_y": null,
            "padding": null,
            "right": null,
            "top": null,
            "visibility": null,
            "width": null
          }
        },
        "c06d64cc80b24012a3a2154ddd1c94fa": {
          "model_module": "@jupyter-widgets/controls",
          "model_name": "DescriptionStyleModel",
          "model_module_version": "1.5.0",
          "state": {
            "_model_module": "@jupyter-widgets/controls",
            "_model_module_version": "1.5.0",
            "_model_name": "DescriptionStyleModel",
            "_view_count": null,
            "_view_module": "@jupyter-widgets/base",
            "_view_module_version": "1.2.0",
            "_view_name": "StyleView",
            "description_width": ""
          }
        },
        "4ac4ac2f30384032851a4e7de99a243a": {
          "model_module": "@jupyter-widgets/controls",
          "model_name": "HBoxModel",
          "model_module_version": "1.5.0",
          "state": {
            "_dom_classes": [],
            "_model_module": "@jupyter-widgets/controls",
            "_model_module_version": "1.5.0",
            "_model_name": "HBoxModel",
            "_view_count": null,
            "_view_module": "@jupyter-widgets/controls",
            "_view_module_version": "1.5.0",
            "_view_name": "HBoxView",
            "box_style": "",
            "children": [
              "IPY_MODEL_ddd3fe7d090043cbbfcbf6b9f6bc4477",
              "IPY_MODEL_e07f8601283c4a0bab162f53ac804b6d",
              "IPY_MODEL_4e6ed5a87d364eebbdc46dbcffe405ab"
            ],
            "layout": "IPY_MODEL_c639cdb2ff9642d09d424dee4826b3d4"
          }
        },
        "ddd3fe7d090043cbbfcbf6b9f6bc4477": {
          "model_module": "@jupyter-widgets/controls",
          "model_name": "HTMLModel",
          "model_module_version": "1.5.0",
          "state": {
            "_dom_classes": [],
            "_model_module": "@jupyter-widgets/controls",
            "_model_module_version": "1.5.0",
            "_model_name": "HTMLModel",
            "_view_count": null,
            "_view_module": "@jupyter-widgets/controls",
            "_view_module_version": "1.5.0",
            "_view_name": "HTMLView",
            "description": "",
            "description_tooltip": null,
            "layout": "IPY_MODEL_91e29f77dae147f78f3cad89e69c8e37",
            "placeholder": "​",
            "style": "IPY_MODEL_3b6e723dfe04467c8eaaeb2bcff0760f",
            "value": "Extraction completed...: 100%"
          }
        },
        "e07f8601283c4a0bab162f53ac804b6d": {
          "model_module": "@jupyter-widgets/controls",
          "model_name": "FloatProgressModel",
          "model_module_version": "1.5.0",
          "state": {
            "_dom_classes": [],
            "_model_module": "@jupyter-widgets/controls",
            "_model_module_version": "1.5.0",
            "_model_name": "FloatProgressModel",
            "_view_count": null,
            "_view_module": "@jupyter-widgets/controls",
            "_view_module_version": "1.5.0",
            "_view_name": "ProgressView",
            "bar_style": "success",
            "description": "",
            "description_tooltip": null,
            "layout": "IPY_MODEL_4cd2759bd6a249b5b69f9d86093b77d1",
            "max": 1,
            "min": 0,
            "orientation": "horizontal",
            "style": "IPY_MODEL_00194f94f74943969d63e89750f9e090",
            "value": 1
          }
        },
        "4e6ed5a87d364eebbdc46dbcffe405ab": {
          "model_module": "@jupyter-widgets/controls",
          "model_name": "HTMLModel",
          "model_module_version": "1.5.0",
          "state": {
            "_dom_classes": [],
            "_model_module": "@jupyter-widgets/controls",
            "_model_module_version": "1.5.0",
            "_model_name": "HTMLModel",
            "_view_count": null,
            "_view_module": "@jupyter-widgets/controls",
            "_view_module_version": "1.5.0",
            "_view_name": "HTMLView",
            "description": "",
            "description_tooltip": null,
            "layout": "IPY_MODEL_bd814028eb6146669a8b3e2e15d3d082",
            "placeholder": "​",
            "style": "IPY_MODEL_2be0ceaefd184c35a758edf0c676f3cf",
            "value": " 8/8 [00:15&lt;00:00, 15.95s/ file]"
          }
        },
        "c639cdb2ff9642d09d424dee4826b3d4": {
          "model_module": "@jupyter-widgets/base",
          "model_name": "LayoutModel",
          "model_module_version": "1.2.0",
          "state": {
            "_model_module": "@jupyter-widgets/base",
            "_model_module_version": "1.2.0",
            "_model_name": "LayoutModel",
            "_view_count": null,
            "_view_module": "@jupyter-widgets/base",
            "_view_module_version": "1.2.0",
            "_view_name": "LayoutView",
            "align_content": null,
            "align_items": null,
            "align_self": null,
            "border": null,
            "bottom": null,
            "display": null,
            "flex": null,
            "flex_flow": null,
            "grid_area": null,
            "grid_auto_columns": null,
            "grid_auto_flow": null,
            "grid_auto_rows": null,
            "grid_column": null,
            "grid_gap": null,
            "grid_row": null,
            "grid_template_areas": null,
            "grid_template_columns": null,
            "grid_template_rows": null,
            "height": null,
            "justify_content": null,
            "justify_items": null,
            "left": null,
            "margin": null,
            "max_height": null,
            "max_width": null,
            "min_height": null,
            "min_width": null,
            "object_fit": null,
            "object_position": null,
            "order": null,
            "overflow": null,
            "overflow_x": null,
            "overflow_y": null,
            "padding": null,
            "right": null,
            "top": null,
            "visibility": null,
            "width": null
          }
        },
        "91e29f77dae147f78f3cad89e69c8e37": {
          "model_module": "@jupyter-widgets/base",
          "model_name": "LayoutModel",
          "model_module_version": "1.2.0",
          "state": {
            "_model_module": "@jupyter-widgets/base",
            "_model_module_version": "1.2.0",
            "_model_name": "LayoutModel",
            "_view_count": null,
            "_view_module": "@jupyter-widgets/base",
            "_view_module_version": "1.2.0",
            "_view_name": "LayoutView",
            "align_content": null,
            "align_items": null,
            "align_self": null,
            "border": null,
            "bottom": null,
            "display": null,
            "flex": null,
            "flex_flow": null,
            "grid_area": null,
            "grid_auto_columns": null,
            "grid_auto_flow": null,
            "grid_auto_rows": null,
            "grid_column": null,
            "grid_gap": null,
            "grid_row": null,
            "grid_template_areas": null,
            "grid_template_columns": null,
            "grid_template_rows": null,
            "height": null,
            "justify_content": null,
            "justify_items": null,
            "left": null,
            "margin": null,
            "max_height": null,
            "max_width": null,
            "min_height": null,
            "min_width": null,
            "object_fit": null,
            "object_position": null,
            "order": null,
            "overflow": null,
            "overflow_x": null,
            "overflow_y": null,
            "padding": null,
            "right": null,
            "top": null,
            "visibility": null,
            "width": null
          }
        },
        "3b6e723dfe04467c8eaaeb2bcff0760f": {
          "model_module": "@jupyter-widgets/controls",
          "model_name": "DescriptionStyleModel",
          "model_module_version": "1.5.0",
          "state": {
            "_model_module": "@jupyter-widgets/controls",
            "_model_module_version": "1.5.0",
            "_model_name": "DescriptionStyleModel",
            "_view_count": null,
            "_view_module": "@jupyter-widgets/base",
            "_view_module_version": "1.2.0",
            "_view_name": "StyleView",
            "description_width": ""
          }
        },
        "4cd2759bd6a249b5b69f9d86093b77d1": {
          "model_module": "@jupyter-widgets/base",
          "model_name": "LayoutModel",
          "model_module_version": "1.2.0",
          "state": {
            "_model_module": "@jupyter-widgets/base",
            "_model_module_version": "1.2.0",
            "_model_name": "LayoutModel",
            "_view_count": null,
            "_view_module": "@jupyter-widgets/base",
            "_view_module_version": "1.2.0",
            "_view_name": "LayoutView",
            "align_content": null,
            "align_items": null,
            "align_self": null,
            "border": null,
            "bottom": null,
            "display": null,
            "flex": null,
            "flex_flow": null,
            "grid_area": null,
            "grid_auto_columns": null,
            "grid_auto_flow": null,
            "grid_auto_rows": null,
            "grid_column": null,
            "grid_gap": null,
            "grid_row": null,
            "grid_template_areas": null,
            "grid_template_columns": null,
            "grid_template_rows": null,
            "height": null,
            "justify_content": null,
            "justify_items": null,
            "left": null,
            "margin": null,
            "max_height": null,
            "max_width": null,
            "min_height": null,
            "min_width": null,
            "object_fit": null,
            "object_position": null,
            "order": null,
            "overflow": null,
            "overflow_x": null,
            "overflow_y": null,
            "padding": null,
            "right": null,
            "top": null,
            "visibility": null,
            "width": "20px"
          }
        },
        "00194f94f74943969d63e89750f9e090": {
          "model_module": "@jupyter-widgets/controls",
          "model_name": "ProgressStyleModel",
          "model_module_version": "1.5.0",
          "state": {
            "_model_module": "@jupyter-widgets/controls",
            "_model_module_version": "1.5.0",
            "_model_name": "ProgressStyleModel",
            "_view_count": null,
            "_view_module": "@jupyter-widgets/base",
            "_view_module_version": "1.2.0",
            "_view_name": "StyleView",
            "bar_color": null,
            "description_width": ""
          }
        },
        "bd814028eb6146669a8b3e2e15d3d082": {
          "model_module": "@jupyter-widgets/base",
          "model_name": "LayoutModel",
          "model_module_version": "1.2.0",
          "state": {
            "_model_module": "@jupyter-widgets/base",
            "_model_module_version": "1.2.0",
            "_model_name": "LayoutModel",
            "_view_count": null,
            "_view_module": "@jupyter-widgets/base",
            "_view_module_version": "1.2.0",
            "_view_name": "LayoutView",
            "align_content": null,
            "align_items": null,
            "align_self": null,
            "border": null,
            "bottom": null,
            "display": null,
            "flex": null,
            "flex_flow": null,
            "grid_area": null,
            "grid_auto_columns": null,
            "grid_auto_flow": null,
            "grid_auto_rows": null,
            "grid_column": null,
            "grid_gap": null,
            "grid_row": null,
            "grid_template_areas": null,
            "grid_template_columns": null,
            "grid_template_rows": null,
            "height": null,
            "justify_content": null,
            "justify_items": null,
            "left": null,
            "margin": null,
            "max_height": null,
            "max_width": null,
            "min_height": null,
            "min_width": null,
            "object_fit": null,
            "object_position": null,
            "order": null,
            "overflow": null,
            "overflow_x": null,
            "overflow_y": null,
            "padding": null,
            "right": null,
            "top": null,
            "visibility": null,
            "width": null
          }
        },
        "2be0ceaefd184c35a758edf0c676f3cf": {
          "model_module": "@jupyter-widgets/controls",
          "model_name": "DescriptionStyleModel",
          "model_module_version": "1.5.0",
          "state": {
            "_model_module": "@jupyter-widgets/controls",
            "_model_module_version": "1.5.0",
            "_model_name": "DescriptionStyleModel",
            "_view_count": null,
            "_view_module": "@jupyter-widgets/base",
            "_view_module_version": "1.2.0",
            "_view_name": "StyleView",
            "description_width": ""
          }
        },
        "fe83d0c220494d9694b5a6d13b39d1da": {
          "model_module": "@jupyter-widgets/controls",
          "model_name": "HBoxModel",
          "model_module_version": "1.5.0",
          "state": {
            "_dom_classes": [],
            "_model_module": "@jupyter-widgets/controls",
            "_model_module_version": "1.5.0",
            "_model_name": "HBoxModel",
            "_view_count": null,
            "_view_module": "@jupyter-widgets/controls",
            "_view_module_version": "1.5.0",
            "_view_name": "HBoxView",
            "box_style": "",
            "children": [
              "IPY_MODEL_1f83955e54194f19805ce9c7d9f7ad6a",
              "IPY_MODEL_e58c906015d749eab035a739569d0801",
              "IPY_MODEL_658d9fdec84442ba811397af30ea7482"
            ],
            "layout": "IPY_MODEL_3f0bc6cc355647a9bc13c36ebc383607"
          }
        },
        "1f83955e54194f19805ce9c7d9f7ad6a": {
          "model_module": "@jupyter-widgets/controls",
          "model_name": "HTMLModel",
          "model_module_version": "1.5.0",
          "state": {
            "_dom_classes": [],
            "_model_module": "@jupyter-widgets/controls",
            "_model_module_version": "1.5.0",
            "_model_name": "HTMLModel",
            "_view_count": null,
            "_view_module": "@jupyter-widgets/controls",
            "_view_module_version": "1.5.0",
            "_view_name": "HTMLView",
            "description": "",
            "description_tooltip": null,
            "layout": "IPY_MODEL_99016dfb3c98425188d649aa56353196",
            "placeholder": "​",
            "style": "IPY_MODEL_7a224b4862f34beaa14bcafe4b5b0e71",
            "value": "Generating splits...: 100%"
          }
        },
        "e58c906015d749eab035a739569d0801": {
          "model_module": "@jupyter-widgets/controls",
          "model_name": "FloatProgressModel",
          "model_module_version": "1.5.0",
          "state": {
            "_dom_classes": [],
            "_model_module": "@jupyter-widgets/controls",
            "_model_module_version": "1.5.0",
            "_model_name": "FloatProgressModel",
            "_view_count": null,
            "_view_module": "@jupyter-widgets/controls",
            "_view_module_version": "1.5.0",
            "_view_name": "ProgressView",
            "bar_style": "",
            "description": "",
            "description_tooltip": null,
            "layout": "IPY_MODEL_830547d982934b9983c34a99d2dad762",
            "max": 2,
            "min": 0,
            "orientation": "horizontal",
            "style": "IPY_MODEL_5372f13baf344184bb501f88733e7da6",
            "value": 2
          }
        },
        "658d9fdec84442ba811397af30ea7482": {
          "model_module": "@jupyter-widgets/controls",
          "model_name": "HTMLModel",
          "model_module_version": "1.5.0",
          "state": {
            "_dom_classes": [],
            "_model_module": "@jupyter-widgets/controls",
            "_model_module_version": "1.5.0",
            "_model_name": "HTMLModel",
            "_view_count": null,
            "_view_module": "@jupyter-widgets/controls",
            "_view_module_version": "1.5.0",
            "_view_name": "HTMLView",
            "description": "",
            "description_tooltip": null,
            "layout": "IPY_MODEL_1ac29fc300a5469ba11a0ecb4a709c2a",
            "placeholder": "​",
            "style": "IPY_MODEL_f8d313aae41844dfadc681afa13ed7bf",
            "value": " 2/2 [01:03&lt;00:00, 28.22s/ splits]"
          }
        },
        "3f0bc6cc355647a9bc13c36ebc383607": {
          "model_module": "@jupyter-widgets/base",
          "model_name": "LayoutModel",
          "model_module_version": "1.2.0",
          "state": {
            "_model_module": "@jupyter-widgets/base",
            "_model_module_version": "1.2.0",
            "_model_name": "LayoutModel",
            "_view_count": null,
            "_view_module": "@jupyter-widgets/base",
            "_view_module_version": "1.2.0",
            "_view_name": "LayoutView",
            "align_content": null,
            "align_items": null,
            "align_self": null,
            "border": null,
            "bottom": null,
            "display": null,
            "flex": null,
            "flex_flow": null,
            "grid_area": null,
            "grid_auto_columns": null,
            "grid_auto_flow": null,
            "grid_auto_rows": null,
            "grid_column": null,
            "grid_gap": null,
            "grid_row": null,
            "grid_template_areas": null,
            "grid_template_columns": null,
            "grid_template_rows": null,
            "height": null,
            "justify_content": null,
            "justify_items": null,
            "left": null,
            "margin": null,
            "max_height": null,
            "max_width": null,
            "min_height": null,
            "min_width": null,
            "object_fit": null,
            "object_position": null,
            "order": null,
            "overflow": null,
            "overflow_x": null,
            "overflow_y": null,
            "padding": null,
            "right": null,
            "top": null,
            "visibility": "hidden",
            "width": null
          }
        },
        "99016dfb3c98425188d649aa56353196": {
          "model_module": "@jupyter-widgets/base",
          "model_name": "LayoutModel",
          "model_module_version": "1.2.0",
          "state": {
            "_model_module": "@jupyter-widgets/base",
            "_model_module_version": "1.2.0",
            "_model_name": "LayoutModel",
            "_view_count": null,
            "_view_module": "@jupyter-widgets/base",
            "_view_module_version": "1.2.0",
            "_view_name": "LayoutView",
            "align_content": null,
            "align_items": null,
            "align_self": null,
            "border": null,
            "bottom": null,
            "display": null,
            "flex": null,
            "flex_flow": null,
            "grid_area": null,
            "grid_auto_columns": null,
            "grid_auto_flow": null,
            "grid_auto_rows": null,
            "grid_column": null,
            "grid_gap": null,
            "grid_row": null,
            "grid_template_areas": null,
            "grid_template_columns": null,
            "grid_template_rows": null,
            "height": null,
            "justify_content": null,
            "justify_items": null,
            "left": null,
            "margin": null,
            "max_height": null,
            "max_width": null,
            "min_height": null,
            "min_width": null,
            "object_fit": null,
            "object_position": null,
            "order": null,
            "overflow": null,
            "overflow_x": null,
            "overflow_y": null,
            "padding": null,
            "right": null,
            "top": null,
            "visibility": null,
            "width": null
          }
        },
        "7a224b4862f34beaa14bcafe4b5b0e71": {
          "model_module": "@jupyter-widgets/controls",
          "model_name": "DescriptionStyleModel",
          "model_module_version": "1.5.0",
          "state": {
            "_model_module": "@jupyter-widgets/controls",
            "_model_module_version": "1.5.0",
            "_model_name": "DescriptionStyleModel",
            "_view_count": null,
            "_view_module": "@jupyter-widgets/base",
            "_view_module_version": "1.2.0",
            "_view_name": "StyleView",
            "description_width": ""
          }
        },
        "830547d982934b9983c34a99d2dad762": {
          "model_module": "@jupyter-widgets/base",
          "model_name": "LayoutModel",
          "model_module_version": "1.2.0",
          "state": {
            "_model_module": "@jupyter-widgets/base",
            "_model_module_version": "1.2.0",
            "_model_name": "LayoutModel",
            "_view_count": null,
            "_view_module": "@jupyter-widgets/base",
            "_view_module_version": "1.2.0",
            "_view_name": "LayoutView",
            "align_content": null,
            "align_items": null,
            "align_self": null,
            "border": null,
            "bottom": null,
            "display": null,
            "flex": null,
            "flex_flow": null,
            "grid_area": null,
            "grid_auto_columns": null,
            "grid_auto_flow": null,
            "grid_auto_rows": null,
            "grid_column": null,
            "grid_gap": null,
            "grid_row": null,
            "grid_template_areas": null,
            "grid_template_columns": null,
            "grid_template_rows": null,
            "height": null,
            "justify_content": null,
            "justify_items": null,
            "left": null,
            "margin": null,
            "max_height": null,
            "max_width": null,
            "min_height": null,
            "min_width": null,
            "object_fit": null,
            "object_position": null,
            "order": null,
            "overflow": null,
            "overflow_x": null,
            "overflow_y": null,
            "padding": null,
            "right": null,
            "top": null,
            "visibility": null,
            "width": null
          }
        },
        "5372f13baf344184bb501f88733e7da6": {
          "model_module": "@jupyter-widgets/controls",
          "model_name": "ProgressStyleModel",
          "model_module_version": "1.5.0",
          "state": {
            "_model_module": "@jupyter-widgets/controls",
            "_model_module_version": "1.5.0",
            "_model_name": "ProgressStyleModel",
            "_view_count": null,
            "_view_module": "@jupyter-widgets/base",
            "_view_module_version": "1.2.0",
            "_view_name": "StyleView",
            "bar_color": null,
            "description_width": ""
          }
        },
        "1ac29fc300a5469ba11a0ecb4a709c2a": {
          "model_module": "@jupyter-widgets/base",
          "model_name": "LayoutModel",
          "model_module_version": "1.2.0",
          "state": {
            "_model_module": "@jupyter-widgets/base",
            "_model_module_version": "1.2.0",
            "_model_name": "LayoutModel",
            "_view_count": null,
            "_view_module": "@jupyter-widgets/base",
            "_view_module_version": "1.2.0",
            "_view_name": "LayoutView",
            "align_content": null,
            "align_items": null,
            "align_self": null,
            "border": null,
            "bottom": null,
            "display": null,
            "flex": null,
            "flex_flow": null,
            "grid_area": null,
            "grid_auto_columns": null,
            "grid_auto_flow": null,
            "grid_auto_rows": null,
            "grid_column": null,
            "grid_gap": null,
            "grid_row": null,
            "grid_template_areas": null,
            "grid_template_columns": null,
            "grid_template_rows": null,
            "height": null,
            "justify_content": null,
            "justify_items": null,
            "left": null,
            "margin": null,
            "max_height": null,
            "max_width": null,
            "min_height": null,
            "min_width": null,
            "object_fit": null,
            "object_position": null,
            "order": null,
            "overflow": null,
            "overflow_x": null,
            "overflow_y": null,
            "padding": null,
            "right": null,
            "top": null,
            "visibility": null,
            "width": null
          }
        },
        "f8d313aae41844dfadc681afa13ed7bf": {
          "model_module": "@jupyter-widgets/controls",
          "model_name": "DescriptionStyleModel",
          "model_module_version": "1.5.0",
          "state": {
            "_model_module": "@jupyter-widgets/controls",
            "_model_module_version": "1.5.0",
            "_model_name": "DescriptionStyleModel",
            "_view_count": null,
            "_view_module": "@jupyter-widgets/base",
            "_view_module_version": "1.2.0",
            "_view_name": "StyleView",
            "description_width": ""
          }
        },
        "3c95ca757de14cddb395e87ced7c866d": {
          "model_module": "@jupyter-widgets/controls",
          "model_name": "HBoxModel",
          "model_module_version": "1.5.0",
          "state": {
            "_dom_classes": [],
            "_model_module": "@jupyter-widgets/controls",
            "_model_module_version": "1.5.0",
            "_model_name": "HBoxModel",
            "_view_count": null,
            "_view_module": "@jupyter-widgets/controls",
            "_view_module_version": "1.5.0",
            "_view_name": "HBoxView",
            "box_style": "",
            "children": [
              "IPY_MODEL_1e8544e9d73c46608cee257d8018f801",
              "IPY_MODEL_707f89d79c9e49199b29fca03cedf567",
              "IPY_MODEL_5ae9c1f05f974950a45853c99aa495a7"
            ],
            "layout": "IPY_MODEL_a390cf1b47524444b82b45237af9c246"
          }
        },
        "1e8544e9d73c46608cee257d8018f801": {
          "model_module": "@jupyter-widgets/controls",
          "model_name": "HTMLModel",
          "model_module_version": "1.5.0",
          "state": {
            "_dom_classes": [],
            "_model_module": "@jupyter-widgets/controls",
            "_model_module_version": "1.5.0",
            "_model_name": "HTMLModel",
            "_view_count": null,
            "_view_module": "@jupyter-widgets/controls",
            "_view_module_version": "1.5.0",
            "_view_name": "HTMLView",
            "description": "",
            "description_tooltip": null,
            "layout": "IPY_MODEL_e67e80246d344c10974e9a13aae04e14",
            "placeholder": "​",
            "style": "IPY_MODEL_186cd89d49bd4c6a916ba750f3ebf8bb",
            "value": "Generating train examples...: 100%"
          }
        },
        "707f89d79c9e49199b29fca03cedf567": {
          "model_module": "@jupyter-widgets/controls",
          "model_name": "FloatProgressModel",
          "model_module_version": "1.5.0",
          "state": {
            "_dom_classes": [],
            "_model_module": "@jupyter-widgets/controls",
            "_model_module_version": "1.5.0",
            "_model_name": "FloatProgressModel",
            "_view_count": null,
            "_view_module": "@jupyter-widgets/controls",
            "_view_module_version": "1.5.0",
            "_view_name": "ProgressView",
            "bar_style": "",
            "description": "",
            "description_tooltip": null,
            "layout": "IPY_MODEL_d919059905b244c795d0b85ac70d43a3",
            "max": 50000,
            "min": 0,
            "orientation": "horizontal",
            "style": "IPY_MODEL_a247bf4ef071420a9287f324abcdb01a",
            "value": 50000
          }
        },
        "5ae9c1f05f974950a45853c99aa495a7": {
          "model_module": "@jupyter-widgets/controls",
          "model_name": "HTMLModel",
          "model_module_version": "1.5.0",
          "state": {
            "_dom_classes": [],
            "_model_module": "@jupyter-widgets/controls",
            "_model_module_version": "1.5.0",
            "_model_name": "HTMLModel",
            "_view_count": null,
            "_view_module": "@jupyter-widgets/controls",
            "_view_module_version": "1.5.0",
            "_view_name": "HTMLView",
            "description": "",
            "description_tooltip": null,
            "layout": "IPY_MODEL_a8e92f65c9524583bdfd2ca9bc16ffe2",
            "placeholder": "​",
            "style": "IPY_MODEL_92ceb368ab824863967f2473396ca771",
            "value": " 49930/50000 [00:52&lt;00:00, 671.67 examples/s]"
          }
        },
        "a390cf1b47524444b82b45237af9c246": {
          "model_module": "@jupyter-widgets/base",
          "model_name": "LayoutModel",
          "model_module_version": "1.2.0",
          "state": {
            "_model_module": "@jupyter-widgets/base",
            "_model_module_version": "1.2.0",
            "_model_name": "LayoutModel",
            "_view_count": null,
            "_view_module": "@jupyter-widgets/base",
            "_view_module_version": "1.2.0",
            "_view_name": "LayoutView",
            "align_content": null,
            "align_items": null,
            "align_self": null,
            "border": null,
            "bottom": null,
            "display": null,
            "flex": null,
            "flex_flow": null,
            "grid_area": null,
            "grid_auto_columns": null,
            "grid_auto_flow": null,
            "grid_auto_rows": null,
            "grid_column": null,
            "grid_gap": null,
            "grid_row": null,
            "grid_template_areas": null,
            "grid_template_columns": null,
            "grid_template_rows": null,
            "height": null,
            "justify_content": null,
            "justify_items": null,
            "left": null,
            "margin": null,
            "max_height": null,
            "max_width": null,
            "min_height": null,
            "min_width": null,
            "object_fit": null,
            "object_position": null,
            "order": null,
            "overflow": null,
            "overflow_x": null,
            "overflow_y": null,
            "padding": null,
            "right": null,
            "top": null,
            "visibility": "hidden",
            "width": null
          }
        },
        "e67e80246d344c10974e9a13aae04e14": {
          "model_module": "@jupyter-widgets/base",
          "model_name": "LayoutModel",
          "model_module_version": "1.2.0",
          "state": {
            "_model_module": "@jupyter-widgets/base",
            "_model_module_version": "1.2.0",
            "_model_name": "LayoutModel",
            "_view_count": null,
            "_view_module": "@jupyter-widgets/base",
            "_view_module_version": "1.2.0",
            "_view_name": "LayoutView",
            "align_content": null,
            "align_items": null,
            "align_self": null,
            "border": null,
            "bottom": null,
            "display": null,
            "flex": null,
            "flex_flow": null,
            "grid_area": null,
            "grid_auto_columns": null,
            "grid_auto_flow": null,
            "grid_auto_rows": null,
            "grid_column": null,
            "grid_gap": null,
            "grid_row": null,
            "grid_template_areas": null,
            "grid_template_columns": null,
            "grid_template_rows": null,
            "height": null,
            "justify_content": null,
            "justify_items": null,
            "left": null,
            "margin": null,
            "max_height": null,
            "max_width": null,
            "min_height": null,
            "min_width": null,
            "object_fit": null,
            "object_position": null,
            "order": null,
            "overflow": null,
            "overflow_x": null,
            "overflow_y": null,
            "padding": null,
            "right": null,
            "top": null,
            "visibility": null,
            "width": null
          }
        },
        "186cd89d49bd4c6a916ba750f3ebf8bb": {
          "model_module": "@jupyter-widgets/controls",
          "model_name": "DescriptionStyleModel",
          "model_module_version": "1.5.0",
          "state": {
            "_model_module": "@jupyter-widgets/controls",
            "_model_module_version": "1.5.0",
            "_model_name": "DescriptionStyleModel",
            "_view_count": null,
            "_view_module": "@jupyter-widgets/base",
            "_view_module_version": "1.2.0",
            "_view_name": "StyleView",
            "description_width": ""
          }
        },
        "d919059905b244c795d0b85ac70d43a3": {
          "model_module": "@jupyter-widgets/base",
          "model_name": "LayoutModel",
          "model_module_version": "1.2.0",
          "state": {
            "_model_module": "@jupyter-widgets/base",
            "_model_module_version": "1.2.0",
            "_model_name": "LayoutModel",
            "_view_count": null,
            "_view_module": "@jupyter-widgets/base",
            "_view_module_version": "1.2.0",
            "_view_name": "LayoutView",
            "align_content": null,
            "align_items": null,
            "align_self": null,
            "border": null,
            "bottom": null,
            "display": null,
            "flex": null,
            "flex_flow": null,
            "grid_area": null,
            "grid_auto_columns": null,
            "grid_auto_flow": null,
            "grid_auto_rows": null,
            "grid_column": null,
            "grid_gap": null,
            "grid_row": null,
            "grid_template_areas": null,
            "grid_template_columns": null,
            "grid_template_rows": null,
            "height": null,
            "justify_content": null,
            "justify_items": null,
            "left": null,
            "margin": null,
            "max_height": null,
            "max_width": null,
            "min_height": null,
            "min_width": null,
            "object_fit": null,
            "object_position": null,
            "order": null,
            "overflow": null,
            "overflow_x": null,
            "overflow_y": null,
            "padding": null,
            "right": null,
            "top": null,
            "visibility": null,
            "width": null
          }
        },
        "a247bf4ef071420a9287f324abcdb01a": {
          "model_module": "@jupyter-widgets/controls",
          "model_name": "ProgressStyleModel",
          "model_module_version": "1.5.0",
          "state": {
            "_model_module": "@jupyter-widgets/controls",
            "_model_module_version": "1.5.0",
            "_model_name": "ProgressStyleModel",
            "_view_count": null,
            "_view_module": "@jupyter-widgets/base",
            "_view_module_version": "1.2.0",
            "_view_name": "StyleView",
            "bar_color": null,
            "description_width": ""
          }
        },
        "a8e92f65c9524583bdfd2ca9bc16ffe2": {
          "model_module": "@jupyter-widgets/base",
          "model_name": "LayoutModel",
          "model_module_version": "1.2.0",
          "state": {
            "_model_module": "@jupyter-widgets/base",
            "_model_module_version": "1.2.0",
            "_model_name": "LayoutModel",
            "_view_count": null,
            "_view_module": "@jupyter-widgets/base",
            "_view_module_version": "1.2.0",
            "_view_name": "LayoutView",
            "align_content": null,
            "align_items": null,
            "align_self": null,
            "border": null,
            "bottom": null,
            "display": null,
            "flex": null,
            "flex_flow": null,
            "grid_area": null,
            "grid_auto_columns": null,
            "grid_auto_flow": null,
            "grid_auto_rows": null,
            "grid_column": null,
            "grid_gap": null,
            "grid_row": null,
            "grid_template_areas": null,
            "grid_template_columns": null,
            "grid_template_rows": null,
            "height": null,
            "justify_content": null,
            "justify_items": null,
            "left": null,
            "margin": null,
            "max_height": null,
            "max_width": null,
            "min_height": null,
            "min_width": null,
            "object_fit": null,
            "object_position": null,
            "order": null,
            "overflow": null,
            "overflow_x": null,
            "overflow_y": null,
            "padding": null,
            "right": null,
            "top": null,
            "visibility": null,
            "width": null
          }
        },
        "92ceb368ab824863967f2473396ca771": {
          "model_module": "@jupyter-widgets/controls",
          "model_name": "DescriptionStyleModel",
          "model_module_version": "1.5.0",
          "state": {
            "_model_module": "@jupyter-widgets/controls",
            "_model_module_version": "1.5.0",
            "_model_name": "DescriptionStyleModel",
            "_view_count": null,
            "_view_module": "@jupyter-widgets/base",
            "_view_module_version": "1.2.0",
            "_view_name": "StyleView",
            "description_width": ""
          }
        },
        "dc3bba270d4e4363ac444d4ecd509787": {
          "model_module": "@jupyter-widgets/controls",
          "model_name": "HBoxModel",
          "model_module_version": "1.5.0",
          "state": {
            "_dom_classes": [],
            "_model_module": "@jupyter-widgets/controls",
            "_model_module_version": "1.5.0",
            "_model_name": "HBoxModel",
            "_view_count": null,
            "_view_module": "@jupyter-widgets/controls",
            "_view_module_version": "1.5.0",
            "_view_name": "HBoxView",
            "box_style": "",
            "children": [
              "IPY_MODEL_1d981c4dac35483e993c52873698a90b",
              "IPY_MODEL_693ff52e28ae4a93ba78289c2cd72474",
              "IPY_MODEL_42716349bc964d199bfd7148c716a00e"
            ],
            "layout": "IPY_MODEL_c4c8e973d2824829991900d6508e2d7c"
          }
        },
        "1d981c4dac35483e993c52873698a90b": {
          "model_module": "@jupyter-widgets/controls",
          "model_name": "HTMLModel",
          "model_module_version": "1.5.0",
          "state": {
            "_dom_classes": [],
            "_model_module": "@jupyter-widgets/controls",
            "_model_module_version": "1.5.0",
            "_model_name": "HTMLModel",
            "_view_count": null,
            "_view_module": "@jupyter-widgets/controls",
            "_view_module_version": "1.5.0",
            "_view_name": "HTMLView",
            "description": "",
            "description_tooltip": null,
            "layout": "IPY_MODEL_519a6390da4d43b08b4e8d6c40b1bf10",
            "placeholder": "​",
            "style": "IPY_MODEL_9cb99cbf1b514784bcf1a553a5777147",
            "value": "Shuffling /root/tensorflow_datasets/cifar10/3.0.2.incomplete86RIGV/cifar10-train.tfrecord*...:  89%"
          }
        },
        "693ff52e28ae4a93ba78289c2cd72474": {
          "model_module": "@jupyter-widgets/controls",
          "model_name": "FloatProgressModel",
          "model_module_version": "1.5.0",
          "state": {
            "_dom_classes": [],
            "_model_module": "@jupyter-widgets/controls",
            "_model_module_version": "1.5.0",
            "_model_name": "FloatProgressModel",
            "_view_count": null,
            "_view_module": "@jupyter-widgets/controls",
            "_view_module_version": "1.5.0",
            "_view_name": "ProgressView",
            "bar_style": "",
            "description": "",
            "description_tooltip": null,
            "layout": "IPY_MODEL_22c724072bea4a6bb3e0d095e664d4cd",
            "max": 50000,
            "min": 0,
            "orientation": "horizontal",
            "style": "IPY_MODEL_b44e88088afe4cca9f9f979974e2dc08",
            "value": 50000
          }
        },
        "42716349bc964d199bfd7148c716a00e": {
          "model_module": "@jupyter-widgets/controls",
          "model_name": "HTMLModel",
          "model_module_version": "1.5.0",
          "state": {
            "_dom_classes": [],
            "_model_module": "@jupyter-widgets/controls",
            "_model_module_version": "1.5.0",
            "_model_name": "HTMLModel",
            "_view_count": null,
            "_view_module": "@jupyter-widgets/controls",
            "_view_module_version": "1.5.0",
            "_view_name": "HTMLView",
            "description": "",
            "description_tooltip": null,
            "layout": "IPY_MODEL_265d743132484f6fbb5663b9b6f1d47e",
            "placeholder": "​",
            "style": "IPY_MODEL_405b12577f65461ba3845f0b4d9b25a9",
            "value": " 44427/50000 [00:00&lt;00:00, 149162.98 examples/s]"
          }
        },
        "c4c8e973d2824829991900d6508e2d7c": {
          "model_module": "@jupyter-widgets/base",
          "model_name": "LayoutModel",
          "model_module_version": "1.2.0",
          "state": {
            "_model_module": "@jupyter-widgets/base",
            "_model_module_version": "1.2.0",
            "_model_name": "LayoutModel",
            "_view_count": null,
            "_view_module": "@jupyter-widgets/base",
            "_view_module_version": "1.2.0",
            "_view_name": "LayoutView",
            "align_content": null,
            "align_items": null,
            "align_self": null,
            "border": null,
            "bottom": null,
            "display": null,
            "flex": null,
            "flex_flow": null,
            "grid_area": null,
            "grid_auto_columns": null,
            "grid_auto_flow": null,
            "grid_auto_rows": null,
            "grid_column": null,
            "grid_gap": null,
            "grid_row": null,
            "grid_template_areas": null,
            "grid_template_columns": null,
            "grid_template_rows": null,
            "height": null,
            "justify_content": null,
            "justify_items": null,
            "left": null,
            "margin": null,
            "max_height": null,
            "max_width": null,
            "min_height": null,
            "min_width": null,
            "object_fit": null,
            "object_position": null,
            "order": null,
            "overflow": null,
            "overflow_x": null,
            "overflow_y": null,
            "padding": null,
            "right": null,
            "top": null,
            "visibility": "hidden",
            "width": null
          }
        },
        "519a6390da4d43b08b4e8d6c40b1bf10": {
          "model_module": "@jupyter-widgets/base",
          "model_name": "LayoutModel",
          "model_module_version": "1.2.0",
          "state": {
            "_model_module": "@jupyter-widgets/base",
            "_model_module_version": "1.2.0",
            "_model_name": "LayoutModel",
            "_view_count": null,
            "_view_module": "@jupyter-widgets/base",
            "_view_module_version": "1.2.0",
            "_view_name": "LayoutView",
            "align_content": null,
            "align_items": null,
            "align_self": null,
            "border": null,
            "bottom": null,
            "display": null,
            "flex": null,
            "flex_flow": null,
            "grid_area": null,
            "grid_auto_columns": null,
            "grid_auto_flow": null,
            "grid_auto_rows": null,
            "grid_column": null,
            "grid_gap": null,
            "grid_row": null,
            "grid_template_areas": null,
            "grid_template_columns": null,
            "grid_template_rows": null,
            "height": null,
            "justify_content": null,
            "justify_items": null,
            "left": null,
            "margin": null,
            "max_height": null,
            "max_width": null,
            "min_height": null,
            "min_width": null,
            "object_fit": null,
            "object_position": null,
            "order": null,
            "overflow": null,
            "overflow_x": null,
            "overflow_y": null,
            "padding": null,
            "right": null,
            "top": null,
            "visibility": null,
            "width": null
          }
        },
        "9cb99cbf1b514784bcf1a553a5777147": {
          "model_module": "@jupyter-widgets/controls",
          "model_name": "DescriptionStyleModel",
          "model_module_version": "1.5.0",
          "state": {
            "_model_module": "@jupyter-widgets/controls",
            "_model_module_version": "1.5.0",
            "_model_name": "DescriptionStyleModel",
            "_view_count": null,
            "_view_module": "@jupyter-widgets/base",
            "_view_module_version": "1.2.0",
            "_view_name": "StyleView",
            "description_width": ""
          }
        },
        "22c724072bea4a6bb3e0d095e664d4cd": {
          "model_module": "@jupyter-widgets/base",
          "model_name": "LayoutModel",
          "model_module_version": "1.2.0",
          "state": {
            "_model_module": "@jupyter-widgets/base",
            "_model_module_version": "1.2.0",
            "_model_name": "LayoutModel",
            "_view_count": null,
            "_view_module": "@jupyter-widgets/base",
            "_view_module_version": "1.2.0",
            "_view_name": "LayoutView",
            "align_content": null,
            "align_items": null,
            "align_self": null,
            "border": null,
            "bottom": null,
            "display": null,
            "flex": null,
            "flex_flow": null,
            "grid_area": null,
            "grid_auto_columns": null,
            "grid_auto_flow": null,
            "grid_auto_rows": null,
            "grid_column": null,
            "grid_gap": null,
            "grid_row": null,
            "grid_template_areas": null,
            "grid_template_columns": null,
            "grid_template_rows": null,
            "height": null,
            "justify_content": null,
            "justify_items": null,
            "left": null,
            "margin": null,
            "max_height": null,
            "max_width": null,
            "min_height": null,
            "min_width": null,
            "object_fit": null,
            "object_position": null,
            "order": null,
            "overflow": null,
            "overflow_x": null,
            "overflow_y": null,
            "padding": null,
            "right": null,
            "top": null,
            "visibility": null,
            "width": null
          }
        },
        "b44e88088afe4cca9f9f979974e2dc08": {
          "model_module": "@jupyter-widgets/controls",
          "model_name": "ProgressStyleModel",
          "model_module_version": "1.5.0",
          "state": {
            "_model_module": "@jupyter-widgets/controls",
            "_model_module_version": "1.5.0",
            "_model_name": "ProgressStyleModel",
            "_view_count": null,
            "_view_module": "@jupyter-widgets/base",
            "_view_module_version": "1.2.0",
            "_view_name": "StyleView",
            "bar_color": null,
            "description_width": ""
          }
        },
        "265d743132484f6fbb5663b9b6f1d47e": {
          "model_module": "@jupyter-widgets/base",
          "model_name": "LayoutModel",
          "model_module_version": "1.2.0",
          "state": {
            "_model_module": "@jupyter-widgets/base",
            "_model_module_version": "1.2.0",
            "_model_name": "LayoutModel",
            "_view_count": null,
            "_view_module": "@jupyter-widgets/base",
            "_view_module_version": "1.2.0",
            "_view_name": "LayoutView",
            "align_content": null,
            "align_items": null,
            "align_self": null,
            "border": null,
            "bottom": null,
            "display": null,
            "flex": null,
            "flex_flow": null,
            "grid_area": null,
            "grid_auto_columns": null,
            "grid_auto_flow": null,
            "grid_auto_rows": null,
            "grid_column": null,
            "grid_gap": null,
            "grid_row": null,
            "grid_template_areas": null,
            "grid_template_columns": null,
            "grid_template_rows": null,
            "height": null,
            "justify_content": null,
            "justify_items": null,
            "left": null,
            "margin": null,
            "max_height": null,
            "max_width": null,
            "min_height": null,
            "min_width": null,
            "object_fit": null,
            "object_position": null,
            "order": null,
            "overflow": null,
            "overflow_x": null,
            "overflow_y": null,
            "padding": null,
            "right": null,
            "top": null,
            "visibility": null,
            "width": null
          }
        },
        "405b12577f65461ba3845f0b4d9b25a9": {
          "model_module": "@jupyter-widgets/controls",
          "model_name": "DescriptionStyleModel",
          "model_module_version": "1.5.0",
          "state": {
            "_model_module": "@jupyter-widgets/controls",
            "_model_module_version": "1.5.0",
            "_model_name": "DescriptionStyleModel",
            "_view_count": null,
            "_view_module": "@jupyter-widgets/base",
            "_view_module_version": "1.2.0",
            "_view_name": "StyleView",
            "description_width": ""
          }
        },
        "11495a314a7f468bb0cc50a348f1aedb": {
          "model_module": "@jupyter-widgets/controls",
          "model_name": "HBoxModel",
          "model_module_version": "1.5.0",
          "state": {
            "_dom_classes": [],
            "_model_module": "@jupyter-widgets/controls",
            "_model_module_version": "1.5.0",
            "_model_name": "HBoxModel",
            "_view_count": null,
            "_view_module": "@jupyter-widgets/controls",
            "_view_module_version": "1.5.0",
            "_view_name": "HBoxView",
            "box_style": "",
            "children": [
              "IPY_MODEL_cc8400c9ed384284a6e51442eed55ea0",
              "IPY_MODEL_91db43391ed0480aab47460c06857664",
              "IPY_MODEL_96be1714a0b94a53945e3efabda4a12c"
            ],
            "layout": "IPY_MODEL_341783243879465781b4f655e2ba1547"
          }
        },
        "cc8400c9ed384284a6e51442eed55ea0": {
          "model_module": "@jupyter-widgets/controls",
          "model_name": "HTMLModel",
          "model_module_version": "1.5.0",
          "state": {
            "_dom_classes": [],
            "_model_module": "@jupyter-widgets/controls",
            "_model_module_version": "1.5.0",
            "_model_name": "HTMLModel",
            "_view_count": null,
            "_view_module": "@jupyter-widgets/controls",
            "_view_module_version": "1.5.0",
            "_view_name": "HTMLView",
            "description": "",
            "description_tooltip": null,
            "layout": "IPY_MODEL_4490ce545e1e4a2e957ab72d6a9ec40a",
            "placeholder": "​",
            "style": "IPY_MODEL_9a54b59468fc4dbdb9d1f4a516fdaef5",
            "value": "Generating test examples...:  99%"
          }
        },
        "91db43391ed0480aab47460c06857664": {
          "model_module": "@jupyter-widgets/controls",
          "model_name": "FloatProgressModel",
          "model_module_version": "1.5.0",
          "state": {
            "_dom_classes": [],
            "_model_module": "@jupyter-widgets/controls",
            "_model_module_version": "1.5.0",
            "_model_name": "FloatProgressModel",
            "_view_count": null,
            "_view_module": "@jupyter-widgets/controls",
            "_view_module_version": "1.5.0",
            "_view_name": "ProgressView",
            "bar_style": "",
            "description": "",
            "description_tooltip": null,
            "layout": "IPY_MODEL_12a8a748ad794207a33d7500d271fcdf",
            "max": 10000,
            "min": 0,
            "orientation": "horizontal",
            "style": "IPY_MODEL_b91c155dd80a427b8088d6e0d4af3ef2",
            "value": 10000
          }
        },
        "96be1714a0b94a53945e3efabda4a12c": {
          "model_module": "@jupyter-widgets/controls",
          "model_name": "HTMLModel",
          "model_module_version": "1.5.0",
          "state": {
            "_dom_classes": [],
            "_model_module": "@jupyter-widgets/controls",
            "_model_module_version": "1.5.0",
            "_model_name": "HTMLModel",
            "_view_count": null,
            "_view_module": "@jupyter-widgets/controls",
            "_view_module_version": "1.5.0",
            "_view_name": "HTMLView",
            "description": "",
            "description_tooltip": null,
            "layout": "IPY_MODEL_2848e17e7a484d13b49845a270ba06f2",
            "placeholder": "​",
            "style": "IPY_MODEL_9fb8385f5b594195a47dfafc032a50c3",
            "value": " 9945/10000 [00:10&lt;00:00, 594.71 examples/s]"
          }
        },
        "341783243879465781b4f655e2ba1547": {
          "model_module": "@jupyter-widgets/base",
          "model_name": "LayoutModel",
          "model_module_version": "1.2.0",
          "state": {
            "_model_module": "@jupyter-widgets/base",
            "_model_module_version": "1.2.0",
            "_model_name": "LayoutModel",
            "_view_count": null,
            "_view_module": "@jupyter-widgets/base",
            "_view_module_version": "1.2.0",
            "_view_name": "LayoutView",
            "align_content": null,
            "align_items": null,
            "align_self": null,
            "border": null,
            "bottom": null,
            "display": null,
            "flex": null,
            "flex_flow": null,
            "grid_area": null,
            "grid_auto_columns": null,
            "grid_auto_flow": null,
            "grid_auto_rows": null,
            "grid_column": null,
            "grid_gap": null,
            "grid_row": null,
            "grid_template_areas": null,
            "grid_template_columns": null,
            "grid_template_rows": null,
            "height": null,
            "justify_content": null,
            "justify_items": null,
            "left": null,
            "margin": null,
            "max_height": null,
            "max_width": null,
            "min_height": null,
            "min_width": null,
            "object_fit": null,
            "object_position": null,
            "order": null,
            "overflow": null,
            "overflow_x": null,
            "overflow_y": null,
            "padding": null,
            "right": null,
            "top": null,
            "visibility": "hidden",
            "width": null
          }
        },
        "4490ce545e1e4a2e957ab72d6a9ec40a": {
          "model_module": "@jupyter-widgets/base",
          "model_name": "LayoutModel",
          "model_module_version": "1.2.0",
          "state": {
            "_model_module": "@jupyter-widgets/base",
            "_model_module_version": "1.2.0",
            "_model_name": "LayoutModel",
            "_view_count": null,
            "_view_module": "@jupyter-widgets/base",
            "_view_module_version": "1.2.0",
            "_view_name": "LayoutView",
            "align_content": null,
            "align_items": null,
            "align_self": null,
            "border": null,
            "bottom": null,
            "display": null,
            "flex": null,
            "flex_flow": null,
            "grid_area": null,
            "grid_auto_columns": null,
            "grid_auto_flow": null,
            "grid_auto_rows": null,
            "grid_column": null,
            "grid_gap": null,
            "grid_row": null,
            "grid_template_areas": null,
            "grid_template_columns": null,
            "grid_template_rows": null,
            "height": null,
            "justify_content": null,
            "justify_items": null,
            "left": null,
            "margin": null,
            "max_height": null,
            "max_width": null,
            "min_height": null,
            "min_width": null,
            "object_fit": null,
            "object_position": null,
            "order": null,
            "overflow": null,
            "overflow_x": null,
            "overflow_y": null,
            "padding": null,
            "right": null,
            "top": null,
            "visibility": null,
            "width": null
          }
        },
        "9a54b59468fc4dbdb9d1f4a516fdaef5": {
          "model_module": "@jupyter-widgets/controls",
          "model_name": "DescriptionStyleModel",
          "model_module_version": "1.5.0",
          "state": {
            "_model_module": "@jupyter-widgets/controls",
            "_model_module_version": "1.5.0",
            "_model_name": "DescriptionStyleModel",
            "_view_count": null,
            "_view_module": "@jupyter-widgets/base",
            "_view_module_version": "1.2.0",
            "_view_name": "StyleView",
            "description_width": ""
          }
        },
        "12a8a748ad794207a33d7500d271fcdf": {
          "model_module": "@jupyter-widgets/base",
          "model_name": "LayoutModel",
          "model_module_version": "1.2.0",
          "state": {
            "_model_module": "@jupyter-widgets/base",
            "_model_module_version": "1.2.0",
            "_model_name": "LayoutModel",
            "_view_count": null,
            "_view_module": "@jupyter-widgets/base",
            "_view_module_version": "1.2.0",
            "_view_name": "LayoutView",
            "align_content": null,
            "align_items": null,
            "align_self": null,
            "border": null,
            "bottom": null,
            "display": null,
            "flex": null,
            "flex_flow": null,
            "grid_area": null,
            "grid_auto_columns": null,
            "grid_auto_flow": null,
            "grid_auto_rows": null,
            "grid_column": null,
            "grid_gap": null,
            "grid_row": null,
            "grid_template_areas": null,
            "grid_template_columns": null,
            "grid_template_rows": null,
            "height": null,
            "justify_content": null,
            "justify_items": null,
            "left": null,
            "margin": null,
            "max_height": null,
            "max_width": null,
            "min_height": null,
            "min_width": null,
            "object_fit": null,
            "object_position": null,
            "order": null,
            "overflow": null,
            "overflow_x": null,
            "overflow_y": null,
            "padding": null,
            "right": null,
            "top": null,
            "visibility": null,
            "width": null
          }
        },
        "b91c155dd80a427b8088d6e0d4af3ef2": {
          "model_module": "@jupyter-widgets/controls",
          "model_name": "ProgressStyleModel",
          "model_module_version": "1.5.0",
          "state": {
            "_model_module": "@jupyter-widgets/controls",
            "_model_module_version": "1.5.0",
            "_model_name": "ProgressStyleModel",
            "_view_count": null,
            "_view_module": "@jupyter-widgets/base",
            "_view_module_version": "1.2.0",
            "_view_name": "StyleView",
            "bar_color": null,
            "description_width": ""
          }
        },
        "2848e17e7a484d13b49845a270ba06f2": {
          "model_module": "@jupyter-widgets/base",
          "model_name": "LayoutModel",
          "model_module_version": "1.2.0",
          "state": {
            "_model_module": "@jupyter-widgets/base",
            "_model_module_version": "1.2.0",
            "_model_name": "LayoutModel",
            "_view_count": null,
            "_view_module": "@jupyter-widgets/base",
            "_view_module_version": "1.2.0",
            "_view_name": "LayoutView",
            "align_content": null,
            "align_items": null,
            "align_self": null,
            "border": null,
            "bottom": null,
            "display": null,
            "flex": null,
            "flex_flow": null,
            "grid_area": null,
            "grid_auto_columns": null,
            "grid_auto_flow": null,
            "grid_auto_rows": null,
            "grid_column": null,
            "grid_gap": null,
            "grid_row": null,
            "grid_template_areas": null,
            "grid_template_columns": null,
            "grid_template_rows": null,
            "height": null,
            "justify_content": null,
            "justify_items": null,
            "left": null,
            "margin": null,
            "max_height": null,
            "max_width": null,
            "min_height": null,
            "min_width": null,
            "object_fit": null,
            "object_position": null,
            "order": null,
            "overflow": null,
            "overflow_x": null,
            "overflow_y": null,
            "padding": null,
            "right": null,
            "top": null,
            "visibility": null,
            "width": null
          }
        },
        "9fb8385f5b594195a47dfafc032a50c3": {
          "model_module": "@jupyter-widgets/controls",
          "model_name": "DescriptionStyleModel",
          "model_module_version": "1.5.0",
          "state": {
            "_model_module": "@jupyter-widgets/controls",
            "_model_module_version": "1.5.0",
            "_model_name": "DescriptionStyleModel",
            "_view_count": null,
            "_view_module": "@jupyter-widgets/base",
            "_view_module_version": "1.2.0",
            "_view_name": "StyleView",
            "description_width": ""
          }
        },
        "3dafca0112d7425398237290464ec6f6": {
          "model_module": "@jupyter-widgets/controls",
          "model_name": "HBoxModel",
          "model_module_version": "1.5.0",
          "state": {
            "_dom_classes": [],
            "_model_module": "@jupyter-widgets/controls",
            "_model_module_version": "1.5.0",
            "_model_name": "HBoxModel",
            "_view_count": null,
            "_view_module": "@jupyter-widgets/controls",
            "_view_module_version": "1.5.0",
            "_view_name": "HBoxView",
            "box_style": "",
            "children": [
              "IPY_MODEL_68df0fa693294f8283948d32ce2aa9d7",
              "IPY_MODEL_770bc652c7f04e5ab9940a466ccdec19",
              "IPY_MODEL_5039cd6646c94b8782232a44d47d6f17"
            ],
            "layout": "IPY_MODEL_3a29f7a1c2a744678b8aca26b7c0830c"
          }
        },
        "68df0fa693294f8283948d32ce2aa9d7": {
          "model_module": "@jupyter-widgets/controls",
          "model_name": "HTMLModel",
          "model_module_version": "1.5.0",
          "state": {
            "_dom_classes": [],
            "_model_module": "@jupyter-widgets/controls",
            "_model_module_version": "1.5.0",
            "_model_name": "HTMLModel",
            "_view_count": null,
            "_view_module": "@jupyter-widgets/controls",
            "_view_module_version": "1.5.0",
            "_view_name": "HTMLView",
            "description": "",
            "description_tooltip": null,
            "layout": "IPY_MODEL_460ca345877542b2ba7017e78fdbf83e",
            "placeholder": "​",
            "style": "IPY_MODEL_8ac52faaed824bd9b750740799ff4c55",
            "value": "Shuffling /root/tensorflow_datasets/cifar10/3.0.2.incomplete86RIGV/cifar10-test.tfrecord*...:  65%"
          }
        },
        "770bc652c7f04e5ab9940a466ccdec19": {
          "model_module": "@jupyter-widgets/controls",
          "model_name": "FloatProgressModel",
          "model_module_version": "1.5.0",
          "state": {
            "_dom_classes": [],
            "_model_module": "@jupyter-widgets/controls",
            "_model_module_version": "1.5.0",
            "_model_name": "FloatProgressModel",
            "_view_count": null,
            "_view_module": "@jupyter-widgets/controls",
            "_view_module_version": "1.5.0",
            "_view_name": "ProgressView",
            "bar_style": "",
            "description": "",
            "description_tooltip": null,
            "layout": "IPY_MODEL_1c7ab684148b45a89b44e3cf49547439",
            "max": 10000,
            "min": 0,
            "orientation": "horizontal",
            "style": "IPY_MODEL_ebe71f53b5514840b556603dec47b7e0",
            "value": 10000
          }
        },
        "5039cd6646c94b8782232a44d47d6f17": {
          "model_module": "@jupyter-widgets/controls",
          "model_name": "HTMLModel",
          "model_module_version": "1.5.0",
          "state": {
            "_dom_classes": [],
            "_model_module": "@jupyter-widgets/controls",
            "_model_module_version": "1.5.0",
            "_model_name": "HTMLModel",
            "_view_count": null,
            "_view_module": "@jupyter-widgets/controls",
            "_view_module_version": "1.5.0",
            "_view_name": "HTMLView",
            "description": "",
            "description_tooltip": null,
            "layout": "IPY_MODEL_9a1cd59a3bf24e1dacf2ed0f231f424d",
            "placeholder": "​",
            "style": "IPY_MODEL_bb40d23b10a64c44b64b626f73182543",
            "value": " 6512/10000 [00:00&lt;00:00, 63817.48 examples/s]"
          }
        },
        "3a29f7a1c2a744678b8aca26b7c0830c": {
          "model_module": "@jupyter-widgets/base",
          "model_name": "LayoutModel",
          "model_module_version": "1.2.0",
          "state": {
            "_model_module": "@jupyter-widgets/base",
            "_model_module_version": "1.2.0",
            "_model_name": "LayoutModel",
            "_view_count": null,
            "_view_module": "@jupyter-widgets/base",
            "_view_module_version": "1.2.0",
            "_view_name": "LayoutView",
            "align_content": null,
            "align_items": null,
            "align_self": null,
            "border": null,
            "bottom": null,
            "display": null,
            "flex": null,
            "flex_flow": null,
            "grid_area": null,
            "grid_auto_columns": null,
            "grid_auto_flow": null,
            "grid_auto_rows": null,
            "grid_column": null,
            "grid_gap": null,
            "grid_row": null,
            "grid_template_areas": null,
            "grid_template_columns": null,
            "grid_template_rows": null,
            "height": null,
            "justify_content": null,
            "justify_items": null,
            "left": null,
            "margin": null,
            "max_height": null,
            "max_width": null,
            "min_height": null,
            "min_width": null,
            "object_fit": null,
            "object_position": null,
            "order": null,
            "overflow": null,
            "overflow_x": null,
            "overflow_y": null,
            "padding": null,
            "right": null,
            "top": null,
            "visibility": "hidden",
            "width": null
          }
        },
        "460ca345877542b2ba7017e78fdbf83e": {
          "model_module": "@jupyter-widgets/base",
          "model_name": "LayoutModel",
          "model_module_version": "1.2.0",
          "state": {
            "_model_module": "@jupyter-widgets/base",
            "_model_module_version": "1.2.0",
            "_model_name": "LayoutModel",
            "_view_count": null,
            "_view_module": "@jupyter-widgets/base",
            "_view_module_version": "1.2.0",
            "_view_name": "LayoutView",
            "align_content": null,
            "align_items": null,
            "align_self": null,
            "border": null,
            "bottom": null,
            "display": null,
            "flex": null,
            "flex_flow": null,
            "grid_area": null,
            "grid_auto_columns": null,
            "grid_auto_flow": null,
            "grid_auto_rows": null,
            "grid_column": null,
            "grid_gap": null,
            "grid_row": null,
            "grid_template_areas": null,
            "grid_template_columns": null,
            "grid_template_rows": null,
            "height": null,
            "justify_content": null,
            "justify_items": null,
            "left": null,
            "margin": null,
            "max_height": null,
            "max_width": null,
            "min_height": null,
            "min_width": null,
            "object_fit": null,
            "object_position": null,
            "order": null,
            "overflow": null,
            "overflow_x": null,
            "overflow_y": null,
            "padding": null,
            "right": null,
            "top": null,
            "visibility": null,
            "width": null
          }
        },
        "8ac52faaed824bd9b750740799ff4c55": {
          "model_module": "@jupyter-widgets/controls",
          "model_name": "DescriptionStyleModel",
          "model_module_version": "1.5.0",
          "state": {
            "_model_module": "@jupyter-widgets/controls",
            "_model_module_version": "1.5.0",
            "_model_name": "DescriptionStyleModel",
            "_view_count": null,
            "_view_module": "@jupyter-widgets/base",
            "_view_module_version": "1.2.0",
            "_view_name": "StyleView",
            "description_width": ""
          }
        },
        "1c7ab684148b45a89b44e3cf49547439": {
          "model_module": "@jupyter-widgets/base",
          "model_name": "LayoutModel",
          "model_module_version": "1.2.0",
          "state": {
            "_model_module": "@jupyter-widgets/base",
            "_model_module_version": "1.2.0",
            "_model_name": "LayoutModel",
            "_view_count": null,
            "_view_module": "@jupyter-widgets/base",
            "_view_module_version": "1.2.0",
            "_view_name": "LayoutView",
            "align_content": null,
            "align_items": null,
            "align_self": null,
            "border": null,
            "bottom": null,
            "display": null,
            "flex": null,
            "flex_flow": null,
            "grid_area": null,
            "grid_auto_columns": null,
            "grid_auto_flow": null,
            "grid_auto_rows": null,
            "grid_column": null,
            "grid_gap": null,
            "grid_row": null,
            "grid_template_areas": null,
            "grid_template_columns": null,
            "grid_template_rows": null,
            "height": null,
            "justify_content": null,
            "justify_items": null,
            "left": null,
            "margin": null,
            "max_height": null,
            "max_width": null,
            "min_height": null,
            "min_width": null,
            "object_fit": null,
            "object_position": null,
            "order": null,
            "overflow": null,
            "overflow_x": null,
            "overflow_y": null,
            "padding": null,
            "right": null,
            "top": null,
            "visibility": null,
            "width": null
          }
        },
        "ebe71f53b5514840b556603dec47b7e0": {
          "model_module": "@jupyter-widgets/controls",
          "model_name": "ProgressStyleModel",
          "model_module_version": "1.5.0",
          "state": {
            "_model_module": "@jupyter-widgets/controls",
            "_model_module_version": "1.5.0",
            "_model_name": "ProgressStyleModel",
            "_view_count": null,
            "_view_module": "@jupyter-widgets/base",
            "_view_module_version": "1.2.0",
            "_view_name": "StyleView",
            "bar_color": null,
            "description_width": ""
          }
        },
        "9a1cd59a3bf24e1dacf2ed0f231f424d": {
          "model_module": "@jupyter-widgets/base",
          "model_name": "LayoutModel",
          "model_module_version": "1.2.0",
          "state": {
            "_model_module": "@jupyter-widgets/base",
            "_model_module_version": "1.2.0",
            "_model_name": "LayoutModel",
            "_view_count": null,
            "_view_module": "@jupyter-widgets/base",
            "_view_module_version": "1.2.0",
            "_view_name": "LayoutView",
            "align_content": null,
            "align_items": null,
            "align_self": null,
            "border": null,
            "bottom": null,
            "display": null,
            "flex": null,
            "flex_flow": null,
            "grid_area": null,
            "grid_auto_columns": null,
            "grid_auto_flow": null,
            "grid_auto_rows": null,
            "grid_column": null,
            "grid_gap": null,
            "grid_row": null,
            "grid_template_areas": null,
            "grid_template_columns": null,
            "grid_template_rows": null,
            "height": null,
            "justify_content": null,
            "justify_items": null,
            "left": null,
            "margin": null,
            "max_height": null,
            "max_width": null,
            "min_height": null,
            "min_width": null,
            "object_fit": null,
            "object_position": null,
            "order": null,
            "overflow": null,
            "overflow_x": null,
            "overflow_y": null,
            "padding": null,
            "right": null,
            "top": null,
            "visibility": null,
            "width": null
          }
        },
        "bb40d23b10a64c44b64b626f73182543": {
          "model_module": "@jupyter-widgets/controls",
          "model_name": "DescriptionStyleModel",
          "model_module_version": "1.5.0",
          "state": {
            "_model_module": "@jupyter-widgets/controls",
            "_model_module_version": "1.5.0",
            "_model_name": "DescriptionStyleModel",
            "_view_count": null,
            "_view_module": "@jupyter-widgets/base",
            "_view_module_version": "1.2.0",
            "_view_name": "StyleView",
            "description_width": ""
          }
        }
      }
    }
  },
  "nbformat": 4,
  "nbformat_minor": 0
}