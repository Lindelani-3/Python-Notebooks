{
  "nbformat": 4,
  "nbformat_minor": 0,
  "metadata": {
    "colab": {
      "provenance": [],
      "collapsed_sections": [
        "qCYoS2IHYEzk",
        "9ox5OZg8YOji",
        "-hnYHCtkX1ih",
        "Vh8JpzzcYe_G",
        "nYp_c3eudz4K",
        "tglQsudB3Y00"
      ]
    },
    "kernelspec": {
      "name": "python3",
      "display_name": "Python 3"
    },
    "language_info": {
      "name": "python"
    }
  },
  "cells": [
    {
      "cell_type": "markdown",
      "source": [
        "# **Imports**"
      ],
      "metadata": {
        "id": "UjKMcREXYnTu"
      }
    },
    {
      "cell_type": "code",
      "execution_count": null,
      "metadata": {
        "colab": {
          "base_uri": "https://localhost:8080/"
        },
        "id": "8pIifttBRKz2",
        "outputId": "68f8aab5-e6de-4ec0-c2a2-34317f89c3d9"
      },
      "outputs": [
        {
          "output_type": "stream",
          "name": "stdout",
          "text": [
            "  Preparing metadata (setup.py) ... \u001b[?25l\u001b[?25hdone\n",
            "  Building wheel for sklearn (setup.py) ... \u001b[?25l\u001b[?25hdone\n"
          ]
        }
      ],
      "source": [
        "# imports\n",
        "!pip install -q sklearn"
      ]
    },
    {
      "cell_type": "code",
      "source": [
        "# imports \n",
        "import numpy as np\n",
        "import pandas as pd\n",
        "import matplotlib.pyplot as plt\n",
        "import tensorflow as tf\n",
        "from sklearn.model_selection import train_test_split\n",
        "from sklearn.linear_model import LinearRegression\n",
        "  # from sklearn.linear_model import LogisticRegression\n",
        "from sklearn.metrics import mean_squared_error, r2_score"
      ],
      "metadata": {
        "id": "e9pgrEOpTnGj"
      },
      "execution_count": 1,
      "outputs": []
    },
    {
      "cell_type": "markdown",
      "source": [
        "# **Data**"
      ],
      "metadata": {
        "id": "qCYoS2IHYEzk"
      }
    },
    {
      "cell_type": "code",
      "source": [
        "path = \"/content/drive/MyDrive/ColabNotebooks/DataSet_dae_proj.csv\"\n",
        "data_ds = pd.read_csv(path)\n",
        "data_ds.head()"
      ],
      "metadata": {
        "colab": {
          "base_uri": "https://localhost:8080/",
          "height": 206
        },
        "id": "RPvrg_ibTVDf",
        "outputId": "67ef8d95-85dc-44cf-9637-84d27492e5f7"
      },
      "execution_count": 2,
      "outputs": [
        {
          "output_type": "execute_result",
          "data": {
            "text/plain": [
              "            Country  TotalArea  LandArea  WaterArea  \\\n",
              "0            Tuvalu       26.0      26.0        0.0   \n",
              "1  Marshall Islands      181.0     181.0    11673.0   \n",
              "2           Bahamas    13943.0   10010.0     3870.0   \n",
              "3            Gambia    11295.0   10000.0     1295.0   \n",
              "4             Nauru       21.0      21.0        0.0   \n",
              "\n",
              "                   Highest.point  Maximum.elevation          Lowest.point  \\\n",
              "0  Unnamed location on Niulakita                5.0   South Pacific Ocean   \n",
              "1     Unnamed location on Likiep               10.0   North Pacific Ocean   \n",
              "2   Mount Alvernia on Cat Island               63.0  North Atlantic Ocean   \n",
              "3                  Unnamed point               64.0  North Atlantic Ocean   \n",
              "4                  Command Ridge               65.0   South Pacific Ocean   \n",
              "\n",
              "   Minimum.elevation  Pop2023  \n",
              "0                0.0    11396  \n",
              "1                0.0    41996  \n",
              "2                0.0   412624  \n",
              "3                0.0  2773168  \n",
              "4                0.0     1278  "
            ],
            "text/html": [
              "\n",
              "  <div id=\"df-b7f0e619-fad2-4b2e-bcd4-02c5df751bd3\">\n",
              "    <div class=\"colab-df-container\">\n",
              "      <div>\n",
              "<style scoped>\n",
              "    .dataframe tbody tr th:only-of-type {\n",
              "        vertical-align: middle;\n",
              "    }\n",
              "\n",
              "    .dataframe tbody tr th {\n",
              "        vertical-align: top;\n",
              "    }\n",
              "\n",
              "    .dataframe thead th {\n",
              "        text-align: right;\n",
              "    }\n",
              "</style>\n",
              "<table border=\"1\" class=\"dataframe\">\n",
              "  <thead>\n",
              "    <tr style=\"text-align: right;\">\n",
              "      <th></th>\n",
              "      <th>Country</th>\n",
              "      <th>TotalArea</th>\n",
              "      <th>LandArea</th>\n",
              "      <th>WaterArea</th>\n",
              "      <th>Highest.point</th>\n",
              "      <th>Maximum.elevation</th>\n",
              "      <th>Lowest.point</th>\n",
              "      <th>Minimum.elevation</th>\n",
              "      <th>Pop2023</th>\n",
              "    </tr>\n",
              "  </thead>\n",
              "  <tbody>\n",
              "    <tr>\n",
              "      <th>0</th>\n",
              "      <td>Tuvalu</td>\n",
              "      <td>26.0</td>\n",
              "      <td>26.0</td>\n",
              "      <td>0.0</td>\n",
              "      <td>Unnamed location on Niulakita</td>\n",
              "      <td>5.0</td>\n",
              "      <td>South Pacific Ocean</td>\n",
              "      <td>0.0</td>\n",
              "      <td>11396</td>\n",
              "    </tr>\n",
              "    <tr>\n",
              "      <th>1</th>\n",
              "      <td>Marshall Islands</td>\n",
              "      <td>181.0</td>\n",
              "      <td>181.0</td>\n",
              "      <td>11673.0</td>\n",
              "      <td>Unnamed location on Likiep</td>\n",
              "      <td>10.0</td>\n",
              "      <td>North Pacific Ocean</td>\n",
              "      <td>0.0</td>\n",
              "      <td>41996</td>\n",
              "    </tr>\n",
              "    <tr>\n",
              "      <th>2</th>\n",
              "      <td>Bahamas</td>\n",
              "      <td>13943.0</td>\n",
              "      <td>10010.0</td>\n",
              "      <td>3870.0</td>\n",
              "      <td>Mount Alvernia on Cat Island</td>\n",
              "      <td>63.0</td>\n",
              "      <td>North Atlantic Ocean</td>\n",
              "      <td>0.0</td>\n",
              "      <td>412624</td>\n",
              "    </tr>\n",
              "    <tr>\n",
              "      <th>3</th>\n",
              "      <td>Gambia</td>\n",
              "      <td>11295.0</td>\n",
              "      <td>10000.0</td>\n",
              "      <td>1295.0</td>\n",
              "      <td>Unnamed point</td>\n",
              "      <td>64.0</td>\n",
              "      <td>North Atlantic Ocean</td>\n",
              "      <td>0.0</td>\n",
              "      <td>2773168</td>\n",
              "    </tr>\n",
              "    <tr>\n",
              "      <th>4</th>\n",
              "      <td>Nauru</td>\n",
              "      <td>21.0</td>\n",
              "      <td>21.0</td>\n",
              "      <td>0.0</td>\n",
              "      <td>Command Ridge</td>\n",
              "      <td>65.0</td>\n",
              "      <td>South Pacific Ocean</td>\n",
              "      <td>0.0</td>\n",
              "      <td>1278</td>\n",
              "    </tr>\n",
              "  </tbody>\n",
              "</table>\n",
              "</div>\n",
              "      <button class=\"colab-df-convert\" onclick=\"convertToInteractive('df-b7f0e619-fad2-4b2e-bcd4-02c5df751bd3')\"\n",
              "              title=\"Convert this dataframe to an interactive table.\"\n",
              "              style=\"display:none;\">\n",
              "        \n",
              "  <svg xmlns=\"http://www.w3.org/2000/svg\" height=\"24px\"viewBox=\"0 0 24 24\"\n",
              "       width=\"24px\">\n",
              "    <path d=\"M0 0h24v24H0V0z\" fill=\"none\"/>\n",
              "    <path d=\"M18.56 5.44l.94 2.06.94-2.06 2.06-.94-2.06-.94-.94-2.06-.94 2.06-2.06.94zm-11 1L8.5 8.5l.94-2.06 2.06-.94-2.06-.94L8.5 2.5l-.94 2.06-2.06.94zm10 10l.94 2.06.94-2.06 2.06-.94-2.06-.94-.94-2.06-.94 2.06-2.06.94z\"/><path d=\"M17.41 7.96l-1.37-1.37c-.4-.4-.92-.59-1.43-.59-.52 0-1.04.2-1.43.59L10.3 9.45l-7.72 7.72c-.78.78-.78 2.05 0 2.83L4 21.41c.39.39.9.59 1.41.59.51 0 1.02-.2 1.41-.59l7.78-7.78 2.81-2.81c.8-.78.8-2.07 0-2.86zM5.41 20L4 18.59l7.72-7.72 1.47 1.35L5.41 20z\"/>\n",
              "  </svg>\n",
              "      </button>\n",
              "      \n",
              "  <style>\n",
              "    .colab-df-container {\n",
              "      display:flex;\n",
              "      flex-wrap:wrap;\n",
              "      gap: 12px;\n",
              "    }\n",
              "\n",
              "    .colab-df-convert {\n",
              "      background-color: #E8F0FE;\n",
              "      border: none;\n",
              "      border-radius: 50%;\n",
              "      cursor: pointer;\n",
              "      display: none;\n",
              "      fill: #1967D2;\n",
              "      height: 32px;\n",
              "      padding: 0 0 0 0;\n",
              "      width: 32px;\n",
              "    }\n",
              "\n",
              "    .colab-df-convert:hover {\n",
              "      background-color: #E2EBFA;\n",
              "      box-shadow: 0px 1px 2px rgba(60, 64, 67, 0.3), 0px 1px 3px 1px rgba(60, 64, 67, 0.15);\n",
              "      fill: #174EA6;\n",
              "    }\n",
              "\n",
              "    [theme=dark] .colab-df-convert {\n",
              "      background-color: #3B4455;\n",
              "      fill: #D2E3FC;\n",
              "    }\n",
              "\n",
              "    [theme=dark] .colab-df-convert:hover {\n",
              "      background-color: #434B5C;\n",
              "      box-shadow: 0px 1px 3px 1px rgba(0, 0, 0, 0.15);\n",
              "      filter: drop-shadow(0px 1px 2px rgba(0, 0, 0, 0.3));\n",
              "      fill: #FFFFFF;\n",
              "    }\n",
              "  </style>\n",
              "\n",
              "      <script>\n",
              "        const buttonEl =\n",
              "          document.querySelector('#df-b7f0e619-fad2-4b2e-bcd4-02c5df751bd3 button.colab-df-convert');\n",
              "        buttonEl.style.display =\n",
              "          google.colab.kernel.accessAllowed ? 'block' : 'none';\n",
              "\n",
              "        async function convertToInteractive(key) {\n",
              "          const element = document.querySelector('#df-b7f0e619-fad2-4b2e-bcd4-02c5df751bd3');\n",
              "          const dataTable =\n",
              "            await google.colab.kernel.invokeFunction('convertToInteractive',\n",
              "                                                     [key], {});\n",
              "          if (!dataTable) return;\n",
              "\n",
              "          const docLinkHtml = 'Like what you see? Visit the ' +\n",
              "            '<a target=\"_blank\" href=https://colab.research.google.com/notebooks/data_table.ipynb>data table notebook</a>'\n",
              "            + ' to learn more about interactive tables.';\n",
              "          element.innerHTML = '';\n",
              "          dataTable['output_type'] = 'display_data';\n",
              "          await google.colab.output.renderOutput(dataTable, element);\n",
              "          const docLink = document.createElement('div');\n",
              "          docLink.innerHTML = docLinkHtml;\n",
              "          element.appendChild(docLink);\n",
              "        }\n",
              "      </script>\n",
              "    </div>\n",
              "  </div>\n",
              "  "
            ]
          },
          "metadata": {},
          "execution_count": 2
        }
      ]
    },
    {
      "cell_type": "code",
      "source": [
        "y = data_ds['Maximum.elevation']\n",
        "\n",
        "x1 = data_ds['TotalArea']\n",
        "x2 = data_ds['Minimum.elevation']\n",
        "x3 = data_ds['WaterArea']\n",
        "x4 = data_ds['Pop2023']"
      ],
      "metadata": {
        "id": "iY266phtT6jI"
      },
      "execution_count": 3,
      "outputs": []
    },
    {
      "cell_type": "markdown",
      "source": [
        "### **Data Analysis**"
      ],
      "metadata": {
        "id": "9ox5OZg8YOji"
      }
    },
    {
      "cell_type": "markdown",
      "source": [
        "X1: Total Area"
      ],
      "metadata": {
        "id": "ueb0uRlTdWkX"
      }
    },
    {
      "cell_type": "code",
      "source": [
        "x1.describe()"
      ],
      "metadata": {
        "colab": {
          "base_uri": "https://localhost:8080/"
        },
        "id": "op7CCTHtYJ7f",
        "outputId": "33c96e89-c931-4660-dbb2-617be5a1b1de"
      },
      "execution_count": null,
      "outputs": [
        {
          "output_type": "execute_result",
          "data": {
            "text/plain": [
              "count    1.720000e+02\n",
              "mean     5.879122e+05\n",
              "std      1.693194e+06\n",
              "min      2.020000e+00\n",
              "25%      2.097325e+04\n",
              "50%      1.195120e+05\n",
              "75%      4.943550e+05\n",
              "max      1.709825e+07\n",
              "Name: TotalArea, dtype: float64"
            ]
          },
          "metadata": {},
          "execution_count": 42
        }
      ]
    },
    {
      "cell_type": "code",
      "source": [
        "# Highest point vs Total Area\n",
        "plt.scatter(x1, y)\n",
        "plt.xlabel(\"Total Area\")\n",
        "plt.ylabel(\"Highest Point\")\n",
        "\n",
        "plt.xlim(-100, 10006000)"
      ],
      "metadata": {
        "colab": {
          "base_uri": "https://localhost:8080/",
          "height": 466
        },
        "id": "ge8hAIkIUe3T",
        "outputId": "d085ae45-0894-46d6-99f5-2430f17aeeaf"
      },
      "execution_count": null,
      "outputs": [
        {
          "output_type": "execute_result",
          "data": {
            "text/plain": [
              "(-100.0, 10006000.0)"
            ]
          },
          "metadata": {},
          "execution_count": 48
        },
        {
          "output_type": "display_data",
          "data": {
            "text/plain": [
              "<Figure size 640x480 with 1 Axes>"
            ],
            "image/png": "[encoded data removed]"
          },
          "metadata": {}
        }
      ]
    },
    {
      "cell_type": "markdown",
      "source": [
        "X2: Minimum Elevation (Lowest Point)"
      ],
      "metadata": {
        "id": "RO4OlhaHdbeY"
      }
    },
    {
      "cell_type": "code",
      "source": [
        "x2.describe()"
      ],
      "metadata": {
        "colab": {
          "base_uri": "https://localhost:8080/"
        },
        "id": "x69BNraKZYeV",
        "outputId": "8c54b189-0ea8-454b-a337-7de5728fb92a"
      },
      "execution_count": null,
      "outputs": [
        {
          "output_type": "execute_result",
          "data": {
            "text/plain": [
              "count     172.000000\n",
              "mean       47.251744\n",
              "std       195.211659\n",
              "min      -428.000000\n",
              "25%         0.000000\n",
              "50%         0.000000\n",
              "75%         0.000000\n",
              "max      1400.000000\n",
              "Name: Minimum.elevation, dtype: float64"
            ]
          },
          "metadata": {},
          "execution_count": 43
        }
      ]
    },
    {
      "cell_type": "code",
      "source": [
        "# Highest point vs Lowest point\n",
        "plt.scatter(x2, y)\n",
        "plt.xlabel(\"Minimum Elevation\")\n",
        "plt.ylabel(\"Highest Point\")\n",
        "\n",
        "plt.xlim(-600, 1600)"
      ],
      "metadata": {
        "colab": {
          "base_uri": "https://localhost:8080/",
          "height": 466
        },
        "id": "XecXslEsVDeO",
        "outputId": "a408c8df-db3c-4727-abff-4a0be2cf94e4"
      },
      "execution_count": null,
      "outputs": [
        {
          "output_type": "execute_result",
          "data": {
            "text/plain": [
              "(-600.0, 1600.0)"
            ]
          },
          "metadata": {},
          "execution_count": 44
        },
        {
          "output_type": "display_data",
          "data": {
            "text/plain": [
              "<Figure size 640x480 with 1 Axes>"
            ],
            "image/png": "[encoded data removed]"
          },
          "metadata": {}
        }
      ]
    },
    {
      "cell_type": "markdown",
      "source": [
        "X3: Water Area"
      ],
      "metadata": {
        "id": "O3JsvD-7dhly"
      }
    },
    {
      "cell_type": "code",
      "source": [
        "x3.describe()"
      ],
      "metadata": {
        "colab": {
          "base_uri": "https://localhost:8080/"
        },
        "id": "WTfFBCWtWUcb",
        "outputId": "83e170ec-86a5-4047-d39a-39223baf5d9b"
      },
      "execution_count": null,
      "outputs": [
        {
          "output_type": "execute_result",
          "data": {
            "text/plain": [
              "count       172.000000\n",
              "mean      18207.910285\n",
              "std       80523.684714\n",
              "min           0.000000\n",
              "25%           0.000000\n",
              "50%        1330.000000\n",
              "75%        8275.000000\n",
              "max      719836.000000\n",
              "Name: WaterArea, dtype: float64"
            ]
          },
          "metadata": {},
          "execution_count": 10
        }
      ]
    },
    {
      "cell_type": "code",
      "source": [
        "plt.scatter(x3, y)\n",
        "plt.xlabel(\"Water Area\")\n",
        "plt.ylabel(\"Highest Point\")\n",
        "\n",
        "plt.xlim(-600, 75000)"
      ],
      "metadata": {
        "colab": {
          "base_uri": "https://localhost:8080/",
          "height": 466
        },
        "id": "k5ks4zioVD8R",
        "outputId": "e3188ab9-6a1a-486b-c45e-be9043e98667"
      },
      "execution_count": null,
      "outputs": [
        {
          "output_type": "execute_result",
          "data": {
            "text/plain": [
              "(-600.0, 75000.0)"
            ]
          },
          "metadata": {},
          "execution_count": 11
        },
        {
          "output_type": "display_data",
          "data": {
            "text/plain": [
              "<Figure size 640x480 with 1 Axes>"
            ],
            "image/png": "[encoded data removed]"
          },
          "metadata": {}
        }
      ]
    },
    {
      "cell_type": "markdown",
      "source": [
        "X4: Population (2023)"
      ],
      "metadata": {
        "id": "HQuoRlEgdjmX"
      }
    },
    {
      "cell_type": "code",
      "source": [
        "print(x4.describe())\n",
        "# print(x4.isnull.sum())"
      ],
      "metadata": {
        "colab": {
          "base_uri": "https://localhost:8080/"
        },
        "id": "MtsKvB3SWiKZ",
        "outputId": "f1145386-0b2e-4593-f39d-311b540fa02f"
      },
      "execution_count": null,
      "outputs": [
        {
          "output_type": "stream",
          "name": "stdout",
          "text": [
            "count    1.720000e+02\n",
            "mean     3.520083e+07\n",
            "std      1.184819e+08\n",
            "min      1.278000e+03\n",
            "25%      1.669738e+06\n",
            "50%      8.793880e+06\n",
            "75%      2.884713e+07\n",
            "max      1.428628e+09\n",
            "Name: Pop2023, dtype: float64\n"
          ]
        }
      ]
    },
    {
      "cell_type": "code",
      "source": [
        "plt.scatter(x4, y)\n",
        "plt.xlabel(\"Population\")\n",
        "plt.ylabel(\"Highest Point\")\n",
        "\n",
        "plt.xlim(0, 4000000)"
      ],
      "metadata": {
        "colab": {
          "base_uri": "https://localhost:8080/",
          "height": 466
        },
        "id": "7sjZgSrnVuXq",
        "outputId": "f56b99a7-3b2a-4303-8fd6-17850ff1ae1d"
      },
      "execution_count": null,
      "outputs": [
        {
          "output_type": "execute_result",
          "data": {
            "text/plain": [
              "(0.0, 4000000.0)"
            ]
          },
          "metadata": {},
          "execution_count": 20
        },
        {
          "output_type": "display_data",
          "data": {
            "text/plain": [
              "<Figure size 640x480 with 1 Axes>"
            ],
            "image/png": "[encoded data removed]"
          },
          "metadata": {}
        }
      ]
    },
    {
      "cell_type": "markdown",
      "source": [
        "# ***Single Variable Regression***"
      ],
      "metadata": {
        "id": "4yZfujas5mUJ"
      }
    },
    {
      "cell_type": "markdown",
      "source": [
        "### **Split dataset** "
      ],
      "metadata": {
        "id": "-hnYHCtkX1ih"
      }
    },
    {
      "cell_type": "code",
      "source": [
        "# X1\n",
        "x1_train, x1_val, y1_train, y1_val = train_test_split(x1, y, test_size=0.3, random_state=23)\n",
        "#X2\n",
        "x2_train, x2_val, y2_train, y2_val = train_test_split(x2, y, test_size=0.3, random_state=23)\n",
        "# Water Area & Population\n",
        "x3_train, x3_test, y3_train, y3_test = train_test_split(x3, y, test_size=0.3, random_state=23)\n",
        "x4_train, x4_test, y4_train, y4_test = train_test_split(x4, y, test_size=0.3, random_state=23)\n"
      ],
      "metadata": {
        "id": "uGtnfTHEgesj"
      },
      "execution_count": 34,
      "outputs": []
    },
    {
      "cell_type": "code",
      "source": [
        "y1_train"
      ],
      "metadata": {
        "colab": {
          "base_uri": "https://localhost:8080/"
        },
        "id": "WZPwyQ3juuDH",
        "outputId": "236c3f69-600b-4215-e233-db625754faf5"
      },
      "execution_count": 35,
      "outputs": [
        {
          "output_type": "execute_result",
          "data": {
            "text/plain": [
              "108    2876.0\n",
              "156    5700.0\n",
              "102    2772.0\n",
              "58     1752.0\n",
              "124    3139.0\n",
              "        ...  \n",
              "39      986.0\n",
              "91     2592.0\n",
              "31      828.0\n",
              "40     1014.0\n",
              "83     2419.0\n",
              "Name: Maximum.elevation, Length: 120, dtype: float64"
            ]
          },
          "metadata": {},
          "execution_count": 35
        }
      ]
    },
    {
      "cell_type": "markdown",
      "source": [
        "### **Training**"
      ],
      "metadata": {
        "id": "Vh8JpzzcYe_G"
      }
    },
    {
      "cell_type": "code",
      "source": [
        "lr = LinearRegression()\n",
        "# lgr = LogisticRegression(random_state=0)"
      ],
      "metadata": {
        "id": "J53dTtdbYg2A"
      },
      "execution_count": 37,
      "outputs": []
    },
    {
      "cell_type": "markdown",
      "source": [
        "X1: Total Area"
      ],
      "metadata": {
        "id": "3sW3B1ZBZV53"
      }
    },
    {
      "cell_type": "code",
      "source": [
        "X = np.array(x1_train).reshape(-1,1)\n",
        "\n",
        "# lgr.fit(X, y1_train)\n",
        "lr.fit(X, y1_train)\n",
        "\n",
        "y1_pred = lr.predict(X)\n",
        "plt.plot(X, y1_pred, color='red')\n",
        "\n",
        "# y1_pred = lgr.predict(X)\n",
        "# plt.plot(X, y1_pred, color='green')\n",
        "\n",
        "plt.scatter(X, y1_train)\n",
        "plt.xlabel('Total Area')\n",
        "plt.ylabel('Highest Point')"
      ],
      "metadata": {
        "colab": {
          "base_uri": "https://localhost:8080/",
          "height": 466
        },
        "id": "7rmX_4OuY7jo",
        "outputId": "7edfd21d-4487-4e2a-c6a3-f0901a20fa79"
      },
      "execution_count": 38,
      "outputs": [
        {
          "output_type": "execute_result",
          "data": {
            "text/plain": [
              "Text(0, 0.5, 'Highest Point')"
            ]
          },
          "metadata": {},
          "execution_count": 38
        },
        {
          "output_type": "display_data",
          "data": {
            "text/plain": [
              "<Figure size 640x480 with 1 Axes>"
            ],
            "image/png": "[encoded data removed]"
          },
          "metadata": {}
        }
      ]
    },
    {
      "cell_type": "markdown",
      "source": [
        "X2: Lowest Point"
      ],
      "metadata": {
        "id": "l6omWwwtbtXp"
      }
    },
    {
      "cell_type": "code",
      "source": [
        "X = np.array(x2_train).reshape(-1,1)\n",
        "lr.fit(X, y1_train)\n",
        "print(lr.coef_)\n",
        "print(lr.intercept_)\n",
        "y2_pred = lr.predict(X)\n",
        "\n",
        "plt.scatter(X, y1_train)\n",
        "plt.plot(X, y2_pred, color='red')\n",
        "plt.xlabel('Lowest Point')\n",
        "plt.ylabel('Highest Point')"
      ],
      "metadata": {
        "colab": {
          "base_uri": "https://localhost:8080/",
          "height": 501
        },
        "id": "CDVRhnzQcKkq",
        "outputId": "bcf6ad66-bb8b-43cf-b0f4-210395d7e702"
      },
      "execution_count": 44,
      "outputs": [
        {
          "output_type": "stream",
          "name": "stdout",
          "text": [
            "[1.72518845]\n",
            "2599.1897403931853\n"
          ]
        },
        {
          "output_type": "execute_result",
          "data": {
            "text/plain": [
              "Text(0, 0.5, 'Highest Point')"
            ]
          },
          "metadata": {},
          "execution_count": 44
        },
        {
          "output_type": "display_data",
          "data": {
            "text/plain": [
              "<Figure size 640x480 with 1 Axes>"
            ],
            "image/png": "[encoded data removed]"
          },
          "metadata": {}
        }
      ]
    },
    {
      "cell_type": "markdown",
      "source": [
        "X3: Water Area"
      ],
      "metadata": {
        "id": "RW75_i_1b3lt"
      }
    },
    {
      "cell_type": "code",
      "source": [
        "X = np.array(x3_train).reshape(-1,1)\n",
        "lr.fit(X, y1_train)\n",
        "y3_pred = lr.predict(X)\n",
        "\n",
        "plt.scatter(X, y1_train)\n",
        "plt.plot(X, y3_pred, color='red')\n",
        "plt.xlabel('Water Area')\n",
        "plt.ylabel('Highest Point')\n",
        "\n",
        "plt.xlim(-2000, 75000)"
      ],
      "metadata": {
        "colab": {
          "base_uri": "https://localhost:8080/",
          "height": 466
        },
        "id": "Q9uvTHYtcLWi",
        "outputId": "2152b2f3-88b6-4995-9371-a38b32b07399"
      },
      "execution_count": null,
      "outputs": [
        {
          "output_type": "execute_result",
          "data": {
            "text/plain": [
              "(-2000.0, 75000.0)"
            ]
          },
          "metadata": {},
          "execution_count": 25
        },
        {
          "output_type": "display_data",
          "data": {
            "text/plain": [
              "<Figure size 640x480 with 1 Axes>"
            ],
            "image/png": "[encoded data removed]"
          },
          "metadata": {}
        }
      ]
    },
    {
      "cell_type": "markdown",
      "source": [
        "X4: Population"
      ],
      "metadata": {
        "id": "wqdnXf8_b-ZJ"
      }
    },
    {
      "cell_type": "code",
      "source": [
        "X = np.array(x4_train).reshape(-1,1)\n",
        "lr.fit(X, y1_train)\n",
        "y4_pred = lr.predict(X)\n",
        "\n",
        "plt.scatter(X, y1_train)\n",
        "plt.plot(X, y4_pred, color='red')\n",
        "plt.xlabel('Population 2023')\n",
        "plt.ylabel('Highest Point')\n",
        "\n",
        "plt.xlim(0, 400000000)"
      ],
      "metadata": {
        "colab": {
          "base_uri": "https://localhost:8080/",
          "height": 466
        },
        "id": "oFNh0fY7cMPa",
        "outputId": "cb802bbe-e205-485b-c6f6-45a19467222f"
      },
      "execution_count": null,
      "outputs": [
        {
          "output_type": "execute_result",
          "data": {
            "text/plain": [
              "(0.0, 400000000.0)"
            ]
          },
          "metadata": {},
          "execution_count": 26
        },
        {
          "output_type": "display_data",
          "data": {
            "text/plain": [
              "<Figure size 640x480 with 1 Axes>"
            ],
            "image/png": "[encoded data removed]"
          },
          "metadata": {}
        }
      ]
    },
    {
      "cell_type": "markdown",
      "source": [
        "### **Evaluation**"
      ],
      "metadata": {
        "id": "nYp_c3eudz4K"
      }
    },
    {
      "cell_type": "code",
      "source": [
        "plt.plot(x1_train, y1_pred, label='Total Area', color='blue')\n",
        "plt.plot(x2_train, y2_pred, label='Lowest point', color='cyan')\n",
        "plt.plot(x3_train, y3_pred, label='Water Area', color='red')\n",
        "plt.plot(x4_train, y4_pred, label='Population', color='green')\n",
        "\n",
        "plt.legend()\n",
        "plt.xlim(-10000, 900009)\n",
        "plt.ylim(1500, 6000)"
      ],
      "metadata": {
        "colab": {
          "base_uri": "https://localhost:8080/",
          "height": 452
        },
        "id": "J9O4Rx1lb9sE",
        "outputId": "7cad3af7-3656-4361-c8a0-cb10a65a3211"
      },
      "execution_count": null,
      "outputs": [
        {
          "output_type": "execute_result",
          "data": {
            "text/plain": [
              "(1500.0, 6000.0)"
            ]
          },
          "metadata": {},
          "execution_count": 26
        },
        {
          "output_type": "display_data",
          "data": {
            "text/plain": [
              "<Figure size 640x480 with 1 Axes>"
            ],
            "image/png": "[encoded data removed]"
          },
          "metadata": {}
        }
      ]
    },
    {
      "cell_type": "markdown",
      "source": [
        "--- Total Area"
      ],
      "metadata": {
        "id": "Rm4DyyP-0P_-"
      }
    },
    {
      "cell_type": "code",
      "source": [
        "print(y1_train.describe())\n",
        "mse = mean_squared_error(y1_train, y1_pred)\n",
        "print(\"MSE:\", mse)\n",
        "\n",
        "# Calculate R2 score\n",
        "r2 = r2_score(y1_train, y1_pred)\n",
        "print(\"R2 score:\", r2)"
      ],
      "metadata": {
        "colab": {
          "base_uri": "https://localhost:8080/"
        },
        "id": "X9xAhjyAuLNN",
        "outputId": "6ec973b8-ca69-4074-ce18-da9140ee4690"
      },
      "execution_count": 43,
      "outputs": [
        {
          "output_type": "stream",
          "name": "stdout",
          "text": [
            "count     120.000000\n",
            "mean     2691.779167\n",
            "std      2048.643924\n",
            "min         5.000000\n",
            "25%      1007.000000\n",
            "50%      2536.000000\n",
            "75%      3624.750000\n",
            "max      8611.000000\n",
            "Name: Maximum.elevation, dtype: float64\n",
            "MSE: 3749783.118627857\n",
            "R2 score: 0.0990359251414965\n"
          ]
        }
      ]
    },
    {
      "cell_type": "code",
      "source": [
        "print(y1_val.describe())\n",
        "\n",
        "X = np.array(x1_val).reshape(-1,1)\n",
        "y1_pred_test = lr.predict(X)\n",
        "mse = mean_squared_error(y1_val, y1_pred_test)\n",
        "print(\"MSE:\", mse)\n",
        "\n",
        "# Calculate R2 score\n",
        "r2 = r2_score(y1_val, y1_pred_test)\n",
        "print(\"R2 score:\", r2)"
      ],
      "metadata": {
        "id": "F9lLhAMShYQK",
        "colab": {
          "base_uri": "https://localhost:8080/"
        },
        "outputId": "74c291fa-d048-464b-d3ff-d0317cc0f1ff"
      },
      "execution_count": 40,
      "outputs": [
        {
          "output_type": "stream",
          "name": "stdout",
          "text": [
            "count      52.000000\n",
            "mean     2550.134615\n",
            "std      1909.335384\n",
            "min        64.000000\n",
            "25%      1155.750000\n",
            "50%      2390.000000\n",
            "75%      2966.000000\n",
            "max      8848.000000\n",
            "Name: Maximum.elevation, dtype: float64\n",
            "MSE: 3430094.372713267\n",
            "R2 score: 0.04065504845401513\n"
          ]
        }
      ]
    },
    {
      "cell_type": "markdown",
      "source": [
        "--- Lowest Point"
      ],
      "metadata": {
        "id": "xCX3qkvs0U_l"
      }
    },
    {
      "cell_type": "code",
      "source": [
        "print(y2_train.describe())\n",
        "mse = mean_squared_error(y2_train, y2_pred)\n",
        "print(\"MSE:\", mse)\n",
        "\n",
        "# Calculate R2 score\n",
        "r2 = r2_score(y2_train, y2_pred)\n",
        "print(\"R2 score:\", r2)"
      ],
      "metadata": {
        "colab": {
          "base_uri": "https://localhost:8080/"
        },
        "id": "WCE_UEkbze74",
        "outputId": "75d51b14-ee66-491c-a745-ca008dfb3645"
      },
      "execution_count": 45,
      "outputs": [
        {
          "output_type": "stream",
          "name": "stdout",
          "text": [
            "count     120.000000\n",
            "mean     2691.779167\n",
            "std      2048.643924\n",
            "min         5.000000\n",
            "25%      1007.000000\n",
            "50%      2536.000000\n",
            "75%      3624.750000\n",
            "max      8611.000000\n",
            "Name: Maximum.elevation, dtype: float64\n",
            "MSE: 4038943.604135685\n",
            "R2 score: 0.029559051127906022\n"
          ]
        }
      ]
    },
    {
      "cell_type": "code",
      "source": [
        "print(y2_val.describe())\n",
        "\n",
        "X = np.array(x2_val).reshape(-1,1)\n",
        "y2_pred_test = lr.predict(X)\n",
        "mse = mean_squared_error(y2_val, y2_pred_test)\n",
        "print(\"MSE:\", mse)\n",
        "\n",
        "# Calculate R2 score\n",
        "r2 = r2_score(y2_val, y2_pred_test)\n",
        "print(\"R2 score:\", r2)"
      ],
      "metadata": {
        "colab": {
          "base_uri": "https://localhost:8080/"
        },
        "id": "4vtQKjC3uGlY",
        "outputId": "665ed927-558a-41a1-9d37-533c783e0c20"
      },
      "execution_count": 46,
      "outputs": [
        {
          "output_type": "stream",
          "name": "stdout",
          "text": [
            "count      52.000000\n",
            "mean     2550.134615\n",
            "std      1909.335384\n",
            "min        64.000000\n",
            "25%      1155.750000\n",
            "50%      2390.000000\n",
            "75%      2966.000000\n",
            "max      8848.000000\n",
            "Name: Maximum.elevation, dtype: float64\n",
            "MSE: 3613053.8713226574\n",
            "R2 score: -0.010515925943830107\n"
          ]
        }
      ]
    },
    {
      "cell_type": "markdown",
      "source": [
        "--- Water Area"
      ],
      "metadata": {
        "id": "OEVFHcl90jYT"
      }
    },
    {
      "cell_type": "code",
      "source": [
        "print(y3_train.describe())\n",
        "mse = mean_squared_error(y3_train, y3_pred)\n",
        "print(\"MSE:\", mse)\n",
        "\n",
        "# Calculate R2 score\n",
        "r2 = r2_score(y3_train, y3_pred)\n",
        "print(\"R2 score:\", r2)"
      ],
      "metadata": {
        "colab": {
          "base_uri": "https://localhost:8080/"
        },
        "id": "cbeeKn7wzmMi",
        "outputId": "637be39a-e949-4677-d0e5-225c8eaaadd9"
      },
      "execution_count": null,
      "outputs": [
        {
          "output_type": "stream",
          "name": "stdout",
          "text": [
            "count     120.000000\n",
            "mean     2691.779167\n",
            "std      2048.643924\n",
            "min         5.000000\n",
            "25%      1007.000000\n",
            "50%      2536.000000\n",
            "75%      3624.750000\n",
            "max      8611.000000\n",
            "Name: Maximum.elevation, dtype: float64\n",
            "MSE: 3709864.851031907\n",
            "R2 score: 0.1086271265248181\n"
          ]
        }
      ]
    },
    {
      "cell_type": "markdown",
      "source": [
        "--- Population (2023)"
      ],
      "metadata": {
        "id": "qUOR9RGh0ts4"
      }
    },
    {
      "cell_type": "code",
      "source": [
        "print(y4_train.describe())\n",
        "mse = mean_squared_error(y4_train, y4_pred)\n",
        "print(\"MSE:\", mse)\n",
        "\n",
        "# Calculate R2 score\n",
        "r2 = r2_score(y4_train, y4_pred)\n",
        "print(\"R2 score:\", r2)"
      ],
      "metadata": {
        "colab": {
          "base_uri": "https://localhost:8080/"
        },
        "id": "pHWCBliE0vpi",
        "outputId": "6ca8938d-681e-4a0f-ea0c-18023c3a9d4e"
      },
      "execution_count": null,
      "outputs": [
        {
          "output_type": "stream",
          "name": "stdout",
          "text": [
            "count     120.000000\n",
            "mean     2691.779167\n",
            "std      2048.643924\n",
            "min         5.000000\n",
            "25%      1007.000000\n",
            "50%      2536.000000\n",
            "75%      3624.750000\n",
            "max      8611.000000\n",
            "Name: Maximum.elevation, dtype: float64\n",
            "MSE: 3546939.053142722\n",
            "R2 score: 0.14777346809230774\n"
          ]
        }
      ]
    },
    {
      "cell_type": "markdown",
      "source": [
        "Mimimum Elevation (Lowest Point) has the lowest R2 score, therefore Maximum Elevation is most likely not linearly dependent on this factor.\n",
        "The Total Area has a higher R2 score and therefore a better model between the two.\n",
        "\n",
        "Suprisingly, Water Area and Population seem to have better correlation with the Maximum Elevation. These models produce relatively bad models (very low R2 scores also) but are seemingly better than that of Minimum Elevation and Total Area. Population (2023) has the highest R2 score of all four factors. \n",
        "\n",
        "The MSE is used to try and account for outliers as it penalizes such errors heavily. "
      ],
      "metadata": {
        "id": "HXfWUtOwkKn-"
      }
    },
    {
      "cell_type": "markdown",
      "source": [
        "# ***Multivariable Regression***\n"
      ],
      "metadata": {
        "id": "mH6zI57o3Sro"
      }
    },
    {
      "cell_type": "markdown",
      "source": [
        "### **Data**"
      ],
      "metadata": {
        "id": "tglQsudB3Y00"
      }
    },
    {
      "cell_type": "code",
      "source": [
        "data_ds.head()"
      ],
      "metadata": {
        "colab": {
          "base_uri": "https://localhost:8080/",
          "height": 206
        },
        "id": "AesZjMah4ouz",
        "outputId": "60ecc777-1ca9-4a52-871d-79f60921a1e5"
      },
      "execution_count": 4,
      "outputs": [
        {
          "output_type": "execute_result",
          "data": {
            "text/plain": [
              "            Country  TotalArea  LandArea  WaterArea  \\\n",
              "0            Tuvalu       26.0      26.0        0.0   \n",
              "1  Marshall Islands      181.0     181.0    11673.0   \n",
              "2           Bahamas    13943.0   10010.0     3870.0   \n",
              "3            Gambia    11295.0   10000.0     1295.0   \n",
              "4             Nauru       21.0      21.0        0.0   \n",
              "\n",
              "                   Highest.point  Maximum.elevation          Lowest.point  \\\n",
              "0  Unnamed location on Niulakita                5.0   South Pacific Ocean   \n",
              "1     Unnamed location on Likiep               10.0   North Pacific Ocean   \n",
              "2   Mount Alvernia on Cat Island               63.0  North Atlantic Ocean   \n",
              "3                  Unnamed point               64.0  North Atlantic Ocean   \n",
              "4                  Command Ridge               65.0   South Pacific Ocean   \n",
              "\n",
              "   Minimum.elevation  Pop2023  \n",
              "0                0.0    11396  \n",
              "1                0.0    41996  \n",
              "2                0.0   412624  \n",
              "3                0.0  2773168  \n",
              "4                0.0     1278  "
            ],
            "text/html": [
              "\n",
              "  <div id=\"df-074bd851-2086-4a90-8f64-25bca407a092\">\n",
              "    <div class=\"colab-df-container\">\n",
              "      <div>\n",
              "<style scoped>\n",
              "    .dataframe tbody tr th:only-of-type {\n",
              "        vertical-align: middle;\n",
              "    }\n",
              "\n",
              "    .dataframe tbody tr th {\n",
              "        vertical-align: top;\n",
              "    }\n",
              "\n",
              "    .dataframe thead th {\n",
              "        text-align: right;\n",
              "    }\n",
              "</style>\n",
              "<table border=\"1\" class=\"dataframe\">\n",
              "  <thead>\n",
              "    <tr style=\"text-align: right;\">\n",
              "      <th></th>\n",
              "      <th>Country</th>\n",
              "      <th>TotalArea</th>\n",
              "      <th>LandArea</th>\n",
              "      <th>WaterArea</th>\n",
              "      <th>Highest.point</th>\n",
              "      <th>Maximum.elevation</th>\n",
              "      <th>Lowest.point</th>\n",
              "      <th>Minimum.elevation</th>\n",
              "      <th>Pop2023</th>\n",
              "    </tr>\n",
              "  </thead>\n",
              "  <tbody>\n",
              "    <tr>\n",
              "      <th>0</th>\n",
              "      <td>Tuvalu</td>\n",
              "      <td>26.0</td>\n",
              "      <td>26.0</td>\n",
              "      <td>0.0</td>\n",
              "      <td>Unnamed location on Niulakita</td>\n",
              "      <td>5.0</td>\n",
              "      <td>South Pacific Ocean</td>\n",
              "      <td>0.0</td>\n",
              "      <td>11396</td>\n",
              "    </tr>\n",
              "    <tr>\n",
              "      <th>1</th>\n",
              "      <td>Marshall Islands</td>\n",
              "      <td>181.0</td>\n",
              "      <td>181.0</td>\n",
              "      <td>11673.0</td>\n",
              "      <td>Unnamed location on Likiep</td>\n",
              "      <td>10.0</td>\n",
              "      <td>North Pacific Ocean</td>\n",
              "      <td>0.0</td>\n",
              "      <td>41996</td>\n",
              "    </tr>\n",
              "    <tr>\n",
              "      <th>2</th>\n",
              "      <td>Bahamas</td>\n",
              "      <td>13943.0</td>\n",
              "      <td>10010.0</td>\n",
              "      <td>3870.0</td>\n",
              "      <td>Mount Alvernia on Cat Island</td>\n",
              "      <td>63.0</td>\n",
              "      <td>North Atlantic Ocean</td>\n",
              "      <td>0.0</td>\n",
              "      <td>412624</td>\n",
              "    </tr>\n",
              "    <tr>\n",
              "      <th>3</th>\n",
              "      <td>Gambia</td>\n",
              "      <td>11295.0</td>\n",
              "      <td>10000.0</td>\n",
              "      <td>1295.0</td>\n",
              "      <td>Unnamed point</td>\n",
              "      <td>64.0</td>\n",
              "      <td>North Atlantic Ocean</td>\n",
              "      <td>0.0</td>\n",
              "      <td>2773168</td>\n",
              "    </tr>\n",
              "    <tr>\n",
              "      <th>4</th>\n",
              "      <td>Nauru</td>\n",
              "      <td>21.0</td>\n",
              "      <td>21.0</td>\n",
              "      <td>0.0</td>\n",
              "      <td>Command Ridge</td>\n",
              "      <td>65.0</td>\n",
              "      <td>South Pacific Ocean</td>\n",
              "      <td>0.0</td>\n",
              "      <td>1278</td>\n",
              "    </tr>\n",
              "  </tbody>\n",
              "</table>\n",
              "</div>\n",
              "      <button class=\"colab-df-convert\" onclick=\"convertToInteractive('df-074bd851-2086-4a90-8f64-25bca407a092')\"\n",
              "              title=\"Convert this dataframe to an interactive table.\"\n",
              "              style=\"display:none;\">\n",
              "        \n",
              "  <svg xmlns=\"http://www.w3.org/2000/svg\" height=\"24px\"viewBox=\"0 0 24 24\"\n",
              "       width=\"24px\">\n",
              "    <path d=\"M0 0h24v24H0V0z\" fill=\"none\"/>\n",
              "    <path d=\"M18.56 5.44l.94 2.06.94-2.06 2.06-.94-2.06-.94-.94-2.06-.94 2.06-2.06.94zm-11 1L8.5 8.5l.94-2.06 2.06-.94-2.06-.94L8.5 2.5l-.94 2.06-2.06.94zm10 10l.94 2.06.94-2.06 2.06-.94-2.06-.94-.94-2.06-.94 2.06-2.06.94z\"/><path d=\"M17.41 7.96l-1.37-1.37c-.4-.4-.92-.59-1.43-.59-.52 0-1.04.2-1.43.59L10.3 9.45l-7.72 7.72c-.78.78-.78 2.05 0 2.83L4 21.41c.39.39.9.59 1.41.59.51 0 1.02-.2 1.41-.59l7.78-7.78 2.81-2.81c.8-.78.8-2.07 0-2.86zM5.41 20L4 18.59l7.72-7.72 1.47 1.35L5.41 20z\"/>\n",
              "  </svg>\n",
              "      </button>\n",
              "      \n",
              "  <style>\n",
              "    .colab-df-container {\n",
              "      display:flex;\n",
              "      flex-wrap:wrap;\n",
              "      gap: 12px;\n",
              "    }\n",
              "\n",
              "    .colab-df-convert {\n",
              "      background-color: #E8F0FE;\n",
              "      border: none;\n",
              "      border-radius: 50%;\n",
              "      cursor: pointer;\n",
              "      display: none;\n",
              "      fill: #1967D2;\n",
              "      height: 32px;\n",
              "      padding: 0 0 0 0;\n",
              "      width: 32px;\n",
              "    }\n",
              "\n",
              "    .colab-df-convert:hover {\n",
              "      background-color: #E2EBFA;\n",
              "      box-shadow: 0px 1px 2px rgba(60, 64, 67, 0.3), 0px 1px 3px 1px rgba(60, 64, 67, 0.15);\n",
              "      fill: #174EA6;\n",
              "    }\n",
              "\n",
              "    [theme=dark] .colab-df-convert {\n",
              "      background-color: #3B4455;\n",
              "      fill: #D2E3FC;\n",
              "    }\n",
              "\n",
              "    [theme=dark] .colab-df-convert:hover {\n",
              "      background-color: #434B5C;\n",
              "      box-shadow: 0px 1px 3px 1px rgba(0, 0, 0, 0.15);\n",
              "      filter: drop-shadow(0px 1px 2px rgba(0, 0, 0, 0.3));\n",
              "      fill: #FFFFFF;\n",
              "    }\n",
              "  </style>\n",
              "\n",
              "      <script>\n",
              "        const buttonEl =\n",
              "          document.querySelector('#df-074bd851-2086-4a90-8f64-25bca407a092 button.colab-df-convert');\n",
              "        buttonEl.style.display =\n",
              "          google.colab.kernel.accessAllowed ? 'block' : 'none';\n",
              "\n",
              "        async function convertToInteractive(key) {\n",
              "          const element = document.querySelector('#df-074bd851-2086-4a90-8f64-25bca407a092');\n",
              "          const dataTable =\n",
              "            await google.colab.kernel.invokeFunction('convertToInteractive',\n",
              "                                                     [key], {});\n",
              "          if (!dataTable) return;\n",
              "\n",
              "          const docLinkHtml = 'Like what you see? Visit the ' +\n",
              "            '<a target=\"_blank\" href=https://colab.research.google.com/notebooks/data_table.ipynb>data table notebook</a>'\n",
              "            + ' to learn more about interactive tables.';\n",
              "          element.innerHTML = '';\n",
              "          dataTable['output_type'] = 'display_data';\n",
              "          await google.colab.output.renderOutput(dataTable, element);\n",
              "          const docLink = document.createElement('div');\n",
              "          docLink.innerHTML = docLinkHtml;\n",
              "          element.appendChild(docLink);\n",
              "        }\n",
              "      </script>\n",
              "    </div>\n",
              "  </div>\n",
              "  "
            ]
          },
          "metadata": {},
          "execution_count": 4
        }
      ]
    },
    {
      "cell_type": "code",
      "source": [
        "y = data_ds['Maximum.elevation']\n",
        "x = data_ds.drop(columns = ['Country', 'Highest.point', 'Lowest.point', 'Maximum.elevation', 'Pop2023'])\n",
        "print(y)\n",
        "print(x)"
      ],
      "metadata": {
        "colab": {
          "base_uri": "https://localhost:8080/"
        },
        "id": "PfRflh7p3cas",
        "outputId": "db879806-50d1-4679-8e43-52b00fab3f0d"
      },
      "execution_count": 5,
      "outputs": [
        {
          "output_type": "stream",
          "name": "stdout",
          "text": [
            "0         5.0\n",
            "1        10.0\n",
            "2        63.0\n",
            "3        64.0\n",
            "4        65.0\n",
            "        ...  \n",
            "167    7570.0\n",
            "168    8586.0\n",
            "169    8611.0\n",
            "170    8848.0\n",
            "171    6190.5\n",
            "Name: Maximum.elevation, Length: 172, dtype: float64\n",
            "     TotalArea   LandArea  WaterArea  Minimum.elevation\n",
            "0         26.0       26.0        0.0                0.0\n",
            "1        181.0      181.0    11673.0                0.0\n",
            "2      13943.0    10010.0     3870.0                0.0\n",
            "3      11295.0    10000.0     1295.0                0.0\n",
            "4         21.0       21.0        0.0                0.0\n",
            "..         ...        ...        ...                ...\n",
            "167    38394.0    38394.0        0.0               97.0\n",
            "168  3287263.0  2973190.0   314073.0               -2.0\n",
            "169   881913.0   856690.0    25223.0                0.0\n",
            "170   147516.0   143686.0     3830.0               59.0\n",
            "171  9833517.0  9147593.0   685924.0              -85.5\n",
            "\n",
            "[172 rows x 4 columns]\n"
          ]
        }
      ]
    },
    {
      "cell_type": "markdown",
      "source": [
        "### **Split Dataset**"
      ],
      "metadata": {
        "id": "8cRjmtCCm1L7"
      }
    },
    {
      "cell_type": "code",
      "source": [
        "x_train, x_val, y_train, y_val = train_test_split(x, y, test_size=0.3, random_state=21)\n",
        "print(y.size)"
      ],
      "metadata": {
        "colab": {
          "base_uri": "https://localhost:8080/"
        },
        "id": "72cuDHddm373",
        "outputId": "d93dc2c9-3145-4470-e49e-b50e07a4aea6"
      },
      "execution_count": 20,
      "outputs": [
        {
          "output_type": "stream",
          "name": "stdout",
          "text": [
            "172\n"
          ]
        }
      ]
    },
    {
      "cell_type": "markdown",
      "source": [
        "### **Training**"
      ],
      "metadata": {
        "id": "WPpioME7m_hA"
      }
    },
    {
      "cell_type": "code",
      "source": [
        "LR = LinearRegression()\n",
        "\n",
        "LR.fit(x_train, y_train)\n",
        "y_pred = LR.predict(x_train)\n",
        "\n",
        "# plt.plot(x_train, y_pred)\n",
        "plt.scatter(y_train, y_pred)\n",
        "plt.xlabel('Actual Y')\n",
        "plt.ylabel('Predicted Y')"
      ],
      "metadata": {
        "colab": {
          "base_uri": "https://localhost:8080/",
          "height": 466
        },
        "id": "VaeCQQN0nEnn",
        "outputId": "f6072d2b-c168-4fa1-eaee-782d44ea8fea"
      },
      "execution_count": 50,
      "outputs": [
        {
          "output_type": "execute_result",
          "data": {
            "text/plain": [
              "Text(0, 0.5, 'Predicted Y')"
            ]
          },
          "metadata": {},
          "execution_count": 50
        },
        {
          "output_type": "display_data",
          "data": {
            "text/plain": [
              "<Figure size 640x480 with 1 Axes>"
            ],
            "image/png": "[encoded data removed]"
          },
          "metadata": {}
        }
      ]
    },
    {
      "cell_type": "code",
      "source": [
        "y_pred_test = LR.predict(x_val)\n",
        "\n",
        "# plt.plot(x_train, y_pred)\n",
        "plt.scatter(y_val, y_pred_test)\n",
        "plt.xlabel('Actual Y')\n",
        "plt.ylabel('Predicted Y')"
      ],
      "metadata": {
        "colab": {
          "base_uri": "https://localhost:8080/",
          "height": 466
        },
        "id": "8eCmzEnmsOKh",
        "outputId": "e4b5cba8-e98f-4ffc-bc6f-3b1e847b3c8b"
      },
      "execution_count": 31,
      "outputs": [
        {
          "output_type": "execute_result",
          "data": {
            "text/plain": [
              "Text(0, 0.5, 'Predicted Y')"
            ]
          },
          "metadata": {},
          "execution_count": 31
        },
        {
          "output_type": "display_data",
          "data": {
            "text/plain": [
              "<Figure size 640x480 with 1 Axes>"
            ],
            "image/png": "[encoded data removed]"
          },
          "metadata": {}
        }
      ]
    },
    {
      "cell_type": "markdown",
      "source": [
        "### **Evaluation**"
      ],
      "metadata": {
        "id": "zhz_E2SlrHNC"
      }
    },
    {
      "cell_type": "code",
      "source": [
        "print(y_train.describe())\n",
        "mse = mean_squared_error(y_train, y_pred)\n",
        "print(\"MSE:\", mse)\n",
        "\n",
        "# Calculate R2 score\n",
        "r2 = r2_score(y_train, y_pred)\n",
        "print(\"R2 score:\", r2)"
      ],
      "metadata": {
        "colab": {
          "base_uri": "https://localhost:8080/"
        },
        "id": "jwyNcPJRrA6x",
        "outputId": "c5f2c7ec-e033-4cee-b0b1-beb2f3f18e3d"
      },
      "execution_count": 48,
      "outputs": [
        {
          "output_type": "stream",
          "name": "stdout",
          "text": [
            "count     120.000000\n",
            "mean     2744.562500\n",
            "std      2075.487484\n",
            "min         5.000000\n",
            "25%      1147.250000\n",
            "50%      2529.000000\n",
            "75%      3624.750000\n",
            "max      8848.000000\n",
            "Name: Maximum.elevation, dtype: float64\n",
            "MSE: 3435633.6862292592\n",
            "R2 score: 0.1957317963093097\n"
          ]
        }
      ]
    },
    {
      "cell_type": "code",
      "source": [
        "print(y_val.describe())\n",
        "mse = mean_squared_error(y_val, y_pred_test)\n",
        "print(\"MSE:\", mse)\n",
        "\n",
        "# Calculate R2 score\n",
        "r2 = r2_score(y_val, y_pred_test)\n",
        "print(\"R2 score:\", r2)"
      ],
      "metadata": {
        "colab": {
          "base_uri": "https://localhost:8080/"
        },
        "id": "QtoHbb3puth_",
        "outputId": "22df767f-9dbb-48b1-9b70-bae40387125b"
      },
      "execution_count": 49,
      "outputs": [
        {
          "output_type": "stream",
          "name": "stdout",
          "text": [
            "count      52.000000\n",
            "mean     2428.326923\n",
            "std      1824.932830\n",
            "min        63.000000\n",
            "25%       995.500000\n",
            "50%      2459.000000\n",
            "75%      3215.500000\n",
            "max      7492.000000\n",
            "Name: Maximum.elevation, dtype: float64\n",
            "MSE: 3392613.491943538\n",
            "R2 score: -0.03866090338159833\n"
          ]
        }
      ]
    },
    {
      "cell_type": "markdown",
      "source": [
        "*Negative R2 score  :=  Really bad model*"
      ],
      "metadata": {
        "id": "oq91zM8buz76"
      }
    }
  ]
}